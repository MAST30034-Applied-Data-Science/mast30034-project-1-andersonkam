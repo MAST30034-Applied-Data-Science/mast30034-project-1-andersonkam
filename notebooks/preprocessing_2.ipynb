{
 "cells": [
  {
   "cell_type": "code",
   "execution_count": 22,
   "metadata": {},
   "outputs": [],
   "source": [
    "from pyspark.sql import SparkSession\n",
    "from pyspark.sql import functions as F\n",
    "import pandas as pd"
   ]
  },
  {
   "cell_type": "code",
   "execution_count": 8,
   "metadata": {},
   "outputs": [],
   "source": [
    "spark = (\n",
    "    SparkSession.builder.appName(\"preprocessing of taxi data\")\n",
    "    .config(\"spark.sql.repl.eagerEval.enabled\", True) \n",
    "    .config(\"spark.sql.parquet.cacheMetadata\", \"true\")\n",
    "    .config(\"spark.sql.session.timeZone\", \"Etc/UTC\")\n",
    "    .config(\"spark.driver.memory\", \"15g\")\n",
    "    .getOrCreate()\n",
    ")"
   ]
  },
  {
   "cell_type": "code",
   "execution_count": 9,
   "metadata": {},
   "outputs": [
    {
     "name": "stdout",
     "output_type": "stream",
     "text": [
      "+--------------------+---------------------+------------+------------+--------------+\n",
      "|tpep_pickup_datetime|tpep_dropoff_datetime|PULocationID|DOLocationID|duration (sec)|\n",
      "+--------------------+---------------------+------------+------------+--------------+\n",
      "| 2016-03-01 00:53:35|  2016-03-01 00:57:11|         226|         226|           216|\n",
      "| 2016-03-01 00:15:13|  2016-03-01 00:15:26|         145|         145|            13|\n",
      "| 2016-03-01 00:15:46|  2016-03-01 00:16:00|         145|         145|            14|\n",
      "| 2016-03-01 00:16:17|  2016-03-01 00:16:23|         145|         145|             6|\n",
      "| 2016-03-01 00:16:45|  2016-03-01 00:18:14|         145|         145|            89|\n",
      "| 2016-03-01 00:18:42|  2016-03-01 00:19:12|         145|         145|            30|\n",
      "| 2016-03-01 00:19:34|  2016-03-01 00:19:53|         145|         145|            19|\n",
      "| 2016-03-01 00:20:08|  2016-03-01 00:20:42|         145|         145|            34|\n",
      "| 2016-03-01 00:20:57|  2016-03-01 00:21:14|         145|         145|            17|\n",
      "| 2016-03-01 00:21:30|  2016-03-01 00:21:54|         145|         145|            24|\n",
      "| 2016-03-01 00:22:08|  2016-03-01 00:22:26|         145|         145|            18|\n",
      "| 2016-03-01 00:38:58|  2016-03-01 00:39:27|         145|         145|            29|\n",
      "| 2016-03-01 00:06:22|  2016-03-01 00:10:42|          43|         151|           260|\n",
      "| 2016-03-01 00:23:21|  2016-03-01 00:28:58|         237|          74|           337|\n",
      "| 2016-03-01 00:37:19|  2016-03-01 00:44:11|         236|          43|           412|\n",
      "| 2016-03-01 00:34:53|  2016-03-01 00:46:14|          95|         216|           681|\n",
      "| 2016-03-01 00:30:27|  2016-03-01 00:53:09|         170|         129|          1362|\n",
      "| 2016-03-01 00:09:43|  2016-03-01 00:18:42|         163|         137|           539|\n",
      "| 2016-03-01 00:32:15|  2016-03-01 00:40:18|         163|         233|           483|\n",
      "| 2016-03-01 00:42:01|  2016-03-01 01:08:40|         233|          16|          1599|\n",
      "+--------------------+---------------------+------------+------------+--------------+\n",
      "only showing top 20 rows\n",
      "\n",
      "239520909\n"
     ]
    }
   ],
   "source": [
    "sdf = spark.read.parquet(\"../data/curated/preprocess_result1\")\n",
    "sdf.show()\n",
    "print(sdf.count())"
   ]
  },
  {
   "cell_type": "code",
   "execution_count": 10,
   "metadata": {},
   "outputs": [
    {
     "data": {
      "text/html": [
       "<table border='1'>\n",
       "<tr><th>summary</th><th>duration (sec)</th></tr>\n",
       "<tr><td>count</td><td>239520909</td></tr>\n",
       "<tr><td>mean</td><td>860.1338363115514</td></tr>\n",
       "<tr><td>stddev</td><td>718.8330722537778</td></tr>\n",
       "<tr><td>min</td><td>0</td></tr>\n",
       "<tr><td>max</td><td>35997</td></tr>\n",
       "</table>\n"
      ],
      "text/plain": [
       "+-------+-----------------+\n",
       "|summary|   duration (sec)|\n",
       "+-------+-----------------+\n",
       "|  count|        239520909|\n",
       "|   mean|860.1338363115514|\n",
       "| stddev|718.8330722537778|\n",
       "|    min|                0|\n",
       "|    max|            35997|\n",
       "+-------+-----------------+"
      ]
     },
     "execution_count": 10,
     "metadata": {},
     "output_type": "execute_result"
    }
   ],
   "source": [
    "sdf.describe(\"duration (sec)\")"
   ]
  },
  {
   "cell_type": "code",
   "execution_count": 12,
   "metadata": {},
   "outputs": [
    {
     "name": "stderr",
     "output_type": "stream",
     "text": [
      "                                                                                \r"
     ]
    },
    {
     "data": {
      "text/plain": [
       "[0.0, 586.0, 35997.0, 35997.0]"
      ]
     },
     "execution_count": 12,
     "metadata": {},
     "output_type": "execute_result"
    }
   ],
   "source": [
    "sdf.approxQuantile(\"duration (sec)\", [0.25, 0.5, 0.75, 0.99], 0.25)"
   ]
  },
  {
   "cell_type": "code",
   "execution_count": 21,
   "metadata": {},
   "outputs": [
    {
     "name": "stderr",
     "output_type": "stream",
     "text": [
      "                                                                                \r"
     ]
    }
   ],
   "source": [
    "SAMPLE_SIZE = 0.001\n",
    "df = sdf.sample(SAMPLE_SIZE, seed=0).toPandas()\n"
   ]
  },
  {
   "cell_type": "code",
   "execution_count": 23,
   "metadata": {},
   "outputs": [
    {
     "ename": "TypeError",
     "evalue": "'tuple' object is not callable",
     "output_type": "error",
     "traceback": [
      "\u001b[0;31m---------------------------------------------------------------------------\u001b[0m",
      "\u001b[0;31mTypeError\u001b[0m                                 Traceback (most recent call last)",
      "\u001b[1;32m/Users/andersonkam/Documents/GitHub/mast30034-project-1-andersonkam/notebooks/preprocessing_2.ipynb Cell 7'\u001b[0m in \u001b[0;36m<cell line: 1>\u001b[0;34m()\u001b[0m\n\u001b[0;32m----> <a href='vscode-notebook-cell:/Users/andersonkam/Documents/GitHub/mast30034-project-1-andersonkam/notebooks/preprocessing_2.ipynb#ch0000007?line=0'>1</a>\u001b[0m df\u001b[39m.\u001b[39;49mshape()\n",
      "\u001b[0;31mTypeError\u001b[0m: 'tuple' object is not callable"
     ]
    }
   ],
   "source": []
  }
 ],
 "metadata": {
  "kernelspec": {
   "display_name": "Python 3.8.9 64-bit",
   "language": "python",
   "name": "python3"
  },
  "language_info": {
   "codemirror_mode": {
    "name": "ipython",
    "version": 3
   },
   "file_extension": ".py",
   "mimetype": "text/x-python",
   "name": "python",
   "nbconvert_exporter": "python",
   "pygments_lexer": "ipython3",
   "version": "3.8.9"
  },
  "orig_nbformat": 4,
  "vscode": {
   "interpreter": {
    "hash": "31f2aee4e71d21fbe5cf8b01ff0e069b9275f58929596ceb00d14d90e3e16cd6"
   }
  }
 },
 "nbformat": 4,
 "nbformat_minor": 2
}
