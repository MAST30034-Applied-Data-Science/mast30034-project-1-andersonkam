{
 "cells": [
  {
   "cell_type": "code",
   "execution_count": 1,
   "metadata": {},
   "outputs": [],
   "source": [
    "from pyspark.sql import SparkSession\n",
    "from pyspark.sql import functions as F"
   ]
  },
  {
   "cell_type": "code",
   "execution_count": 2,
   "metadata": {},
   "outputs": [
    {
     "name": "stderr",
     "output_type": "stream",
     "text": [
      "Setting default log level to \"WARN\".\n",
      "To adjust logging level use sc.setLogLevel(newLevel). For SparkR, use setLogLevel(newLevel).\n"
     ]
    },
    {
     "name": "stdout",
     "output_type": "stream",
     "text": [
      "22/08/08 22:18:30 WARN NativeCodeLoader: Unable to load native-hadoop library for your platform... using builtin-java classes where applicable\n",
      "22/08/08 22:18:30 WARN Utils: Service 'SparkUI' could not bind on port 4040. Attempting port 4041.\n"
     ]
    }
   ],
   "source": [
    "spark = (\n",
    "    SparkSession.builder.appName(\"preprocessing of taxi data\")\n",
    "    .config(\"spark.sql.repl.eagerEval.enabled\", True) \n",
    "    .config(\"spark.sql.parquet.cacheMetadata\", \"true\")\n",
    "    .config(\"spark.sql.session.timeZone\", \"Etc/UTC\")\n",
    "    .config(\"spark.driver.memory\", \"15g\")\n",
    "    .getOrCreate()\n",
    ")"
   ]
  },
  {
   "cell_type": "code",
   "execution_count": 4,
   "metadata": {},
   "outputs": [
    {
     "name": "stdout",
     "output_type": "stream",
     "text": [
      "+--------------------+---------------------+------------+------------+--------------+\n",
      "|tpep_pickup_datetime|tpep_dropoff_datetime|PULocationID|DOLocationID|duration (sec)|\n",
      "+--------------------+---------------------+------------+------------+--------------+\n",
      "| 2016-03-01 00:53:35|  2016-03-01 00:57:11|         226|         226|           216|\n",
      "| 2016-03-01 00:15:13|  2016-03-01 00:15:26|         145|         145|            13|\n",
      "| 2016-03-01 00:15:46|  2016-03-01 00:16:00|         145|         145|            14|\n",
      "| 2016-03-01 00:16:17|  2016-03-01 00:16:23|         145|         145|             6|\n",
      "| 2016-03-01 00:16:45|  2016-03-01 00:18:14|         145|         145|            89|\n",
      "| 2016-03-01 00:18:42|  2016-03-01 00:19:12|         145|         145|            30|\n",
      "| 2016-03-01 00:19:34|  2016-03-01 00:19:53|         145|         145|            19|\n",
      "| 2016-03-01 00:20:08|  2016-03-01 00:20:42|         145|         145|            34|\n",
      "| 2016-03-01 00:20:57|  2016-03-01 00:21:14|         145|         145|            17|\n",
      "| 2016-03-01 00:21:30|  2016-03-01 00:21:54|         145|         145|            24|\n",
      "| 2016-03-01 00:22:08|  2016-03-01 00:22:26|         145|         145|            18|\n",
      "| 2016-03-01 00:38:58|  2016-03-01 00:39:27|         145|         145|            29|\n",
      "| 2016-03-01 00:06:22|  2016-03-01 00:10:42|          43|         151|           260|\n",
      "| 2016-03-01 00:23:21|  2016-03-01 00:28:58|         237|          74|           337|\n",
      "| 2016-03-01 00:37:19|  2016-03-01 00:44:11|         236|          43|           412|\n",
      "| 2016-03-01 00:34:53|  2016-03-01 00:46:14|          95|         216|           681|\n",
      "| 2016-03-01 00:30:27|  2016-03-01 00:53:09|         170|         129|          1362|\n",
      "| 2016-03-01 00:09:43|  2016-03-01 00:18:42|         163|         137|           539|\n",
      "| 2016-03-01 00:32:15|  2016-03-01 00:40:18|         163|         233|           483|\n",
      "| 2016-03-01 00:42:01|  2016-03-01 01:08:40|         233|          16|          1599|\n",
      "+--------------------+---------------------+------------+------------+--------------+\n",
      "only showing top 20 rows\n",
      "\n",
      "239520909\n"
     ]
    }
   ],
   "source": [
    "sdf = spark.read.parquet(\"../data/curated/preprocess_result1\")\n",
    "sdf.show()\n",
    "print(sdf.count())"
   ]
  },
  {
   "cell_type": "code",
   "execution_count": null,
   "metadata": {},
   "outputs": [],
   "source": []
  }
 ],
 "metadata": {
  "kernelspec": {
   "display_name": "Python 3.8.9 64-bit",
   "language": "python",
   "name": "python3"
  },
  "language_info": {
   "codemirror_mode": {
    "name": "ipython",
    "version": 3
   },
   "file_extension": ".py",
   "mimetype": "text/x-python",
   "name": "python",
   "nbconvert_exporter": "python",
   "pygments_lexer": "ipython3",
   "version": "3.8.9"
  },
  "orig_nbformat": 4,
  "vscode": {
   "interpreter": {
    "hash": "31f2aee4e71d21fbe5cf8b01ff0e069b9275f58929596ceb00d14d90e3e16cd6"
   }
  }
 },
 "nbformat": 4,
 "nbformat_minor": 2
}
