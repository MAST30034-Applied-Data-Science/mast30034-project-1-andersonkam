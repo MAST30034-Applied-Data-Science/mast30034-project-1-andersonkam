{
 "cells": [
  {
   "cell_type": "code",
   "execution_count": 78,
   "metadata": {},
   "outputs": [],
   "source": [
    "from pyspark.sql import SparkSession\n",
    "from pyspark.sql import functions as F"
   ]
  },
  {
   "cell_type": "code",
   "execution_count": 79,
   "metadata": {},
   "outputs": [],
   "source": [
    "spark = (\n",
    "    SparkSession.builder.appName(\"preprocessing of taxi data\")\n",
    "    .config(\"spark.sql.repl.eagerEval.enabled\", True) \n",
    "    .config(\"spark.sql.parquet.cacheMetadata\", \"true\")\n",
    "    .config(\"spark.sql.session.timeZone\", \"Etc/UTC\")\n",
    "    .config(\"spark.driver.memory\", \"15g\")\n",
    "    .getOrCreate()\n",
    ")"
   ]
  },
  {
   "cell_type": "code",
   "execution_count": 80,
   "metadata": {},
   "outputs": [],
   "source": [
    "aggregate_sdf = spark.read.parquet('../data/curated/analysed')"
   ]
  },
  {
   "cell_type": "code",
   "execution_count": 81,
   "metadata": {},
   "outputs": [
    {
     "data": {
      "text/html": [
       "<table border='1'>\n",
       "<tr><th>PULocationID</th><th>fare_amount</th><th>extra</th><th>tip_amount</th><th>duration (minutes)</th><th>date</th><th>time</th><th>year</th><th>month</th><th>day</th><th>average_temperature</th><th>precip</th><th>time_float</th><th>cos_time</th><th>sin_time</th><th>date_float</th><th>cos_date</th><th>sin_date</th><th>month_float</th><th>cos_month</th><th>sin_month</th><th>trip_value</th><th>holiday</th><th>high_value</th></tr>\n",
       "<tr><td>238</td><td>6.0</td><td>0.5</td><td>2.0</td><td>4.367</td><td>2016-04-01</td><td>00:41:18</td><td>2016</td><td>04</td><td>01</td><td>70.34</td><td>0.37</td><td>0.020833334</td><td>0.9914449</td><td>0.13052619</td><td>0.5744048</td><td>-0.8926982</td><td>-0.45065498</td><td>0.25</td><td>6.123234E-17</td><td>1.0</td><td>1.5882757</td><td>false</td><td>true</td></tr>\n",
       "<tr><td>166</td><td>17.0</td><td>0.5</td><td>3.65</td><td>19.2</td><td>2016-04-01</td><td>00:24:47</td><td>2016</td><td>04</td><td>01</td><td>70.34</td><td>0.37</td><td>0.020833334</td><td>0.9914449</td><td>0.13052619</td><td>0.5744048</td><td>-0.8926982</td><td>-0.45065498</td><td>0.25</td><td>6.123234E-17</td><td>1.0</td><td>0.898875</td><td>false</td><td>false</td></tr>\n",
       "<tr><td>164</td><td>5.5</td><td>0.5</td><td>1.35</td><td>4.133</td><td>2016-04-01</td><td>00:45:45</td><td>2016</td><td>04</td><td>01</td><td>70.34</td><td>0.37</td><td>0.020833334</td><td>0.9914449</td><td>0.13052619</td><td>0.5744048</td><td>-0.8926982</td><td>-0.45065498</td><td>0.25</td><td>6.123234E-17</td><td>1.0</td><td>1.4511493</td><td>false</td><td>true</td></tr>\n",
       "<tr><td>170</td><td>5.5</td><td>0.5</td><td>1.7</td><td>3.517</td><td>2016-04-01</td><td>00:19:40</td><td>2016</td><td>04</td><td>01</td><td>70.34</td><td>0.37</td><td>0.020833334</td><td>0.9914449</td><td>0.13052619</td><td>0.5744048</td><td>-0.8926982</td><td>-0.45065498</td><td>0.25</td><td>6.123234E-17</td><td>1.0</td><td>1.7865226</td><td>false</td><td>true</td></tr>\n",
       "<tr><td>158</td><td>10.0</td><td>0.5</td><td>2.8</td><td>12.733</td><td>2016-04-01</td><td>00:04:05</td><td>2016</td><td>04</td><td>01</td><td>70.34</td><td>0.37</td><td>0.020833334</td><td>0.9914449</td><td>0.13052619</td><td>0.5744048</td><td>-0.8926982</td><td>-0.45065498</td><td>0.25</td><td>6.123234E-17</td><td>1.0</td><td>0.85233647</td><td>false</td><td>false</td></tr>\n",
       "<tr><td>170</td><td>21.0</td><td>0.5</td><td>4.45</td><td>24.783</td><td>2016-04-01</td><td>00:30:36</td><td>2016</td><td>04</td><td>01</td><td>70.34</td><td>0.37</td><td>0.020833334</td><td>0.9914449</td><td>0.13052619</td><td>0.5744048</td><td>-0.8926982</td><td>-0.45065498</td><td>0.25</td><td>6.123234E-17</td><td>1.0</td><td>0.8544244</td><td>false</td><td>false</td></tr>\n",
       "<tr><td>246</td><td>5.5</td><td>0.5</td><td>1.35</td><td>5.817</td><td>2016-04-01</td><td>00:42:39</td><td>2016</td><td>04</td><td>01</td><td>70.34</td><td>0.37</td><td>0.020833334</td><td>0.9914449</td><td>0.13052619</td><td>0.5744048</td><td>-0.8926982</td><td>-0.45065498</td><td>0.25</td><td>6.123234E-17</td><td>1.0</td><td>1.031047</td><td>false</td><td>false</td></tr>\n",
       "<tr><td>164</td><td>7.0</td><td>0.5</td><td>1.65</td><td>6.433</td><td>2016-04-01</td><td>00:53:36</td><td>2016</td><td>04</td><td>01</td><td>70.34</td><td>0.37</td><td>0.020833334</td><td>0.9914449</td><td>0.13052619</td><td>0.5744048</td><td>-0.8926982</td><td>-0.45065498</td><td>0.25</td><td>6.123234E-17</td><td>1.0</td><td>1.1606405</td><td>false</td><td>true</td></tr>\n",
       "<tr><td>161</td><td>4.5</td><td>0.5</td><td>1.2</td><td>3.7</td><td>2016-04-01</td><td>00:50:50</td><td>2016</td><td>04</td><td>01</td><td>70.34</td><td>0.37</td><td>0.020833334</td><td>0.9914449</td><td>0.13052619</td><td>0.5744048</td><td>-0.8926982</td><td>-0.45065498</td><td>0.25</td><td>6.123234E-17</td><td>1.0</td><td>1.3673513</td><td>false</td><td>true</td></tr>\n",
       "<tr><td>48</td><td>22.5</td><td>0.5</td><td>4.75</td><td>33.267</td><td>2016-04-01</td><td>00:13:26</td><td>2016</td><td>04</td><td>01</td><td>70.34</td><td>0.37</td><td>0.020833334</td><td>0.9914449</td><td>0.13052619</td><td>0.5744048</td><td>-0.8926982</td><td>-0.45065498</td><td>0.25</td><td>6.123234E-17</td><td>1.0</td><td>0.68067455</td><td>false</td><td>false</td></tr>\n",
       "<tr><td>100</td><td>3.0</td><td>0.5</td><td>1.0</td><td>1.333</td><td>2016-04-01</td><td>00:11:28</td><td>2016</td><td>04</td><td>01</td><td>70.34</td><td>0.37</td><td>0.020833334</td><td>0.9914449</td><td>0.13052619</td><td>0.5744048</td><td>-0.8926982</td><td>-0.45065498</td><td>0.25</td><td>6.123234E-17</td><td>1.0</td><td>2.7546887</td><td>false</td><td>true</td></tr>\n",
       "<tr><td>114</td><td>10.0</td><td>0.5</td><td>2.25</td><td>8.9</td><td>2016-04-01</td><td>00:32:53</td><td>2016</td><td>04</td><td>01</td><td>70.34</td><td>0.37</td><td>0.020833334</td><td>0.9914449</td><td>0.13052619</td><td>0.5744048</td><td>-0.8926982</td><td>-0.45065498</td><td>0.25</td><td>6.123234E-17</td><td>1.0</td><td>1.1689887</td><td>false</td><td>true</td></tr>\n",
       "<tr><td>211</td><td>23.5</td><td>0.5</td><td>4.95</td><td>35.867</td><td>2016-04-01</td><td>00:20:53</td><td>2016</td><td>04</td><td>01</td><td>70.34</td><td>0.37</td><td>0.020833334</td><td>0.9914449</td><td>0.13052619</td><td>0.5744048</td><td>-0.8926982</td><td>-0.45065498</td><td>0.25</td><td>6.123234E-17</td><td>1.0</td><td>0.6586333</td><td>false</td><td>false</td></tr>\n",
       "<tr><td>162</td><td>19.5</td><td>0.5</td><td>3.12</td><td>15.083</td><td>2016-04-01</td><td>00:22:02</td><td>2016</td><td>04</td><td>01</td><td>70.34</td><td>0.37</td><td>0.020833334</td><td>0.9914449</td><td>0.13052619</td><td>0.5744048</td><td>-0.8926982</td><td>-0.45065498</td><td>0.25</td><td>6.123234E-17</td><td>1.0</td><td>1.2508069</td><td>false</td><td>true</td></tr>\n",
       "<tr><td>79</td><td>5.5</td><td>0.5</td><td>1.36</td><td>4.867</td><td>2016-04-01</td><td>00:01:14</td><td>2016</td><td>04</td><td>01</td><td>70.34</td><td>0.37</td><td>0.020833334</td><td>0.9914449</td><td>0.13052619</td><td>0.5744048</td><td>-0.8926982</td><td>-0.45065498</td><td>0.25</td><td>6.123234E-17</td><td>1.0</td><td>1.2339758</td><td>false</td><td>true</td></tr>\n",
       "<tr><td>249</td><td>8.0</td><td>0.5</td><td>1.0</td><td>9.05</td><td>2016-04-01</td><td>00:30:38</td><td>2016</td><td>04</td><td>01</td><td>70.34</td><td>0.37</td><td>0.020833334</td><td>0.9914449</td><td>0.13052619</td><td>0.5744048</td><td>-0.8926982</td><td>-0.45065498</td><td>0.25</td><td>6.123234E-17</td><td>1.0</td><td>0.8565746</td><td>false</td><td>false</td></tr>\n",
       "<tr><td>249</td><td>5.5</td><td>0.5</td><td>1.0</td><td>6.1</td><td>2016-04-01</td><td>00:28:02</td><td>2016</td><td>04</td><td>01</td><td>70.34</td><td>0.37</td><td>0.020833334</td><td>0.9914449</td><td>0.13052619</td><td>0.5744048</td><td>-0.8926982</td><td>-0.45065498</td><td>0.25</td><td>6.123234E-17</td><td>1.0</td><td>0.93639344</td><td>false</td><td>false</td></tr>\n",
       "<tr><td>231</td><td>17.0</td><td>0.5</td><td>1.8</td><td>18.633</td><td>2016-04-01</td><td>00:54:11</td><td>2016</td><td>04</td><td>01</td><td>70.34</td><td>0.37</td><td>0.020833334</td><td>0.9914449</td><td>0.13052619</td><td>0.5744048</td><td>-0.8926982</td><td>-0.45065498</td><td>0.25</td><td>6.123234E-17</td><td>1.0</td><td>0.84521013</td><td>false</td><td>false</td></tr>\n",
       "<tr><td>48</td><td>6.5</td><td>0.5</td><td>1.55</td><td>6.033</td><td>2016-04-01</td><td>00:40:11</td><td>2016</td><td>04</td><td>01</td><td>70.34</td><td>0.37</td><td>0.020833334</td><td>0.9914449</td><td>0.13052619</td><td>0.5744048</td><td>-0.8926982</td><td>-0.45065498</td><td>0.25</td><td>6.123234E-17</td><td>1.0</td><td>1.1564395</td><td>false</td><td>true</td></tr>\n",
       "<tr><td>50</td><td>24.5</td><td>0.5</td><td>5.15</td><td>26.833</td><td>2016-04-01</td><td>00:56:28</td><td>2016</td><td>04</td><td>01</td><td>70.34</td><td>0.37</td><td>0.020833334</td><td>0.9914449</td><td>0.13052619</td><td>0.5744048</td><td>-0.8926982</td><td>-0.45065498</td><td>0.25</td><td>6.123234E-17</td><td>1.0</td><td>0.916871</td><td>false</td><td>false</td></tr>\n",
       "</table>\n",
       "only showing top 20 rows\n"
      ],
      "text/plain": [
       "+------------+-----------+-----+----------+------------------+----------+--------+----+-----+---+-------------------+------+-----------+---------+----------+----------+----------+-----------+-----------+------------+---------+----------+-------+----------+\n",
       "|PULocationID|fare_amount|extra|tip_amount|duration (minutes)|      date|    time|year|month|day|average_temperature|precip| time_float| cos_time|  sin_time|date_float|  cos_date|   sin_date|month_float|   cos_month|sin_month|trip_value|holiday|high_value|\n",
       "+------------+-----------+-----+----------+------------------+----------+--------+----+-----+---+-------------------+------+-----------+---------+----------+----------+----------+-----------+-----------+------------+---------+----------+-------+----------+\n",
       "|         238|        6.0|  0.5|       2.0|             4.367|2016-04-01|00:41:18|2016|   04| 01|              70.34|  0.37|0.020833334|0.9914449|0.13052619| 0.5744048|-0.8926982|-0.45065498|       0.25|6.123234E-17|      1.0| 1.5882757|  false|      true|\n",
       "|         166|       17.0|  0.5|      3.65|              19.2|2016-04-01|00:24:47|2016|   04| 01|              70.34|  0.37|0.020833334|0.9914449|0.13052619| 0.5744048|-0.8926982|-0.45065498|       0.25|6.123234E-17|      1.0|  0.898875|  false|     false|\n",
       "|         164|        5.5|  0.5|      1.35|             4.133|2016-04-01|00:45:45|2016|   04| 01|              70.34|  0.37|0.020833334|0.9914449|0.13052619| 0.5744048|-0.8926982|-0.45065498|       0.25|6.123234E-17|      1.0| 1.4511493|  false|      true|\n",
       "|         170|        5.5|  0.5|       1.7|             3.517|2016-04-01|00:19:40|2016|   04| 01|              70.34|  0.37|0.020833334|0.9914449|0.13052619| 0.5744048|-0.8926982|-0.45065498|       0.25|6.123234E-17|      1.0| 1.7865226|  false|      true|\n",
       "|         158|       10.0|  0.5|       2.8|            12.733|2016-04-01|00:04:05|2016|   04| 01|              70.34|  0.37|0.020833334|0.9914449|0.13052619| 0.5744048|-0.8926982|-0.45065498|       0.25|6.123234E-17|      1.0|0.85233647|  false|     false|\n",
       "|         170|       21.0|  0.5|      4.45|            24.783|2016-04-01|00:30:36|2016|   04| 01|              70.34|  0.37|0.020833334|0.9914449|0.13052619| 0.5744048|-0.8926982|-0.45065498|       0.25|6.123234E-17|      1.0| 0.8544244|  false|     false|\n",
       "|         246|        5.5|  0.5|      1.35|             5.817|2016-04-01|00:42:39|2016|   04| 01|              70.34|  0.37|0.020833334|0.9914449|0.13052619| 0.5744048|-0.8926982|-0.45065498|       0.25|6.123234E-17|      1.0|  1.031047|  false|     false|\n",
       "|         164|        7.0|  0.5|      1.65|             6.433|2016-04-01|00:53:36|2016|   04| 01|              70.34|  0.37|0.020833334|0.9914449|0.13052619| 0.5744048|-0.8926982|-0.45065498|       0.25|6.123234E-17|      1.0| 1.1606405|  false|      true|\n",
       "|         161|        4.5|  0.5|       1.2|               3.7|2016-04-01|00:50:50|2016|   04| 01|              70.34|  0.37|0.020833334|0.9914449|0.13052619| 0.5744048|-0.8926982|-0.45065498|       0.25|6.123234E-17|      1.0| 1.3673513|  false|      true|\n",
       "|          48|       22.5|  0.5|      4.75|            33.267|2016-04-01|00:13:26|2016|   04| 01|              70.34|  0.37|0.020833334|0.9914449|0.13052619| 0.5744048|-0.8926982|-0.45065498|       0.25|6.123234E-17|      1.0|0.68067455|  false|     false|\n",
       "|         100|        3.0|  0.5|       1.0|             1.333|2016-04-01|00:11:28|2016|   04| 01|              70.34|  0.37|0.020833334|0.9914449|0.13052619| 0.5744048|-0.8926982|-0.45065498|       0.25|6.123234E-17|      1.0| 2.7546887|  false|      true|\n",
       "|         114|       10.0|  0.5|      2.25|               8.9|2016-04-01|00:32:53|2016|   04| 01|              70.34|  0.37|0.020833334|0.9914449|0.13052619| 0.5744048|-0.8926982|-0.45065498|       0.25|6.123234E-17|      1.0| 1.1689887|  false|      true|\n",
       "|         211|       23.5|  0.5|      4.95|            35.867|2016-04-01|00:20:53|2016|   04| 01|              70.34|  0.37|0.020833334|0.9914449|0.13052619| 0.5744048|-0.8926982|-0.45065498|       0.25|6.123234E-17|      1.0| 0.6586333|  false|     false|\n",
       "|         162|       19.5|  0.5|      3.12|            15.083|2016-04-01|00:22:02|2016|   04| 01|              70.34|  0.37|0.020833334|0.9914449|0.13052619| 0.5744048|-0.8926982|-0.45065498|       0.25|6.123234E-17|      1.0| 1.2508069|  false|      true|\n",
       "|          79|        5.5|  0.5|      1.36|             4.867|2016-04-01|00:01:14|2016|   04| 01|              70.34|  0.37|0.020833334|0.9914449|0.13052619| 0.5744048|-0.8926982|-0.45065498|       0.25|6.123234E-17|      1.0| 1.2339758|  false|      true|\n",
       "|         249|        8.0|  0.5|       1.0|              9.05|2016-04-01|00:30:38|2016|   04| 01|              70.34|  0.37|0.020833334|0.9914449|0.13052619| 0.5744048|-0.8926982|-0.45065498|       0.25|6.123234E-17|      1.0| 0.8565746|  false|     false|\n",
       "|         249|        5.5|  0.5|       1.0|               6.1|2016-04-01|00:28:02|2016|   04| 01|              70.34|  0.37|0.020833334|0.9914449|0.13052619| 0.5744048|-0.8926982|-0.45065498|       0.25|6.123234E-17|      1.0|0.93639344|  false|     false|\n",
       "|         231|       17.0|  0.5|       1.8|            18.633|2016-04-01|00:54:11|2016|   04| 01|              70.34|  0.37|0.020833334|0.9914449|0.13052619| 0.5744048|-0.8926982|-0.45065498|       0.25|6.123234E-17|      1.0|0.84521013|  false|     false|\n",
       "|          48|        6.5|  0.5|      1.55|             6.033|2016-04-01|00:40:11|2016|   04| 01|              70.34|  0.37|0.020833334|0.9914449|0.13052619| 0.5744048|-0.8926982|-0.45065498|       0.25|6.123234E-17|      1.0| 1.1564395|  false|      true|\n",
       "|          50|       24.5|  0.5|      5.15|            26.833|2016-04-01|00:56:28|2016|   04| 01|              70.34|  0.37|0.020833334|0.9914449|0.13052619| 0.5744048|-0.8926982|-0.45065498|       0.25|6.123234E-17|      1.0|  0.916871|  false|     false|\n",
       "+------------+-----------+-----+----------+------------------+----------+--------+----+-----+---+-------------------+------+-----------+---------+----------+----------+----------+-----------+-----------+------------+---------+----------+-------+----------+\n",
       "only showing top 20 rows"
      ]
     },
     "execution_count": 81,
     "metadata": {},
     "output_type": "execute_result"
    }
   ],
   "source": [
    "aggregate_sdf"
   ]
  },
  {
   "cell_type": "code",
   "execution_count": 82,
   "metadata": {},
   "outputs": [],
   "source": [
    "cnt_cond = lambda cond: F.sum(F.when(cond, 1).otherwise(0))\n",
    "aggregate_sdf = aggregate_sdf.groupBy(\"PULocationID\", \"date\", \"time_float\") \\\n",
    "                             .agg(F.first(\"average_temperature\") ,\n",
    "                                  F.first(\"time\"),\n",
    "                                  F.first(\"precip\"),\n",
    "                                  F.first(\"cos_time\"),\n",
    "                                  F.first(\"sin_time\"),\n",
    "                                  F.first(\"date_float\"),\n",
    "                                  F.first(\"cos_date\"),\n",
    "                                  F.first(\"sin_date\"),\n",
    "                                  F.first(\"month_float\"),\n",
    "                                  F.first(\"cos_month\"),\n",
    "                                  F.first(\"sin_month\"),\n",
    "                                  F.first(\"trip_value\"),\n",
    "                                  F.first(\"holiday\"),\n",
    "                                  cnt_cond(F.col('high_value') == True)\n",
    "                                 )"
   ]
  },
  {
   "cell_type": "code",
   "execution_count": 83,
   "metadata": {},
   "outputs": [],
   "source": [
    "\n",
    "aggregate_sdf = aggregate_sdf.withColumnRenamed(\"first(average_temperature)\", \"average_temperature\") \\\n",
    "                             .withColumnRenamed(\"first(time)\", \"time\") \\\n",
    "                             .withColumnRenamed(\"first(precip)\", \"precip\") \\\n",
    "                             .withColumnRenamed(\"first(cos_time)\", \"cos_time\")\t\\\n",
    "                             .withColumnRenamed(\"first(sin_time)\", \"sin_time\")\t\\\n",
    "                             .withColumnRenamed(\"first(date_float)\", \"date_float\")\t\\\n",
    "                             .withColumnRenamed(\"first(cos_date)\", \"cos_date\")\t\\\n",
    "                             .withColumnRenamed(\"first(sin_date)\", \"sin_date\")\t\\\n",
    "                             .withColumnRenamed(\"first(month_float)\", \"month_float\") \\\n",
    "                             .withColumnRenamed(\"first(cos_month)\", \"cos_month\") \\\n",
    "                             .withColumnRenamed(\"first(holiday)\", \"holiday\") \\\n",
    "                             .withColumnRenamed(\"first(trip_value)\", \"trip_value\") \\\n",
    "                             .withColumnRenamed(\"sum(CASE WHEN (high_value = true) THEN 1 ELSE 0 END)\", \"high_value_trips\") \\\n",
    "                             .withColumnRenamed(\"first(sin_month)\", \"sin_month\") \\\n",
    "                             .withColumnRenamed(\"first(trip_value)\", \"trip_value\") \n",
    "                            "
   ]
  },
  {
   "cell_type": "code",
   "execution_count": 84,
   "metadata": {},
   "outputs": [
    {
     "name": "stderr",
     "output_type": "stream",
     "text": [
      "                                                                                \r"
     ]
    }
   ],
   "source": [
    "aggregate_sdf.write.mode('overwrite').parquet('../data/curated/aggregated')"
   ]
  }
 ],
 "metadata": {
  "kernelspec": {
   "display_name": "Python 3.9.7 ('base')",
   "language": "python",
   "name": "python3"
  },
  "language_info": {
   "codemirror_mode": {
    "name": "ipython",
    "version": 3
   },
   "file_extension": ".py",
   "mimetype": "text/x-python",
   "name": "python",
   "nbconvert_exporter": "python",
   "pygments_lexer": "ipython3",
   "version": "3.9.7"
  },
  "orig_nbformat": 4,
  "vscode": {
   "interpreter": {
    "hash": "40d3a090f54c6569ab1632332b64b2c03c39dcf918b08424e98f38b5ae0af88f"
   }
  }
 },
 "nbformat": 4,
 "nbformat_minor": 2
}
