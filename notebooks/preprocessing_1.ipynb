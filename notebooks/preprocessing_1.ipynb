{
 "cells": [
  {
   "cell_type": "markdown",
   "metadata": {},
   "source": [
    "# Pyspark setup"
   ]
  },
  {
   "cell_type": "code",
   "execution_count": 1,
   "metadata": {},
   "outputs": [],
   "source": [
    "from pyspark.sql import SparkSession\n",
    "from pyspark.sql import functions as F"
   ]
  },
  {
   "cell_type": "code",
   "execution_count": 2,
   "metadata": {},
   "outputs": [
    {
     "name": "stdout",
     "output_type": "stream",
     "text": [
      "22/08/25 19:23:49 WARN Utils: Your hostname, kams-MacBook-Pro.local resolves to a loopback address: 127.0.0.1; using 10.13.117.182 instead (on interface en0)\n",
      "22/08/25 19:23:49 WARN Utils: Set SPARK_LOCAL_IP if you need to bind to another address\n"
     ]
    },
    {
     "name": "stderr",
     "output_type": "stream",
     "text": [
      "Setting default log level to \"WARN\".\n",
      "To adjust logging level use sc.setLogLevel(newLevel). For SparkR, use setLogLevel(newLevel).\n"
     ]
    },
    {
     "name": "stdout",
     "output_type": "stream",
     "text": [
      "22/08/25 19:23:50 WARN NativeCodeLoader: Unable to load native-hadoop library for your platform... using builtin-java classes where applicable\n"
     ]
    }
   ],
   "source": [
    "spark = (\n",
    "    SparkSession.builder.appName(\"preprocessing of taxi data\")\n",
    "    .config(\"spark.sql.repl.eagerEval.enabled\", True) \n",
    "    .config(\"spark.sql.parquet.cacheMetadata\", \"true\")\n",
    "    .config(\"spark.sql.session.timeZone\", \"Etc/UTC\")\n",
    "    .config(\"spark.driver.memory\", \"15g\")\n",
    "    .getOrCreate()\n",
    ")"
   ]
  },
  {
   "cell_type": "markdown",
   "metadata": {},
   "source": [
    "# Data preparation and gain basic insight of data"
   ]
  },
  {
   "cell_type": "code",
   "execution_count": 3,
   "metadata": {},
   "outputs": [
    {
     "name": "stderr",
     "output_type": "stream",
     "text": [
      "                                                                                \r"
     ]
    },
    {
     "name": "stdout",
     "output_type": "stream",
     "text": [
      "root\n",
      " |-- VendorID: long (nullable = true)\n",
      " |-- tpep_pickup_datetime: timestamp (nullable = true)\n",
      " |-- tpep_dropoff_datetime: timestamp (nullable = true)\n",
      " |-- passenger_count: long (nullable = true)\n",
      " |-- trip_distance: double (nullable = true)\n",
      " |-- RatecodeID: long (nullable = true)\n",
      " |-- store_and_fwd_flag: string (nullable = true)\n",
      " |-- PULocationID: long (nullable = true)\n",
      " |-- DOLocationID: long (nullable = true)\n",
      " |-- payment_type: long (nullable = true)\n",
      " |-- fare_amount: double (nullable = true)\n",
      " |-- extra: double (nullable = true)\n",
      " |-- mta_tax: double (nullable = true)\n",
      " |-- tip_amount: double (nullable = true)\n",
      " |-- tolls_amount: double (nullable = true)\n",
      " |-- improvement_surcharge: double (nullable = true)\n",
      " |-- total_amount: double (nullable = true)\n",
      " |-- congestion_surcharge: integer (nullable = true)\n",
      " |-- airport_fee: integer (nullable = true)\n",
      "\n"
     ]
    }
   ],
   "source": [
    "# check the data type for each column and size of dataset\n",
    "sdf_all = spark.read.parquet('../data/raw/')\n",
    "sdf_all.printSchema()"
   ]
  },
  {
   "cell_type": "code",
   "execution_count": 4,
   "metadata": {},
   "outputs": [
    {
     "name": "stderr",
     "output_type": "stream",
     "text": [
      "                                                                                \r"
     ]
    },
    {
     "name": "stdout",
     "output_type": "stream",
     "text": [
      "+--------+--------------------+---------------------+---------------+-------------+----------+------------------+------------+------------+------------+-----------+-----+-------+----------+------------+---------------------+------------+--------------------+-----------+\n",
      "|VendorID|tpep_pickup_datetime|tpep_dropoff_datetime|passenger_count|trip_distance|RatecodeID|store_and_fwd_flag|PULocationID|DOLocationID|payment_type|fare_amount|extra|mta_tax|tip_amount|tolls_amount|improvement_surcharge|total_amount|congestion_surcharge|airport_fee|\n",
      "+--------+--------------------+---------------------+---------------+-------------+----------+------------------+------------+------------+------------+-----------+-----+-------+----------+------------+---------------------+------------+--------------------+-----------+\n",
      "|       1| 2016-01-01 00:12:22|  2016-01-01 00:29:14|              1|          3.2|         1|                 N|          48|         262|           1|       14.0|  0.5|    0.5|      3.06|         0.0|                  0.3|       18.36|                null|       null|\n",
      "|       1| 2016-01-01 00:41:31|  2016-01-01 00:55:10|              2|          1.0|         1|                 N|         162|          48|           2|        9.5|  0.5|    0.5|       0.0|         0.0|                  0.3|        10.8|                null|       null|\n",
      "|       1| 2016-01-01 00:53:37|  2016-01-01 00:59:57|              1|          0.9|         1|                 N|         246|          90|           2|        6.0|  0.5|    0.5|       0.0|         0.0|                  0.3|         7.3|                null|       null|\n",
      "|       1| 2016-01-01 00:13:28|  2016-01-01 00:18:07|              1|          0.8|         1|                 N|         170|         162|           2|        5.0|  0.5|    0.5|       0.0|         0.0|                  0.3|         6.3|                null|       null|\n",
      "|       1| 2016-01-01 00:33:04|  2016-01-01 00:47:14|              1|          1.8|         1|                 N|         161|         140|           2|       11.0|  0.5|    0.5|       0.0|         0.0|                  0.3|        12.3|                null|       null|\n",
      "|       1| 2016-01-01 00:49:47|  2016-01-01 01:04:44|              1|          2.3|         1|                 N|         141|         137|           1|       11.0|  0.5|    0.5|      2.45|         0.0|                  0.3|       14.75|                null|       null|\n",
      "|       1| 2016-01-01 00:41:58|  2016-01-01 01:22:06|              1|         13.8|         1|                 N|         100|          53|           2|       43.0|  0.5|    0.5|       0.0|         0.0|                  0.3|        44.3|                null|       null|\n",
      "|       2| 2016-01-01 00:25:28|  2016-01-01 00:55:46|              5|         3.46|         1|                 N|          48|          79|           2|       20.0|  0.5|    0.5|       0.0|         0.0|                  0.3|        21.3|                null|       null|\n",
      "|       2| 2016-01-01 00:56:57|  2016-01-01 01:02:24|              4|         0.83|         1|                 N|          79|         107|           2|        5.5|  0.5|    0.5|       0.0|         0.0|                  0.3|         6.8|                null|       null|\n",
      "|       2| 2016-01-01 00:10:08|  2016-01-01 00:23:05|              1|         0.87|         1|                 N|         164|         164|           2|        7.0|  0.5|    0.5|       0.0|         0.0|                  0.3|         8.3|                null|       null|\n",
      "|       2| 2016-01-01 00:44:33|  2016-01-01 00:53:37|              1|         1.25|         1|                 N|          68|         234|           1|        7.5|  0.5|    0.5|       2.2|         0.0|                  0.3|        11.0|                null|       null|\n",
      "|       2| 2016-01-01 00:56:47|  2016-01-01 01:07:48|              1|         1.66|         1|                 N|         234|         233|           1|        9.0|  0.5|    0.5|       0.0|         0.0|                  0.3|        10.3|                null|       null|\n",
      "|       1| 2016-01-01 00:12:44|  2016-01-01 00:24:53|              2|          2.6|         1|                 N|         229|         239|           2|       11.0|  0.5|    0.5|       0.0|         0.0|                  0.3|        12.3|                null|       null|\n",
      "|       1| 2016-01-01 00:27:11|  2016-01-01 00:37:00|              2|          2.3|         1|                 N|         239|         236|           1|        9.5|  0.5|    0.5|      1.75|         0.0|                  0.3|       12.55|                null|       null|\n",
      "|       1| 2016-01-01 00:47:28|  2016-01-01 00:56:50|              2|          1.7|         1|                 N|         236|         141|           2|        8.5|  0.5|    0.5|       0.0|         0.0|                  0.3|         9.8|                null|       null|\n",
      "|       1| 2016-01-01 00:02:54|  2016-01-01 00:14:04|              1|          2.6|         1|                 N|          43|         238|           2|       10.5|  0.5|    0.5|       0.0|         0.0|                  0.3|        11.8|                null|       null|\n",
      "|       1| 2016-01-01 00:19:09|  2016-01-01 00:25:20|              1|          1.0|         1|                 N|         239|         143|           1|        6.5|  0.5|    0.5|      1.95|         0.0|                  0.3|        9.75|                null|       null|\n",
      "|       1| 2016-01-01 00:26:54|  2016-01-01 00:55:27|              1|          8.8|         1|                 N|         143|         232|           1|       28.5|  0.5|    0.5|       7.0|         0.0|                  0.3|        36.8|                null|       null|\n",
      "|       1| 2016-01-01 00:19:36|  2016-01-01 00:26:16|              1|          1.0|         1|                 N|         164|         107|           1|        6.5|  0.5|    0.5|       1.0|         0.0|                  0.3|         8.8|                null|       null|\n",
      "|       1| 2016-01-01 00:27:55|  2016-01-01 00:36:39|              1|          1.2|         1|                 N|         107|          90|           2|        7.5|  0.5|    0.5|       0.0|         0.0|                  0.3|         8.8|                null|       null|\n",
      "+--------+--------------------+---------------------+---------------+-------------+----------+------------------+------------+------------+------------+-----------+-----+-------+----------+------------+---------------------+------------+--------------------+-----------+\n",
      "only showing top 20 rows\n",
      "\n"
     ]
    }
   ],
   "source": [
    "sdf_all.show()"
   ]
  },
  {
   "cell_type": "code",
   "execution_count": 5,
   "metadata": {},
   "outputs": [
    {
     "name": "stderr",
     "output_type": "stream",
     "text": [
      "                                                                                \r"
     ]
    },
    {
     "data": {
      "text/plain": [
       "180457103"
      ]
     },
     "execution_count": 5,
     "metadata": {},
     "output_type": "execute_result"
    }
   ],
   "source": [
    "raw_data_count = sdf_all.count()\n",
    "raw_data_count"
   ]
  },
  {
   "cell_type": "markdown",
   "metadata": {},
   "source": [
    "# Filtering for credit card payments\n",
    "As tip amount contribute greatly to a drivers income, and only tip amounts of credit card payments are recorded."
   ]
  },
  {
   "cell_type": "code",
   "execution_count": 6,
   "metadata": {},
   "outputs": [
    {
     "name": "stderr",
     "output_type": "stream",
     "text": [
      "[Stage 5:===============================>                         (11 + 9) / 20]\r"
     ]
    },
    {
     "name": "stdout",
     "output_type": "stream",
     "text": [
      "Out of 180457103 raw data points, 61037121 payment type that is not 1 has been cleaned.\n",
      "Remaining data count: 119419982\n"
     ]
    },
    {
     "name": "stderr",
     "output_type": "stream",
     "text": [
      "                                                                                \r"
     ]
    }
   ],
   "source": [
    "# Filtered for only payment type = 1\n",
    "\n",
    "valid_payment_type_sdf = sdf_all.filter(F.col(\"payment_type\") == 1)\n",
    "valid_payment_type_count = valid_payment_type_sdf.count()\n",
    "msg = (\n",
    "        f\"Out of {raw_data_count} raw data points, {raw_data_count - valid_payment_type_count} \"\n",
    "        f\"payment type that is not 1 has been cleaned.\"\n",
    ")\n",
    "print(msg)\n",
    "print(\"Remaining data count:\",valid_payment_type_count)"
   ]
  },
  {
   "cell_type": "markdown",
   "metadata": {},
   "source": [
    "# Filtered for fare amount and total amount are >= $2.5\n",
    "This is the initial charge for every taxi trip as specified by TLC."
   ]
  },
  {
   "cell_type": "code",
   "execution_count": 7,
   "metadata": {},
   "outputs": [
    {
     "name": "stderr",
     "output_type": "stream",
     "text": [
      "[Stage 8:=====================================>                   (13 + 7) / 20]\r"
     ]
    },
    {
     "name": "stdout",
     "output_type": "stream",
     "text": [
      "Out of 119419982 data points that is cleaned, 10083 invalid charges has been removed\n",
      "Remaining data count: 119419982\n"
     ]
    },
    {
     "name": "stderr",
     "output_type": "stream",
     "text": [
      "                                                                                \r"
     ]
    }
   ],
   "source": [
    "valid_amount_payed_sdf = valid_payment_type_sdf.filter((F.col(\"fare_amount\") >= 2.5) & \n",
    "                                                        (F.col(\"total_amount\") >= 2.5))\n",
    "valid_amount_payed_count = valid_amount_payed_sdf.count()\n",
    "msg = (\n",
    "        f\"Out of {valid_payment_type_count} data points that is cleaned, \"\n",
    "        f\"{valid_payment_type_count - valid_amount_payed_count} invalid charges has been removed\"\n",
    ")\n",
    "print(msg)\n",
    "print(\"Remaining data count:\",valid_payment_type_count)\n"
   ]
  },
  {
   "cell_type": "markdown",
   "metadata": {},
   "source": [
    "# Filter VendorID that is not 1 or 2\n",
    "According to TLC there are only two vendor IDs that provide the trip entries."
   ]
  },
  {
   "cell_type": "code",
   "execution_count": 8,
   "metadata": {},
   "outputs": [
    {
     "name": "stderr",
     "output_type": "stream",
     "text": [
      "[Stage 11:====================================>                   (13 + 7) / 20]\r"
     ]
    },
    {
     "name": "stdout",
     "output_type": "stream",
     "text": [
      "Out of 119409899 data points that is cleaned, 5807 invalid VendorID has been removed\n",
      "Remaining data count: 119404092\n"
     ]
    },
    {
     "name": "stderr",
     "output_type": "stream",
     "text": [
      "                                                                                \r"
     ]
    }
   ],
   "source": [
    "valid_vendor_id_sdf = valid_amount_payed_sdf.filter((F.col(\"VendorID\") == 1) | \n",
    "                                                    (F.col(\"VendorID\") == 2))\n",
    "valid_vendor_id_count = valid_vendor_id_sdf.count()\n",
    "msg = (\n",
    "        f\"Out of {valid_amount_payed_count} data points that is cleaned, \"\n",
    "        f\"{valid_amount_payed_count - valid_vendor_id_count} invalid VendorID has been removed\"\n",
    ")\n",
    "print(msg)\n",
    "print(\"Remaining data count:\",valid_vendor_id_count)"
   ]
  },
  {
   "cell_type": "markdown",
   "metadata": {},
   "source": [
    "# Filter negative amounts from extra, mta_tax, tip_amount, tolls_amount, improvement_surcharge"
   ]
  },
  {
   "cell_type": "code",
   "execution_count": 9,
   "metadata": {},
   "outputs": [
    {
     "name": "stderr",
     "output_type": "stream",
     "text": [
      "[Stage 14:==================================================>     (18 + 2) / 20]\r"
     ]
    },
    {
     "name": "stdout",
     "output_type": "stream",
     "text": [
      "Out of 119404092 data points that is cleaned, 49 negative charges has been removed\n",
      "Remaining data count: 119404043\n"
     ]
    },
    {
     "name": "stderr",
     "output_type": "stream",
     "text": [
      "                                                                                \r"
     ]
    }
   ],
   "source": [
    "valid_charges_sdf = valid_vendor_id_sdf.filter((F.col(\"extra\") >= 0) & \n",
    "                                               (F.col(\"mta_tax\") >= 0) & \n",
    "                                               (F.col(\"tip_amount\") >= 0) & \n",
    "                                               (F.col(\"tolls_amount\") >= 0) & \n",
    "                                               (F.col(\"improvement_surcharge\") >= 0))\n",
    "valid_charges_count = valid_charges_sdf.count()\n",
    "msg = (\n",
    "        f\"Out of {valid_vendor_id_count} data points that is cleaned, \"\n",
    "        f\"{valid_vendor_id_count - valid_charges_count} negative charges has been removed\"\n",
    ")\n",
    "print(msg)\n",
    "print(\"Remaining data count:\",valid_charges_count)"
   ]
  },
  {
   "cell_type": "markdown",
   "metadata": {},
   "source": [
    "# Filter negative distance\n",
    "By common sense, taxi cannot trave a negative distance."
   ]
  },
  {
   "cell_type": "code",
   "execution_count": 10,
   "metadata": {},
   "outputs": [
    {
     "name": "stderr",
     "output_type": "stream",
     "text": [
      "[Stage 17:========================================================(20 + 0) / 20]\r"
     ]
    },
    {
     "name": "stdout",
     "output_type": "stream",
     "text": [
      "Out of 119404043 data points that is cleaned, 0 negative distances has been removed\n",
      "Remaining data count: 119404043\n"
     ]
    },
    {
     "name": "stderr",
     "output_type": "stream",
     "text": [
      "                                                                                \r"
     ]
    }
   ],
   "source": [
    "valid_distance_sdf = valid_charges_sdf.filter((F.col(\"trip_distance\") >= 0))\n",
    "valid_distance_count = valid_distance_sdf.count()\n",
    "msg = (\n",
    "        f\"Out of {valid_charges_count} data points that is cleaned, \"\n",
    "        f\"{valid_charges_count - valid_distance_count} negative distances has been removed\"\n",
    ")\n",
    "print(msg)\n",
    "print(\"Remaining data count:\",valid_distance_count) "
   ]
  },
  {
   "cell_type": "markdown",
   "metadata": {},
   "source": [
    "# Filter locations out of NYC"
   ]
  },
  {
   "cell_type": "code",
   "execution_count": 11,
   "metadata": {},
   "outputs": [
    {
     "name": "stderr",
     "output_type": "stream",
     "text": [
      "[Stage 20:=====================================================>  (19 + 1) / 20]\r"
     ]
    },
    {
     "name": "stdout",
     "output_type": "stream",
     "text": [
      "Out of 119404043 raw data points, 2084487 are out of location ID range [1, 263] and has been cleaned\n",
      "Remaining data count: 117319556\n"
     ]
    },
    {
     "name": "stderr",
     "output_type": "stream",
     "text": [
      "                                                                                \r"
     ]
    }
   ],
   "source": [
    "valid_location_sdf = valid_distance_sdf.filter((F.col('PULocationID').between(1, 263)) & \n",
    "                                            (F.col('DOLocationID').between(1, 263)))\n",
    "valid_loc_count = valid_location_sdf.count()\n",
    "msg = (\n",
    "        f\"Out of {valid_distance_count} raw data points, {valid_distance_count - valid_loc_count} \"\n",
    "        f\"are out of location ID range [1, 263] and has been cleaned\"\n",
    ")\n",
    "print(msg)\n",
    "print(\"Remaining data count:\",valid_loc_count)"
   ]
  },
  {
   "cell_type": "markdown",
   "metadata": {},
   "source": [
    "# Generate trip duration in seconds\n",
    "This columun is generated for removing invalid entries, and for future feature engineering to create a trip value column."
   ]
  },
  {
   "cell_type": "code",
   "execution_count": 12,
   "metadata": {},
   "outputs": [
    {
     "name": "stdout",
     "output_type": "stream",
     "text": [
      "+--------+--------------------+---------------------+---------------+-------------+----------+------------------+------------+------------+------------+-----------+-----+-------+----------+------------+---------------------+------------+--------------------+-----------+--------+\n",
      "|VendorID|tpep_pickup_datetime|tpep_dropoff_datetime|passenger_count|trip_distance|RatecodeID|store_and_fwd_flag|PULocationID|DOLocationID|payment_type|fare_amount|extra|mta_tax|tip_amount|tolls_amount|improvement_surcharge|total_amount|congestion_surcharge|airport_fee|duration|\n",
      "+--------+--------------------+---------------------+---------------+-------------+----------+------------------+------------+------------+------------+-----------+-----+-------+----------+------------+---------------------+------------+--------------------+-----------+--------+\n",
      "|       1| 2016-01-01 00:12:22|  2016-01-01 00:29:14|              1|          3.2|         1|                 N|          48|         262|           1|       14.0|  0.5|    0.5|      3.06|         0.0|                  0.3|       18.36|                null|       null|    1012|\n",
      "|       1| 2016-01-01 00:49:47|  2016-01-01 01:04:44|              1|          2.3|         1|                 N|         141|         137|           1|       11.0|  0.5|    0.5|      2.45|         0.0|                  0.3|       14.75|                null|       null|     897|\n",
      "|       2| 2016-01-01 00:44:33|  2016-01-01 00:53:37|              1|         1.25|         1|                 N|          68|         234|           1|        7.5|  0.5|    0.5|       2.2|         0.0|                  0.3|        11.0|                null|       null|     544|\n",
      "|       2| 2016-01-01 00:56:47|  2016-01-01 01:07:48|              1|         1.66|         1|                 N|         234|         233|           1|        9.0|  0.5|    0.5|       0.0|         0.0|                  0.3|        10.3|                null|       null|     661|\n",
      "|       1| 2016-01-01 00:27:11|  2016-01-01 00:37:00|              2|          2.3|         1|                 N|         239|         236|           1|        9.5|  0.5|    0.5|      1.75|         0.0|                  0.3|       12.55|                null|       null|     589|\n",
      "|       1| 2016-01-01 00:19:09|  2016-01-01 00:25:20|              1|          1.0|         1|                 N|         239|         143|           1|        6.5|  0.5|    0.5|      1.95|         0.0|                  0.3|        9.75|                null|       null|     371|\n",
      "|       1| 2016-01-01 00:26:54|  2016-01-01 00:55:27|              1|          8.8|         1|                 N|         143|         232|           1|       28.5|  0.5|    0.5|       7.0|         0.0|                  0.3|        36.8|                null|       null|    1713|\n",
      "|       1| 2016-01-01 00:19:36|  2016-01-01 00:26:16|              1|          1.0|         1|                 N|         164|         107|           1|        6.5|  0.5|    0.5|       1.0|         0.0|                  0.3|         8.8|                null|       null|     400|\n",
      "|       1| 2016-01-01 00:48:09|  2016-01-01 01:03:34|              1|          2.4|         1|                 N|         246|         143|           1|       12.0|  0.5|    0.5|      3.95|         0.0|                  0.3|       17.25|                null|       null|     925|\n",
      "|       1| 2016-01-01 00:17:25|  2016-01-01 00:30:30|              1|          4.8|         1|                 N|          13|         148|           1|       15.5|  0.5|    0.5|       0.0|         0.0|                  0.3|        16.8|                null|       null|     785|\n",
      "|       1| 2016-01-01 00:47:04|  2016-01-01 01:15:33|              1|          2.3|         1|                 N|         186|         142|           1|       17.5|  0.5|    0.5|      3.75|         0.0|                  0.3|       22.55|                null|       null|    1709|\n",
      "|       1| 2016-01-01 00:35:11|  2016-01-01 00:41:32|              1|          0.8|         1|                 N|         170|         233|           1|        6.0|  0.5|    0.5|       1.0|         0.0|                  0.3|         8.3|                null|       null|     381|\n",
      "|       1| 2016-01-01 00:25:42|  2016-01-01 01:05:51|              3|         17.8|         3|                 N|         249|           1|           1|       69.0|  0.5|    0.0|      20.0|         0.0|                  0.3|        89.8|                null|       null|    2409|\n",
      "|       1| 2016-01-01 00:08:17|  2016-01-01 00:16:03|              1|          1.5|         1|                 N|         142|         237|           1|        7.5|  0.5|    0.5|      1.75|         0.0|                  0.3|       10.55|                null|       null|     466|\n",
      "|       1| 2016-01-01 00:54:55|  2016-01-01 01:11:29|              1|          2.6|         1|                 N|         161|         263|           1|       13.0|  0.5|    0.5|      2.85|         0.0|                  0.3|       17.15|                null|       null|     994|\n",
      "|       2| 2016-01-01 00:18:41|  2016-01-01 00:35:11|              5|         2.72|         1|                 N|          68|         231|           1|       13.0|  0.5|    0.5|      3.58|         0.0|                  0.3|       17.88|                null|       null|     990|\n",
      "|       2| 2016-01-01 00:52:54|  2016-01-01 01:05:03|              5|         2.38|         1|                 N|          13|         158|           1|       10.5|  0.5|    0.5|      2.95|         0.0|                  0.3|       14.75|                null|       null|     729|\n",
      "|       2| 2016-01-01 00:55:33|  2016-01-01 01:16:32|              1|         2.11|         1|                 N|          68|         170|           1|       14.0|  0.5|    0.5|      3.82|         0.0|                  0.3|       19.12|                null|       null|    1259|\n",
      "|       1| 2016-01-01 00:24:40|  2016-01-01 00:27:56|              2|          0.9|         1|                 N|         141|         263|           1|        5.0|  0.5|    0.5|      1.25|         0.0|                  0.3|        7.55|                null|       null|     196|\n",
      "|       1| 2016-01-01 00:29:44|  2016-01-01 00:43:41|              2|          2.8|         1|                 N|         263|          48|           1|       12.5|  0.5|    0.5|      2.75|         0.0|                  0.3|       16.55|                null|       null|     837|\n",
      "+--------+--------------------+---------------------+---------------+-------------+----------+------------------+------------+------------+------------+-----------+-----+-------+----------+------------+---------------------+------------+--------------------+-----------+--------+\n",
      "only showing top 20 rows\n",
      "\n"
     ]
    }
   ],
   "source": [
    "trip_duration_add_sdf = valid_location_sdf.withColumn('duration',\n",
    "                                            F.col(\"tpep_dropoff_datetime\").cast(\"long\")\\\n",
    "                                            - F.col('tpep_pickup_datetime').cast(\"long\"))\n",
    "trip_duration_add_sdf.show()\n"
   ]
  },
  {
   "cell_type": "code",
   "execution_count": 13,
   "metadata": {},
   "outputs": [],
   "source": [
    "# convert trip duration in seconds to minutes\n",
    "trip_duration_add_sdf = trip_duration_add_sdf.withColumn(\"duration\", F.round(F.col(\"duration\") / 60, 3))\n",
    "trip_duration_add_sdf = trip_duration_add_sdf.withColumnRenamed(\"duration\", \"duration (minutes)\")"
   ]
  },
  {
   "cell_type": "markdown",
   "metadata": {},
   "source": [
    "# Filter negative trip duration and trip duration greather than 10 hours\n",
    "According to TLC, the legal maximum consecutive trip hours allowed is 10 hour."
   ]
  },
  {
   "cell_type": "code",
   "execution_count": 14,
   "metadata": {},
   "outputs": [
    {
     "name": "stderr",
     "output_type": "stream",
     "text": [
      "[Stage 24:=====================================================>  (19 + 1) / 20]\r"
     ]
    },
    {
     "name": "stdout",
     "output_type": "stream",
     "text": [
      "Out of 117319556 valid location data points, 507084 are out of duration range [1 minute, 10 hours] and has been cleaned\n",
      "Remaining data count: 116812472\n"
     ]
    },
    {
     "name": "stderr",
     "output_type": "stream",
     "text": [
      "                                                                                \r"
     ]
    }
   ],
   "source": [
    "valid_duration_sdf = trip_duration_add_sdf.filter(F.col(\"duration\").between(1, 10*60))\n",
    "valid_duration_count = valid_duration_sdf.count()\n",
    "\n",
    "msg = (\n",
    "        f\"Out of {valid_loc_count} valid location data points, {valid_loc_count - valid_duration_count} \"\n",
    "        f\"are out of duration range [1 minute, 10 hours] and has been cleaned\"\n",
    ")\n",
    "print(msg)\n",
    "print(\"Remaining data count:\", valid_duration_count)"
   ]
  },
  {
   "cell_type": "code",
   "execution_count": 15,
   "metadata": {},
   "outputs": [
    {
     "name": "stderr",
     "output_type": "stream",
     "text": [
      "                                                                                \r"
     ]
    },
    {
     "data": {
      "text/html": [
       "<table border='1'>\n",
       "<tr><th>summary</th><th>duration (minutes)</th></tr>\n",
       "<tr><td>count</td><td>116812472</td></tr>\n",
       "<tr><td>mean</td><td>14.746870260309173</td></tr>\n",
       "<tr><td>stddev</td><td>11.755260472955397</td></tr>\n",
       "<tr><td>min</td><td>1.0</td></tr>\n",
       "<tr><td>max</td><td>599.917</td></tr>\n",
       "</table>\n"
      ],
      "text/plain": [
       "+-------+------------------+\n",
       "|summary|duration (minutes)|\n",
       "+-------+------------------+\n",
       "|  count|         116812472|\n",
       "|   mean|14.746870260309173|\n",
       "| stddev|11.755260472955397|\n",
       "|    min|               1.0|\n",
       "|    max|           599.917|\n",
       "+-------+------------------+"
      ]
     },
     "execution_count": 15,
     "metadata": {},
     "output_type": "execute_result"
    }
   ],
   "source": [
    "# quick check on the removal of invalid trip durations\n",
    "valid_duration_sdf.describe(\"duration (minutes)\")"
   ]
  },
  {
   "cell_type": "markdown",
   "metadata": {},
   "source": [
    "# Filter records with datatime out of defined data range"
   ]
  },
  {
   "cell_type": "code",
   "execution_count": 17,
   "metadata": {},
   "outputs": [
    {
     "name": "stderr",
     "output_type": "stream",
     "text": [
      "[Stage 33:==================================================>     (18 + 2) / 20]\r"
     ]
    },
    {
     "name": "stdout",
     "output_type": "stream",
     "text": [
      "Out of 116812472 valid location data points, 220947 are out of the range 2016-01-01 to 2017-05-31 and has been cleaned\n",
      "Remaining data count: 116591525\n"
     ]
    },
    {
     "name": "stderr",
     "output_type": "stream",
     "text": [
      "                                                                                \r"
     ]
    }
   ],
   "source": [
    "valid_datetime_sdf = valid_duration_sdf.filter((F.col(\"tpep_pickup_datetime\") >= \"2016-01-01\") & \\\n",
    "                                                (F.col(\"tpep_pickup_datetime\") <= \"2017-05-31\"))\n",
    "\n",
    "valid_datetime_count = valid_datetime_sdf.count()\n",
    "\n",
    "msg = (\n",
    "        f\"Out of {valid_duration_count} valid location data points, {valid_duration_count - valid_datetime_count} \"\n",
    "        f\"are out of the range 2016-01-01 to 2017-05-31 and has been cleaned\"\n",
    ")\n",
    "print(msg)\n",
    "print(\"Remaining data count:\", valid_datetime_count)"
   ]
  },
  {
   "cell_type": "markdown",
   "metadata": {},
   "source": [
    "# Retain columns of interest for feature engineerring."
   ]
  },
  {
   "cell_type": "code",
   "execution_count": 18,
   "metadata": {},
   "outputs": [],
   "source": [
    "cleaned_trip_sdf = valid_datetime_sdf.select([\"tpep_pickup_datetime\", \n",
    "                                              \"PULocationID\", \n",
    "                                              \"fare_amount\", \n",
    "                                              \"extra\", \n",
    "                                              \"tip_amount\", \n",
    "                                              \"duration (minutes)\"])"
   ]
  },
  {
   "cell_type": "code",
   "execution_count": 19,
   "metadata": {},
   "outputs": [
    {
     "name": "stdout",
     "output_type": "stream",
     "text": [
      "root\n",
      " |-- tpep_pickup_datetime: timestamp (nullable = true)\n",
      " |-- PULocationID: long (nullable = true)\n",
      " |-- fare_amount: double (nullable = true)\n",
      " |-- extra: double (nullable = true)\n",
      " |-- tip_amount: double (nullable = true)\n",
      " |-- duration (minutes): double (nullable = true)\n",
      "\n"
     ]
    }
   ],
   "source": [
    "cleaned_trip_sdf.printSchema()"
   ]
  },
  {
   "cell_type": "markdown",
   "metadata": {},
   "source": [
    "# Check for any null values to decided whether imputation should be performed."
   ]
  },
  {
   "cell_type": "code",
   "execution_count": 20,
   "metadata": {},
   "outputs": [
    {
     "name": "stderr",
     "output_type": "stream",
     "text": [
      "                                                                                \r"
     ]
    },
    {
     "data": {
      "text/plain": [
       "{'tpep_pickup_datetime': 0,\n",
       " 'PULocationID': 0,\n",
       " 'fare_amount': 0,\n",
       " 'extra': 0,\n",
       " 'tip_amount': 0,\n",
       " 'duration (minutes)': 0}"
      ]
     },
     "execution_count": 20,
     "metadata": {},
     "output_type": "execute_result"
    }
   ],
   "source": [
    "Dict_Null = {col:cleaned_trip_sdf.filter(cleaned_trip_sdf[col].isNull()).count() for col in cleaned_trip_sdf.columns}\n",
    "Dict_Null"
   ]
  },
  {
   "cell_type": "code",
   "execution_count": 21,
   "metadata": {},
   "outputs": [
    {
     "name": "stderr",
     "output_type": "stream",
     "text": [
      "                                                                                \r"
     ]
    }
   ],
   "source": [
    "cleaned_trip_sdf.write.mode('overwrite').parquet('../data/curated/preprocess_taxi_result1')\n"
   ]
  },
  {
   "cell_type": "code",
   "execution_count": 22,
   "metadata": {},
   "outputs": [
    {
     "name": "stdout",
     "output_type": "stream",
     "text": [
      "+--------------------+------------+-----------+-----+----------+------------------+\n",
      "|tpep_pickup_datetime|PULocationID|fare_amount|extra|tip_amount|duration (minutes)|\n",
      "+--------------------+------------+-----------+-----+----------+------------------+\n",
      "| 2016-01-01 00:12:22|          48|       14.0|  0.5|      3.06|            16.867|\n",
      "| 2016-01-01 00:49:47|         141|       11.0|  0.5|      2.45|             14.95|\n",
      "| 2016-01-01 00:44:33|          68|        7.5|  0.5|       2.2|             9.067|\n",
      "| 2016-01-01 00:56:47|         234|        9.0|  0.5|       0.0|            11.017|\n",
      "| 2016-01-01 00:27:11|         239|        9.5|  0.5|      1.75|             9.817|\n",
      "| 2016-01-01 00:19:09|         239|        6.5|  0.5|      1.95|             6.183|\n",
      "| 2016-01-01 00:26:54|         143|       28.5|  0.5|       7.0|             28.55|\n",
      "| 2016-01-01 00:19:36|         164|        6.5|  0.5|       1.0|             6.667|\n",
      "| 2016-01-01 00:48:09|         246|       12.0|  0.5|      3.95|            15.417|\n",
      "| 2016-01-01 00:17:25|          13|       15.5|  0.5|       0.0|            13.083|\n",
      "| 2016-01-01 00:47:04|         186|       17.5|  0.5|      3.75|            28.483|\n",
      "| 2016-01-01 00:35:11|         170|        6.0|  0.5|       1.0|              6.35|\n",
      "| 2016-01-01 00:25:42|         249|       69.0|  0.5|      20.0|             40.15|\n",
      "| 2016-01-01 00:08:17|         142|        7.5|  0.5|      1.75|             7.767|\n",
      "| 2016-01-01 00:54:55|         161|       13.0|  0.5|      2.85|            16.567|\n",
      "| 2016-01-01 00:18:41|          68|       13.0|  0.5|      3.58|              16.5|\n",
      "| 2016-01-01 00:52:54|          13|       10.5|  0.5|      2.95|             12.15|\n",
      "| 2016-01-01 00:55:33|          68|       14.0|  0.5|      3.82|            20.983|\n",
      "| 2016-01-01 00:24:40|         141|        5.0|  0.5|      1.25|             3.267|\n",
      "| 2016-01-01 00:29:44|         263|       12.5|  0.5|      2.75|             13.95|\n",
      "+--------------------+------------+-----------+-----+----------+------------------+\n",
      "only showing top 20 rows\n",
      "\n"
     ]
    },
    {
     "name": "stderr",
     "output_type": "stream",
     "text": [
      "[Stage 56:==================================================>     (18 + 2) / 20]\r"
     ]
    },
    {
     "name": "stdout",
     "output_type": "stream",
     "text": [
      "116591525\n"
     ]
    },
    {
     "name": "stderr",
     "output_type": "stream",
     "text": [
      "                                                                                \r"
     ]
    }
   ],
   "source": [
    "cleaned_trip_sdf.show()\n",
    "print(cleaned_trip_sdf.count())"
   ]
  }
 ],
 "metadata": {
  "kernelspec": {
   "display_name": "Python 3.9.7 ('base')",
   "language": "python",
   "name": "python3"
  },
  "language_info": {
   "codemirror_mode": {
    "name": "ipython",
    "version": 3
   },
   "file_extension": ".py",
   "mimetype": "text/x-python",
   "name": "python",
   "nbconvert_exporter": "python",
   "pygments_lexer": "ipython3",
   "version": "3.9.7"
  },
  "orig_nbformat": 4,
  "vscode": {
   "interpreter": {
    "hash": "40d3a090f54c6569ab1632332b64b2c03c39dcf918b08424e98f38b5ae0af88f"
   }
  }
 },
 "nbformat": 4,
 "nbformat_minor": 2
}
