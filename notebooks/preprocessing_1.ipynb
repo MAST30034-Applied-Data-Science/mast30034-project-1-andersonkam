{
 "cells": [
  {
   "cell_type": "code",
   "execution_count": 3,
   "metadata": {},
   "outputs": [],
   "source": [
    "from pyspark.sql import SparkSession\n",
    "from pyspark.sql import functions as F"
   ]
  },
  {
   "cell_type": "code",
   "execution_count": 4,
   "metadata": {},
   "outputs": [
    {
     "name": "stderr",
     "output_type": "stream",
     "text": [
      "Setting default log level to \"WARN\".\n",
      "To adjust logging level use sc.setLogLevel(newLevel). For SparkR, use setLogLevel(newLevel).\n"
     ]
    },
    {
     "name": "stdout",
     "output_type": "stream",
     "text": [
      "22/08/08 22:16:21 WARN NativeCodeLoader: Unable to load native-hadoop library for your platform... using builtin-java classes where applicable\n"
     ]
    }
   ],
   "source": [
    "spark = (\n",
    "    SparkSession.builder.appName(\"preprocessing of taxi data\")\n",
    "    .config(\"spark.sql.repl.eagerEval.enabled\", True) \n",
    "    .config(\"spark.sql.parquet.cacheMetadata\", \"true\")\n",
    "    .config(\"spark.sql.session.timeZone\", \"Etc/UTC\")\n",
    "    .config(\"spark.driver.memory\", \"15g\")\n",
    "    .getOrCreate()\n",
    ")"
   ]
  },
  {
   "cell_type": "code",
   "execution_count": 5,
   "metadata": {},
   "outputs": [
    {
     "name": "stderr",
     "output_type": "stream",
     "text": [
      "[Stage 1:==============================================>          (22 + 5) / 27]\r"
     ]
    },
    {
     "name": "stdout",
     "output_type": "stream",
     "text": [
      "root\n",
      " |-- VendorID: long (nullable = true)\n",
      " |-- tpep_pickup_datetime: timestamp (nullable = true)\n",
      " |-- tpep_dropoff_datetime: timestamp (nullable = true)\n",
      " |-- passenger_count: long (nullable = true)\n",
      " |-- trip_distance: double (nullable = true)\n",
      " |-- RatecodeID: long (nullable = true)\n",
      " |-- store_and_fwd_flag: string (nullable = true)\n",
      " |-- PULocationID: long (nullable = true)\n",
      " |-- DOLocationID: long (nullable = true)\n",
      " |-- payment_type: long (nullable = true)\n",
      " |-- fare_amount: double (nullable = true)\n",
      " |-- extra: double (nullable = true)\n",
      " |-- mta_tax: double (nullable = true)\n",
      " |-- tip_amount: double (nullable = true)\n",
      " |-- tolls_amount: double (nullable = true)\n",
      " |-- improvement_surcharge: double (nullable = true)\n",
      " |-- total_amount: double (nullable = true)\n",
      " |-- congestion_surcharge: integer (nullable = true)\n",
      " |-- airport_fee: integer (nullable = true)\n",
      "\n"
     ]
    },
    {
     "name": "stderr",
     "output_type": "stream",
     "text": [
      "                                                                                \r"
     ]
    }
   ],
   "source": [
    "sdf_all = spark.read.parquet('../data/raw/')\n",
    "raw_data_count = sdf_all.count()\n",
    "\n",
    "sdf_all.printSchema()"
   ]
  },
  {
   "cell_type": "code",
   "execution_count": 6,
   "metadata": {},
   "outputs": [
    {
     "data": {
      "text/plain": [
       "244632132"
      ]
     },
     "execution_count": 6,
     "metadata": {},
     "output_type": "execute_result"
    }
   ],
   "source": [
    "raw_data_count"
   ]
  },
  {
   "cell_type": "code",
   "execution_count": 7,
   "metadata": {},
   "outputs": [],
   "source": [
    "sdf_reduce_col = sdf_all.select(\"tpep_pickup_datetime\", \n",
    "                                \"tpep_dropoff_datetime\", \n",
    "                                \"PULocationID\",\n",
    "                                \"DOLocationID\"\n",
    "                                )"
   ]
  },
  {
   "cell_type": "code",
   "execution_count": 8,
   "metadata": {},
   "outputs": [
    {
     "name": "stdout",
     "output_type": "stream",
     "text": [
      "root\n",
      " |-- tpep_pickup_datetime: timestamp (nullable = true)\n",
      " |-- tpep_dropoff_datetime: timestamp (nullable = true)\n",
      " |-- PULocationID: long (nullable = true)\n",
      " |-- DOLocationID: long (nullable = true)\n",
      "\n"
     ]
    }
   ],
   "source": [
    "sdf_reduce_col.printSchema()"
   ]
  },
  {
   "cell_type": "code",
   "execution_count": 9,
   "metadata": {},
   "outputs": [
    {
     "name": "stderr",
     "output_type": "stream",
     "text": [
      "                                                                                \r"
     ]
    },
    {
     "data": {
      "text/plain": [
       "{'tpep_pickup_datetime': 0,\n",
       " 'tpep_dropoff_datetime': 0,\n",
       " 'PULocationID': 0,\n",
       " 'DOLocationID': 0}"
      ]
     },
     "execution_count": 9,
     "metadata": {},
     "output_type": "execute_result"
    }
   ],
   "source": [
    "Dict_Null = {col:sdf_reduce_col.filter(sdf_reduce_col[col].isNull()).count() for col in sdf_reduce_col.columns}\n",
    "Dict_Null\n",
    "    "
   ]
  },
  {
   "cell_type": "code",
   "execution_count": 10,
   "metadata": {},
   "outputs": [
    {
     "name": "stderr",
     "output_type": "stream",
     "text": [
      "[Stage 16:===============================================>        (23 + 4) / 27]\r"
     ]
    },
    {
     "name": "stdout",
     "output_type": "stream",
     "text": [
      "Out of 244632132 raw data points, 4495024 are out of location ID range [1, 263] and has been cleaned\n",
      "Remaining data count: 240137108\n"
     ]
    },
    {
     "name": "stderr",
     "output_type": "stream",
     "text": [
      "                                                                                \r"
     ]
    }
   ],
   "source": [
    "valid_location_sdf = sdf_reduce_col.filter((F.col('PULocationID').between(1, 263)) & \n",
    "                                            (F.col('DOLocationID').between(1, 263)))\n",
    "valid_loc_count = valid_location_sdf.count()\n",
    "msg = (\n",
    "        f\"Out of {raw_data_count} raw data points, {raw_data_count - valid_loc_count} \"\n",
    "        f\"are out of location ID range [1, 263] and has been cleaned\"\n",
    ")\n",
    "print(msg)\n",
    "print(\"Remaining data count:\",valid_loc_count)"
   ]
  },
  {
   "cell_type": "code",
   "execution_count": 11,
   "metadata": {},
   "outputs": [
    {
     "name": "stdout",
     "output_type": "stream",
     "text": [
      "+--------------------+---------------------+------------+------------+--------------+\n",
      "|tpep_pickup_datetime|tpep_dropoff_datetime|PULocationID|DOLocationID|duration (sec)|\n",
      "+--------------------+---------------------+------------+------------+--------------+\n",
      "| 2016-09-01 00:05:53|  2016-09-01 00:13:33|         261|         158|           460|\n",
      "| 2016-09-01 00:18:25|  2016-09-01 00:29:54|         246|          79|           689|\n",
      "| 2016-09-01 00:15:45|  2016-09-01 00:32:59|          90|          75|          1034|\n",
      "| 2016-09-01 00:40:44|  2016-09-01 00:49:34|          43|          48|           530|\n",
      "| 2016-09-01 00:14:48|  2016-09-01 00:23:34|          95|         102|           526|\n",
      "| 2016-09-01 00:45:45|  2016-09-01 00:48:25|          95|          95|           160|\n",
      "| 2016-09-01 00:29:57|  2016-09-01 00:53:55|         170|         129|          1438|\n",
      "| 2016-09-01 00:43:56|  2016-09-01 00:57:12|         238|         244|           796|\n",
      "| 2016-09-01 00:08:45|  2016-09-01 00:19:35|         125|         100|           650|\n",
      "| 2016-09-01 00:24:09|  2016-09-01 00:30:56|         233|         236|           407|\n",
      "| 2016-09-01 00:34:13|  2016-09-01 00:40:55|         237|         140|           402|\n",
      "| 2016-09-01 00:54:01|  2016-09-01 01:01:05|         229|          48|           424|\n",
      "| 2016-09-01 00:04:07|  2016-09-01 00:19:22|         162|         112|           915|\n",
      "| 2016-09-01 00:22:36|  2016-09-01 00:30:50|         255|         217|           494|\n",
      "| 2016-09-01 00:43:29|  2016-09-01 00:51:45|         249|         231|           496|\n",
      "| 2016-09-01 00:57:28|  2016-09-01 01:28:40|          13|         237|          1872|\n",
      "| 2016-09-01 00:09:43|  2016-09-01 00:13:27|         141|         140|           224|\n",
      "| 2016-09-01 00:12:12|  2016-09-01 00:16:12|          82|         196|           240|\n",
      "| 2016-09-01 00:19:17|  2016-09-01 00:28:48|          68|         164|           571|\n",
      "| 2016-09-01 00:37:12|  2016-09-01 00:43:46|         186|         170|           394|\n",
      "+--------------------+---------------------+------------+------------+--------------+\n",
      "only showing top 20 rows\n",
      "\n"
     ]
    }
   ],
   "source": [
    "# generate trip duration in seconds\n",
    "trip_duration_add_sdf = valid_location_sdf.withColumn('duration (sec)',\n",
    "                                            F.col(\"tpep_dropoff_datetime\").cast(\"long\")\\\n",
    "                                            - F.col('tpep_pickup_datetime').cast(\"long\"))\n",
    "trip_duration_add_sdf.show()\n"
   ]
  },
  {
   "cell_type": "code",
   "execution_count": 12,
   "metadata": {},
   "outputs": [
    {
     "name": "stdout",
     "output_type": "stream",
     "text": [
      "root\n",
      " |-- tpep_pickup_datetime: timestamp (nullable = true)\n",
      " |-- tpep_dropoff_datetime: timestamp (nullable = true)\n",
      " |-- PULocationID: long (nullable = true)\n",
      " |-- DOLocationID: long (nullable = true)\n",
      " |-- duration (sec): long (nullable = true)\n",
      "\n"
     ]
    }
   ],
   "source": [
    "trip_duration_add_sdf.printSchema()"
   ]
  },
  {
   "cell_type": "code",
   "execution_count": 13,
   "metadata": {},
   "outputs": [
    {
     "name": "stderr",
     "output_type": "stream",
     "text": [
      "                                                                                \r"
     ]
    },
    {
     "data": {
      "text/html": [
       "<table border='1'>\n",
       "<tr><th>summary</th><th>duration (sec)</th></tr>\n",
       "<tr><td>count</td><td>240137108</td></tr>\n",
       "<tr><td>mean</td><td>978.7926779229806</td></tr>\n",
       "<tr><td>stddev</td><td>98854.68915991281</td></tr>\n",
       "<tr><td>min</td><td>-631151066</td></tr>\n",
       "<tr><td>max</td><td>45466304</td></tr>\n",
       "</table>\n"
      ],
      "text/plain": [
       "+-------+-----------------+\n",
       "|summary|   duration (sec)|\n",
       "+-------+-----------------+\n",
       "|  count|        240137108|\n",
       "|   mean|978.7926779229806|\n",
       "| stddev|98854.68915991281|\n",
       "|    min|       -631151066|\n",
       "|    max|         45466304|\n",
       "+-------+-----------------+"
      ]
     },
     "execution_count": 13,
     "metadata": {},
     "output_type": "execute_result"
    }
   ],
   "source": [
    "trip_duration_add_sdf.describe(\"duration (sec)\")"
   ]
  },
  {
   "cell_type": "code",
   "execution_count": 14,
   "metadata": {},
   "outputs": [
    {
     "name": "stderr",
     "output_type": "stream",
     "text": [
      "[Stage 23:===============================================>        (23 + 4) / 27]\r"
     ]
    },
    {
     "name": "stdout",
     "output_type": "stream",
     "text": [
      "Out of 240137108 valid location data points, 378783 are out of duration range [0 hours, 10 hours] and has been cleaned\n",
      "Remaining data count: 239758325\n"
     ]
    },
    {
     "name": "stderr",
     "output_type": "stream",
     "text": [
      "                                                                                \r"
     ]
    }
   ],
   "source": [
    "# from tlc the maximum per 24 hour period is 10 hours and the minimum would be zero\n",
    "# with such assumption invalid data is removed.\n",
    "valid_duration_sdf = trip_duration_add_sdf.filter(F.col(\"duration (sec)\").between(0, 10*60*60))\n",
    "valid_duration_count = valid_duration_sdf.count()\n",
    "\n",
    "msg = (\n",
    "        f\"Out of {valid_loc_count} valid location data points, {valid_loc_count - valid_duration_count} \"\n",
    "        f\"are out of duration range [0 hours, 10 hours] and has been cleaned\"\n",
    ")\n",
    "print(msg)\n",
    "print(\"Remaining data count:\", valid_duration_count)"
   ]
  },
  {
   "cell_type": "code",
   "execution_count": 16,
   "metadata": {},
   "outputs": [
    {
     "name": "stderr",
     "output_type": "stream",
     "text": [
      "[Stage 29:===============================================>        (23 + 4) / 27]\r"
     ]
    },
    {
     "name": "stdout",
     "output_type": "stream",
     "text": [
      "Out of 239758325 valid location data points, 237416 are out of the range 2016-01-01 to 2017-12-31 and has been cleaned\n",
      "Remaining data count: 239520909\n"
     ]
    },
    {
     "name": "stderr",
     "output_type": "stream",
     "text": [
      "                                                                                \r"
     ]
    }
   ],
   "source": [
    "valid_datetime_sdf = valid_duration_sdf.filter((F.col(\"tpep_pickup_datetime\") >= \"2016-01-01\") & \\\n",
    "                                                (F.col(\"tpep_pickup_datetime\") <= \"2017-12-31\"))\n",
    "\n",
    "valid_datetime_count = valid_datetime_sdf.count()\n",
    "\n",
    "msg = (\n",
    "        f\"Out of {valid_duration_count} valid location data points, {valid_duration_count - valid_datetime_count} \"\n",
    "        f\"are out of the range 2016-01-01 to 2017-12-31 and has been cleaned\"\n",
    ")\n",
    "print(msg)\n",
    "print(\"Remaining data count:\", valid_datetime_count)"
   ]
  },
  {
   "cell_type": "code",
   "execution_count": 17,
   "metadata": {},
   "outputs": [
    {
     "name": "stderr",
     "output_type": "stream",
     "text": [
      "                                                                                \r"
     ]
    }
   ],
   "source": [
    "valid_datetime_sdf.write.mode('overwrite').parquet('../data/curated/preprocess_result1')\n"
   ]
  },
  {
   "cell_type": "code",
   "execution_count": 19,
   "metadata": {},
   "outputs": [
    {
     "name": "stdout",
     "output_type": "stream",
     "text": [
      "+--------------------+---------------------+------------+------------+--------------+\n",
      "|tpep_pickup_datetime|tpep_dropoff_datetime|PULocationID|DOLocationID|duration (sec)|\n",
      "+--------------------+---------------------+------------+------------+--------------+\n",
      "| 2016-09-01 00:05:53|  2016-09-01 00:13:33|         261|         158|           460|\n",
      "| 2016-09-01 00:18:25|  2016-09-01 00:29:54|         246|          79|           689|\n",
      "| 2016-09-01 00:15:45|  2016-09-01 00:32:59|          90|          75|          1034|\n",
      "| 2016-09-01 00:40:44|  2016-09-01 00:49:34|          43|          48|           530|\n",
      "| 2016-09-01 00:14:48|  2016-09-01 00:23:34|          95|         102|           526|\n",
      "| 2016-09-01 00:45:45|  2016-09-01 00:48:25|          95|          95|           160|\n",
      "| 2016-09-01 00:29:57|  2016-09-01 00:53:55|         170|         129|          1438|\n",
      "| 2016-09-01 00:43:56|  2016-09-01 00:57:12|         238|         244|           796|\n",
      "| 2016-09-01 00:08:45|  2016-09-01 00:19:35|         125|         100|           650|\n",
      "| 2016-09-01 00:24:09|  2016-09-01 00:30:56|         233|         236|           407|\n",
      "| 2016-09-01 00:34:13|  2016-09-01 00:40:55|         237|         140|           402|\n",
      "| 2016-09-01 00:54:01|  2016-09-01 01:01:05|         229|          48|           424|\n",
      "| 2016-09-01 00:04:07|  2016-09-01 00:19:22|         162|         112|           915|\n",
      "| 2016-09-01 00:22:36|  2016-09-01 00:30:50|         255|         217|           494|\n",
      "| 2016-09-01 00:43:29|  2016-09-01 00:51:45|         249|         231|           496|\n",
      "| 2016-09-01 00:57:28|  2016-09-01 01:28:40|          13|         237|          1872|\n",
      "| 2016-09-01 00:09:43|  2016-09-01 00:13:27|         141|         140|           224|\n",
      "| 2016-09-01 00:12:12|  2016-09-01 00:16:12|          82|         196|           240|\n",
      "| 2016-09-01 00:19:17|  2016-09-01 00:28:48|          68|         164|           571|\n",
      "| 2016-09-01 00:37:12|  2016-09-01 00:43:46|         186|         170|           394|\n",
      "+--------------------+---------------------+------------+------------+--------------+\n",
      "only showing top 20 rows\n",
      "\n"
     ]
    },
    {
     "name": "stderr",
     "output_type": "stream",
     "text": [
      "[Stage 35:===============================================>        (23 + 4) / 27]\r"
     ]
    },
    {
     "name": "stdout",
     "output_type": "stream",
     "text": [
      "239520909\n"
     ]
    },
    {
     "name": "stderr",
     "output_type": "stream",
     "text": [
      "                                                                                \r"
     ]
    }
   ],
   "source": [
    "valid_datetime_sdf.show()\n",
    "print(valid_datetime_sdf.count())"
   ]
  }
 ],
 "metadata": {
  "kernelspec": {
   "display_name": "Python 3.9.7 ('base')",
   "language": "python",
   "name": "python3"
  },
  "language_info": {
   "codemirror_mode": {
    "name": "ipython",
    "version": 3
   },
   "file_extension": ".py",
   "mimetype": "text/x-python",
   "name": "python",
   "nbconvert_exporter": "python",
   "pygments_lexer": "ipython3",
   "version": "3.9.7"
  },
  "orig_nbformat": 4,
  "vscode": {
   "interpreter": {
    "hash": "40d3a090f54c6569ab1632332b64b2c03c39dcf918b08424e98f38b5ae0af88f"
   }
  }
 },
 "nbformat": 4,
 "nbformat_minor": 2
}
