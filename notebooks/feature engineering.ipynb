{
 "cells": [
  {
   "cell_type": "markdown",
   "metadata": {},
   "source": [
    "# Importing require libraries and pyspark setup"
   ]
  },
  {
   "cell_type": "code",
   "execution_count": 1,
   "metadata": {},
   "outputs": [],
   "source": [
    "from pyspark.sql import SparkSession\n",
    "from pyspark.sql import functions as F\n",
    "from pyspark.sql.types import FloatType\n",
    "from pyspark.sql.types import StringType\n",
    "from calendar import weekday\n",
    "from datetime import datetime, date\n",
    "from pandas.tseries.holiday import USFederalHolidayCalendar as calander\n",
    "from matplotlib.pyplot import figure\n",
    "from matplotlib import pyplot as plt\n",
    "import seaborn as sns\n",
    "import numpy as np\n",
    "import pandas as pd\n",
    "import math"
   ]
  },
  {
   "cell_type": "code",
   "execution_count": 2,
   "metadata": {},
   "outputs": [
    {
     "name": "stdout",
     "output_type": "stream",
     "text": [
      "22/08/25 19:30:00 WARN Utils: Your hostname, kams-MacBook-Pro.local resolves to a loopback address: 127.0.0.1; using 10.13.117.182 instead (on interface en0)\n",
      "22/08/25 19:30:00 WARN Utils: Set SPARK_LOCAL_IP if you need to bind to another address\n"
     ]
    },
    {
     "name": "stderr",
     "output_type": "stream",
     "text": [
      "Setting default log level to \"WARN\".\n",
      "To adjust logging level use sc.setLogLevel(newLevel). For SparkR, use setLogLevel(newLevel).\n"
     ]
    },
    {
     "name": "stdout",
     "output_type": "stream",
     "text": [
      "22/08/25 19:30:01 WARN NativeCodeLoader: Unable to load native-hadoop library for your platform... using builtin-java classes where applicable\n"
     ]
    }
   ],
   "source": [
    "spark = (\n",
    "    SparkSession.builder.appName(\"preprocessing of taxi data\")\n",
    "    .config(\"spark.sql.repl.eagerEval.enabled\", True) \n",
    "    .config(\"spark.sql.parquet.cacheMetadata\", \"true\")\n",
    "    .config(\"spark.sql.session.timeZone\", \"Etc/UTC\")\n",
    "    .config(\"spark.driver.memory\", \"15g\")\n",
    "    .getOrCreate()\n",
    ")"
   ]
  },
  {
   "cell_type": "markdown",
   "metadata": {},
   "source": [
    "Reading in data, and a quick check on the processed data."
   ]
  },
  {
   "cell_type": "code",
   "execution_count": 3,
   "metadata": {},
   "outputs": [
    {
     "name": "stderr",
     "output_type": "stream",
     "text": [
      "                                                                                \r"
     ]
    }
   ],
   "source": [
    "taxi_sdf = spark.read.parquet('../data/curated/preprocess_taxi_result1')\n",
    "weather_sdf = spark.read.parquet('../data/curated/preprocess_weather_result1')"
   ]
  },
  {
   "cell_type": "code",
   "execution_count": 4,
   "metadata": {},
   "outputs": [
    {
     "name": "stdout",
     "output_type": "stream",
     "text": [
      "root\n",
      " |-- tpep_pickup_datetime: timestamp (nullable = true)\n",
      " |-- PULocationID: long (nullable = true)\n",
      " |-- fare_amount: double (nullable = true)\n",
      " |-- extra: double (nullable = true)\n",
      " |-- tip_amount: double (nullable = true)\n",
      " |-- duration (minutes): double (nullable = true)\n",
      "\n"
     ]
    }
   ],
   "source": [
    "taxi_sdf.printSchema()"
   ]
  },
  {
   "cell_type": "markdown",
   "metadata": {},
   "source": [
    "# Obtaining date, time, year, month, and day from pickup datetime\n",
    "This is done to allow easier feature engineering in terms of coding purpose, but also to capture underlying relationships of data."
   ]
  },
  {
   "cell_type": "code",
   "execution_count": 5,
   "metadata": {},
   "outputs": [
    {
     "name": "stderr",
     "output_type": "stream",
     "text": [
      "                                                                                \r"
     ]
    },
    {
     "data": {
      "text/html": [
       "<table border='1'>\n",
       "<tr><th>tpep_pickup_datetime</th><th>PULocationID</th><th>fare_amount</th><th>extra</th><th>tip_amount</th><th>duration (minutes)</th><th>date</th><th>time</th><th>year</th><th>month</th><th>day</th></tr>\n",
       "<tr><td>2016-03-01 00:06:22</td><td>43</td><td>6.5</td><td>0.5</td><td>0.0</td><td>4.333</td><td>2016-03-01</td><td>00:06:22</td><td>2016</td><td>03</td><td>01</td></tr>\n",
       "<tr><td>2016-03-01 00:23:21</td><td>237</td><td>8.5</td><td>0.5</td><td>1.96</td><td>5.617</td><td>2016-03-01</td><td>00:23:21</td><td>2016</td><td>03</td><td>01</td></tr>\n",
       "<tr><td>2016-03-01 00:37:19</td><td>236</td><td>8.0</td><td>0.5</td><td>1.86</td><td>6.867</td><td>2016-03-01</td><td>00:37:19</td><td>2016</td><td>03</td><td>01</td></tr>\n",
       "<tr><td>2016-03-01 00:34:53</td><td>95</td><td>13.0</td><td>0.5</td><td>2.5</td><td>11.35</td><td>2016-03-01</td><td>00:34:53</td><td>2016</td><td>03</td><td>01</td></tr>\n",
       "<tr><td>2016-03-01 00:30:27</td><td>170</td><td>20.5</td><td>0.5</td><td>4.35</td><td>22.7</td><td>2016-03-01</td><td>00:30:27</td><td>2016</td><td>03</td><td>01</td></tr>\n",
       "<tr><td>2016-03-01 00:09:43</td><td>163</td><td>9.0</td><td>0.5</td><td>3.09</td><td>8.983</td><td>2016-03-01</td><td>00:09:43</td><td>2016</td><td>03</td><td>01</td></tr>\n",
       "<tr><td>2016-03-01 00:32:15</td><td>163</td><td>7.0</td><td>0.5</td><td>1.66</td><td>8.05</td><td>2016-03-01</td><td>00:32:15</td><td>2016</td><td>03</td><td>01</td></tr>\n",
       "<tr><td>2016-03-01 00:02:37</td><td>142</td><td>29.0</td><td>0.5</td><td>6.05</td><td>26.85</td><td>2016-03-01</td><td>00:02:37</td><td>2016</td><td>03</td><td>01</td></tr>\n",
       "<tr><td>2016-03-01 00:50:58</td><td>239</td><td>8.0</td><td>0.5</td><td>1.85</td><td>6.9</td><td>2016-03-01</td><td>00:50:58</td><td>2016</td><td>03</td><td>01</td></tr>\n",
       "<tr><td>2016-03-01 00:06:17</td><td>164</td><td>8.0</td><td>0.5</td><td>1.85</td><td>8.617</td><td>2016-03-01</td><td>00:06:17</td><td>2016</td><td>03</td><td>01</td></tr>\n",
       "<tr><td>2016-03-01 00:34:15</td><td>161</td><td>6.5</td><td>0.5</td><td>1.55</td><td>6.7</td><td>2016-03-01</td><td>00:34:15</td><td>2016</td><td>03</td><td>01</td></tr>\n",
       "<tr><td>2016-03-01 00:29:22</td><td>132</td><td>40.0</td><td>0.5</td><td>8.26</td><td>19.25</td><td>2016-03-01</td><td>00:29:22</td><td>2016</td><td>03</td><td>01</td></tr>\n",
       "<tr><td>2016-03-01 00:24:58</td><td>162</td><td>10.0</td><td>0.5</td><td>2.8</td><td>8.883</td><td>2016-03-01</td><td>00:24:58</td><td>2016</td><td>03</td><td>01</td></tr>\n",
       "<tr><td>2016-03-01 00:13:13</td><td>144</td><td>8.5</td><td>0.5</td><td>2.45</td><td>9.517</td><td>2016-03-01</td><td>00:13:13</td><td>2016</td><td>03</td><td>01</td></tr>\n",
       "<tr><td>2016-03-01 00:30:32</td><td>148</td><td>16.5</td><td>0.5</td><td>3.55</td><td>14.0</td><td>2016-03-01</td><td>00:30:32</td><td>2016</td><td>03</td><td>01</td></tr>\n",
       "<tr><td>2016-03-01 00:07:16</td><td>148</td><td>13.0</td><td>0.5</td><td>2.86</td><td>13.367</td><td>2016-03-01</td><td>00:07:16</td><td>2016</td><td>03</td><td>01</td></tr>\n",
       "<tr><td>2016-03-01 00:56:54</td><td>148</td><td>22.0</td><td>0.5</td><td>4.65</td><td>20.933</td><td>2016-03-01</td><td>00:56:54</td><td>2016</td><td>03</td><td>01</td></tr>\n",
       "<tr><td>2016-03-01 00:33:42</td><td>161</td><td>6.0</td><td>0.5</td><td>1.45</td><td>5.233</td><td>2016-03-01</td><td>00:33:42</td><td>2016</td><td>03</td><td>01</td></tr>\n",
       "<tr><td>2016-03-01 00:28:16</td><td>75</td><td>8.5</td><td>0.5</td><td>2.45</td><td>7.667</td><td>2016-03-01</td><td>00:28:16</td><td>2016</td><td>03</td><td>01</td></tr>\n",
       "<tr><td>2016-03-01 00:30:09</td><td>163</td><td>9.0</td><td>0.5</td><td>2.55</td><td>9.6</td><td>2016-03-01</td><td>00:30:09</td><td>2016</td><td>03</td><td>01</td></tr>\n",
       "</table>\n",
       "only showing top 20 rows\n"
      ],
      "text/plain": [
       "+--------------------+------------+-----------+-----+----------+------------------+----------+--------+----+-----+---+\n",
       "|tpep_pickup_datetime|PULocationID|fare_amount|extra|tip_amount|duration (minutes)|      date|    time|year|month|day|\n",
       "+--------------------+------------+-----------+-----+----------+------------------+----------+--------+----+-----+---+\n",
       "| 2016-03-01 00:06:22|          43|        6.5|  0.5|       0.0|             4.333|2016-03-01|00:06:22|2016|   03| 01|\n",
       "| 2016-03-01 00:23:21|         237|        8.5|  0.5|      1.96|             5.617|2016-03-01|00:23:21|2016|   03| 01|\n",
       "| 2016-03-01 00:37:19|         236|        8.0|  0.5|      1.86|             6.867|2016-03-01|00:37:19|2016|   03| 01|\n",
       "| 2016-03-01 00:34:53|          95|       13.0|  0.5|       2.5|             11.35|2016-03-01|00:34:53|2016|   03| 01|\n",
       "| 2016-03-01 00:30:27|         170|       20.5|  0.5|      4.35|              22.7|2016-03-01|00:30:27|2016|   03| 01|\n",
       "| 2016-03-01 00:09:43|         163|        9.0|  0.5|      3.09|             8.983|2016-03-01|00:09:43|2016|   03| 01|\n",
       "| 2016-03-01 00:32:15|         163|        7.0|  0.5|      1.66|              8.05|2016-03-01|00:32:15|2016|   03| 01|\n",
       "| 2016-03-01 00:02:37|         142|       29.0|  0.5|      6.05|             26.85|2016-03-01|00:02:37|2016|   03| 01|\n",
       "| 2016-03-01 00:50:58|         239|        8.0|  0.5|      1.85|               6.9|2016-03-01|00:50:58|2016|   03| 01|\n",
       "| 2016-03-01 00:06:17|         164|        8.0|  0.5|      1.85|             8.617|2016-03-01|00:06:17|2016|   03| 01|\n",
       "| 2016-03-01 00:34:15|         161|        6.5|  0.5|      1.55|               6.7|2016-03-01|00:34:15|2016|   03| 01|\n",
       "| 2016-03-01 00:29:22|         132|       40.0|  0.5|      8.26|             19.25|2016-03-01|00:29:22|2016|   03| 01|\n",
       "| 2016-03-01 00:24:58|         162|       10.0|  0.5|       2.8|             8.883|2016-03-01|00:24:58|2016|   03| 01|\n",
       "| 2016-03-01 00:13:13|         144|        8.5|  0.5|      2.45|             9.517|2016-03-01|00:13:13|2016|   03| 01|\n",
       "| 2016-03-01 00:30:32|         148|       16.5|  0.5|      3.55|              14.0|2016-03-01|00:30:32|2016|   03| 01|\n",
       "| 2016-03-01 00:07:16|         148|       13.0|  0.5|      2.86|            13.367|2016-03-01|00:07:16|2016|   03| 01|\n",
       "| 2016-03-01 00:56:54|         148|       22.0|  0.5|      4.65|            20.933|2016-03-01|00:56:54|2016|   03| 01|\n",
       "| 2016-03-01 00:33:42|         161|        6.0|  0.5|      1.45|             5.233|2016-03-01|00:33:42|2016|   03| 01|\n",
       "| 2016-03-01 00:28:16|          75|        8.5|  0.5|      2.45|             7.667|2016-03-01|00:28:16|2016|   03| 01|\n",
       "| 2016-03-01 00:30:09|         163|        9.0|  0.5|      2.55|               9.6|2016-03-01|00:30:09|2016|   03| 01|\n",
       "+--------------------+------------+-----------+-----+----------+------------------+----------+--------+----+-----+---+\n",
       "only showing top 20 rows"
      ]
     },
     "execution_count": 5,
     "metadata": {},
     "output_type": "execute_result"
    }
   ],
   "source": [
    "taxi_sdf = taxi_sdf.withColumn(\"date\", F.to_date(F.col('tpep_pickup_datetime')))\n",
    "taxi_sdf = taxi_sdf.withColumn(\"time\", F.date_format('tpep_pickup_datetime', 'HH:mm:ss'))\n",
    "taxi_sdf = taxi_sdf.withColumn(\"year\", F.date_format('tpep_pickup_datetime', 'yyyy'))\n",
    "taxi_sdf = taxi_sdf.withColumn(\"month\", F.date_format('tpep_pickup_datetime', 'MM'))\n",
    "taxi_sdf = taxi_sdf.withColumn(\"day\", F.date_format('tpep_pickup_datetime', 'dd'))\n",
    "taxi_sdf\n"
   ]
  },
  {
   "cell_type": "code",
   "execution_count": 6,
   "metadata": {},
   "outputs": [
    {
     "data": {
      "text/html": [
       "<table border='1'>\n",
       "<tr><th>datetime</th><th>average_temperature</th><th>precip</th></tr>\n",
       "<tr><td>2016-01-01</td><td>3.75</td><td>0</td></tr>\n",
       "<tr><td>2016-01-02</td><td>2.55</td><td>0</td></tr>\n",
       "<tr><td>2016-01-03</td><td>4.4</td><td>0</td></tr>\n",
       "<tr><td>2016-01-04</td><td>-3.4</td><td>0</td></tr>\n",
       "<tr><td>2016-01-05</td><td>-6.55</td><td>0</td></tr>\n",
       "<tr><td>2016-01-06</td><td>0.3</td><td>0</td></tr>\n",
       "<tr><td>2016-01-07</td><td>3.8</td><td>0</td></tr>\n",
       "<tr><td>2016-01-08</td><td>4.3</td><td>0</td></tr>\n",
       "<tr><td>2016-01-09</td><td>6.5</td><td>0.05</td></tr>\n",
       "<tr><td>2016-01-10</td><td>10.0</td><td>40.9</td></tr>\n",
       "<tr><td>2016-01-11</td><td>1.2</td><td>0.31</td></tr>\n",
       "<tr><td>2016-01-12</td><td>1.45</td><td>0</td></tr>\n",
       "<tr><td>2016-01-13</td><td>-3.25</td><td>0</td></tr>\n",
       "<tr><td>2016-01-14</td><td>-0.9</td><td>0</td></tr>\n",
       "<tr><td>2016-01-15</td><td>5.85</td><td>0.07</td></tr>\n",
       "<tr><td>2016-01-16</td><td>8.2</td><td>6.33</td></tr>\n",
       "<tr><td>2016-01-17</td><td>2.45</td><td>1.36</td></tr>\n",
       "<tr><td>2016-01-18</td><td>-3.75</td><td>0.06</td></tr>\n",
       "<tr><td>2016-01-19</td><td>-5.15</td><td>0</td></tr>\n",
       "<tr><td>2016-01-20</td><td>0.1</td><td>0</td></tr>\n",
       "</table>\n",
       "only showing top 20 rows\n"
      ],
      "text/plain": [
       "+----------+-------------------+------+\n",
       "|  datetime|average_temperature|precip|\n",
       "+----------+-------------------+------+\n",
       "|2016-01-01|               3.75|     0|\n",
       "|2016-01-02|               2.55|     0|\n",
       "|2016-01-03|                4.4|     0|\n",
       "|2016-01-04|               -3.4|     0|\n",
       "|2016-01-05|              -6.55|     0|\n",
       "|2016-01-06|                0.3|     0|\n",
       "|2016-01-07|                3.8|     0|\n",
       "|2016-01-08|                4.3|     0|\n",
       "|2016-01-09|                6.5|  0.05|\n",
       "|2016-01-10|               10.0|  40.9|\n",
       "|2016-01-11|                1.2|  0.31|\n",
       "|2016-01-12|               1.45|     0|\n",
       "|2016-01-13|              -3.25|     0|\n",
       "|2016-01-14|               -0.9|     0|\n",
       "|2016-01-15|               5.85|  0.07|\n",
       "|2016-01-16|                8.2|  6.33|\n",
       "|2016-01-17|               2.45|  1.36|\n",
       "|2016-01-18|              -3.75|  0.06|\n",
       "|2016-01-19|              -5.15|     0|\n",
       "|2016-01-20|                0.1|     0|\n",
       "+----------+-------------------+------+\n",
       "only showing top 20 rows"
      ]
     },
     "execution_count": 6,
     "metadata": {},
     "output_type": "execute_result"
    }
   ],
   "source": [
    "weather_sdf"
   ]
  },
  {
   "cell_type": "markdown",
   "metadata": {},
   "source": [
    "# Merging weather dataset and taxi dataset based on date \n",
    "This is done to simplify the process of feature engineering and preparing a training dataset"
   ]
  },
  {
   "cell_type": "code",
   "execution_count": 7,
   "metadata": {},
   "outputs": [],
   "source": [
    "join_sdf = taxi_sdf.join(weather_sdf, taxi_sdf.date == weather_sdf.datetime, \"left\")"
   ]
  },
  {
   "cell_type": "code",
   "execution_count": 8,
   "metadata": {},
   "outputs": [
    {
     "name": "stdout",
     "output_type": "stream",
     "text": [
      "+------------+-----------+-----+----------+------------------+----------+--------+----+-----+---+-------------------+------+\n",
      "|PULocationID|fare_amount|extra|tip_amount|duration (minutes)|      date|    time|year|month|day|average_temperature|precip|\n",
      "+------------+-----------+-----+----------+------------------+----------+--------+----+-----+---+-------------------+------+\n",
      "|          43|        6.5|  0.5|       0.0|             4.333|2016-03-01|00:06:22|2016|   03| 01|                7.2|     0|\n",
      "|         237|        8.5|  0.5|      1.96|             5.617|2016-03-01|00:23:21|2016|   03| 01|                7.2|     0|\n",
      "|         236|        8.0|  0.5|      1.86|             6.867|2016-03-01|00:37:19|2016|   03| 01|                7.2|     0|\n",
      "|          95|       13.0|  0.5|       2.5|             11.35|2016-03-01|00:34:53|2016|   03| 01|                7.2|     0|\n",
      "|         170|       20.5|  0.5|      4.35|              22.7|2016-03-01|00:30:27|2016|   03| 01|                7.2|     0|\n",
      "|         163|        9.0|  0.5|      3.09|             8.983|2016-03-01|00:09:43|2016|   03| 01|                7.2|     0|\n",
      "|         163|        7.0|  0.5|      1.66|              8.05|2016-03-01|00:32:15|2016|   03| 01|                7.2|     0|\n",
      "|         142|       29.0|  0.5|      6.05|             26.85|2016-03-01|00:02:37|2016|   03| 01|                7.2|     0|\n",
      "|         239|        8.0|  0.5|      1.85|               6.9|2016-03-01|00:50:58|2016|   03| 01|                7.2|     0|\n",
      "|         164|        8.0|  0.5|      1.85|             8.617|2016-03-01|00:06:17|2016|   03| 01|                7.2|     0|\n",
      "|         161|        6.5|  0.5|      1.55|               6.7|2016-03-01|00:34:15|2016|   03| 01|                7.2|     0|\n",
      "|         132|       40.0|  0.5|      8.26|             19.25|2016-03-01|00:29:22|2016|   03| 01|                7.2|     0|\n",
      "|         162|       10.0|  0.5|       2.8|             8.883|2016-03-01|00:24:58|2016|   03| 01|                7.2|     0|\n",
      "|         144|        8.5|  0.5|      2.45|             9.517|2016-03-01|00:13:13|2016|   03| 01|                7.2|     0|\n",
      "|         148|       16.5|  0.5|      3.55|              14.0|2016-03-01|00:30:32|2016|   03| 01|                7.2|     0|\n",
      "|         148|       13.0|  0.5|      2.86|            13.367|2016-03-01|00:07:16|2016|   03| 01|                7.2|     0|\n",
      "|         148|       22.0|  0.5|      4.65|            20.933|2016-03-01|00:56:54|2016|   03| 01|                7.2|     0|\n",
      "|         161|        6.0|  0.5|      1.45|             5.233|2016-03-01|00:33:42|2016|   03| 01|                7.2|     0|\n",
      "|          75|        8.5|  0.5|      2.45|             7.667|2016-03-01|00:28:16|2016|   03| 01|                7.2|     0|\n",
      "|         163|        9.0|  0.5|      2.55|               9.6|2016-03-01|00:30:09|2016|   03| 01|                7.2|     0|\n",
      "+------------+-----------+-----+----------+------------------+----------+--------+----+-----+---+-------------------+------+\n",
      "only showing top 20 rows\n",
      "\n"
     ]
    }
   ],
   "source": [
    "feature_eng_sdf = join_sdf.drop(\"tpep_pickup_datetime\", \"datetime\")\n",
    "feature_eng_sdf.show()"
   ]
  },
  {
   "cell_type": "markdown",
   "metadata": {},
   "source": [
    "# Creating visualisation of month against total value of trips in 2016\n",
    "This is done to investigate the relationship that may be hidden the data set."
   ]
  },
  {
   "cell_type": "code",
   "execution_count": 9,
   "metadata": {},
   "outputs": [
    {
     "name": "stderr",
     "output_type": "stream",
     "text": [
      "                                                                                \r"
     ]
    }
   ],
   "source": [
    "visualise_month_pickups_sdf = feature_eng_sdf.filter(F.col(\"date\") <= \"2016-12-31\")\n",
    "# get total amount of trips according to month.\n",
    "visualise_month_pickups_sdf = visualise_month_pickups_sdf.groupBy(\"month\") \\\n",
    "                                                     .agg(\n",
    "                                                         {\n",
    "                                                             \"month\": \"count\",\n",
    "                                                        }\n",
    "                                                     ) \\\n",
    "                                                     .withColumnRenamed('count(month)', 'total_trips') \n",
    "visualise_month_pickups_df = visualise_month_pickups_sdf.toPandas()"
   ]
  },
  {
   "cell_type": "markdown",
   "metadata": {},
   "source": [
    "Plotting a line graph, to provide insight of the relationship."
   ]
  },
  {
   "cell_type": "code",
   "execution_count": 10,
   "metadata": {},
   "outputs": [
    {
     "name": "stderr",
     "output_type": "stream",
     "text": [
      "/var/folders/mk/5m0_ggk577s5d_q78b0zrg540000gn/T/ipykernel_81504/4013854996.py:9: MatplotlibDeprecationWarning: Case-insensitive properties were deprecated in 3.3 and support will be removed two minor releases later\n",
      "  plt.plot(x, y, Marker='o')\n"
     ]
    },
    {
     "data": {
      "image/png": "[encoded data removed]",
      "text/plain": [
       "<Figure size 640x480 with 1 Axes>"
      ]
     },
     "metadata": {
      "needs_background": "light"
     },
     "output_type": "display_data"
    }
   ],
   "source": [
    "figure(figsize=(8, 6), dpi=80)\n",
    "visualise_month_pickups_df = visualise_month_pickups_df.sort_values(by=['month'])\n",
    "x = visualise_month_pickups_df['month']\n",
    "y = visualise_month_pickups_df['total_trips']\n",
    "plt.title(\"Distribution of trips in 2016 by months\", fontsize=15)\n",
    "plt.grid(b=True)\n",
    "plt.ylabel(\"Number of trips (millions)\", fontsize=14)\n",
    "plt.xlabel(\"Month\", fontsize=14)\n",
    "plt.plot(x, y, Marker='o')\n",
    "plt.savefig(\"../plots/pickup_month.png\", bbox_inches = \"tight\")"
   ]
  },
  {
   "cell_type": "markdown",
   "metadata": {},
   "source": [
    "# Normalise time with the purpose of seperating it under a 24 hour bin"
   ]
  },
  {
   "cell_type": "code",
   "execution_count": 11,
   "metadata": {},
   "outputs": [],
   "source": [
    "@F.udf(returnType=FloatType())\n",
    "def normalize_time(time):\n",
    "    \"\"\" normalized time in to a floating point between 0 and 1 that is binned \n",
    "        into the middle of the bin, 24 bins.\n",
    "\n",
    "    Args:\n",
    "        time (string): a string that describe time in the form of HH:mm:ss\n",
    "\n",
    "    Returns:\n",
    "        float: standardised time\n",
    "    \"\"\"\n",
    "    BIN = 24\n",
    "    hour, min, sec = time.split(':')\n",
    "\n",
    "    return (int(hour) + 0.5) / BIN\n",
    "\n",
    "feature_eng_sdf = feature_eng_sdf.withColumn(\"time_float\", normalize_time(F.col(\"time\")))"
   ]
  },
  {
   "cell_type": "code",
   "execution_count": 12,
   "metadata": {},
   "outputs": [],
   "source": [
    "@F.udf(returnType=FloatType())\n",
    "def cos_val(value):\n",
    "    \"\"\" convert value to cosine value\n",
    "\n",
    "    Args:\n",
    "        time (float): a float value that is between 0 and 1\n",
    "\n",
    "    Returns:\n",
    "        float: value in cosine value\n",
    "    \"\"\"\n",
    "    cos_time = math.cos(2 * math.pi * value)\n",
    "    \n",
    "    return cos_time\n",
    "\n",
    "@F.udf(returnType=FloatType())\n",
    "def sin_val(value):\n",
    "    \"\"\" convert value to sin value\n",
    "\n",
    "    Args:\n",
    "        time (float): a float value that is between 0 and 1\n",
    "\n",
    "    Returns:\n",
    "        float: value in sin value\n",
    "    \"\"\"\n",
    "    sin_time = math.sin(2 * math.pi * value)\n",
    "    \n",
    "    return sin_time"
   ]
  },
  {
   "cell_type": "markdown",
   "metadata": {},
   "source": [
    "Since time is a cyclical feature, cosine and sine transformation is performed retain the cyclical pattern"
   ]
  },
  {
   "cell_type": "code",
   "execution_count": 13,
   "metadata": {},
   "outputs": [
    {
     "name": "stderr",
     "output_type": "stream",
     "text": [
      "                                                                                \r"
     ]
    },
    {
     "data": {
      "text/html": [
       "<table border='1'>\n",
       "<tr><th>PULocationID</th><th>fare_amount</th><th>extra</th><th>tip_amount</th><th>duration (minutes)</th><th>date</th><th>time</th><th>year</th><th>month</th><th>day</th><th>average_temperature</th><th>precip</th><th>time_float</th><th>cos_time</th><th>sin_time</th></tr>\n",
       "<tr><td>43</td><td>6.5</td><td>0.5</td><td>0.0</td><td>4.333</td><td>2016-03-01</td><td>00:06:22</td><td>2016</td><td>03</td><td>01</td><td>7.2</td><td>0</td><td>0.020833334</td><td>0.9914449</td><td>0.13052619</td></tr>\n",
       "<tr><td>237</td><td>8.5</td><td>0.5</td><td>1.96</td><td>5.617</td><td>2016-03-01</td><td>00:23:21</td><td>2016</td><td>03</td><td>01</td><td>7.2</td><td>0</td><td>0.020833334</td><td>0.9914449</td><td>0.13052619</td></tr>\n",
       "<tr><td>236</td><td>8.0</td><td>0.5</td><td>1.86</td><td>6.867</td><td>2016-03-01</td><td>00:37:19</td><td>2016</td><td>03</td><td>01</td><td>7.2</td><td>0</td><td>0.020833334</td><td>0.9914449</td><td>0.13052619</td></tr>\n",
       "<tr><td>95</td><td>13.0</td><td>0.5</td><td>2.5</td><td>11.35</td><td>2016-03-01</td><td>00:34:53</td><td>2016</td><td>03</td><td>01</td><td>7.2</td><td>0</td><td>0.020833334</td><td>0.9914449</td><td>0.13052619</td></tr>\n",
       "<tr><td>170</td><td>20.5</td><td>0.5</td><td>4.35</td><td>22.7</td><td>2016-03-01</td><td>00:30:27</td><td>2016</td><td>03</td><td>01</td><td>7.2</td><td>0</td><td>0.020833334</td><td>0.9914449</td><td>0.13052619</td></tr>\n",
       "<tr><td>163</td><td>9.0</td><td>0.5</td><td>3.09</td><td>8.983</td><td>2016-03-01</td><td>00:09:43</td><td>2016</td><td>03</td><td>01</td><td>7.2</td><td>0</td><td>0.020833334</td><td>0.9914449</td><td>0.13052619</td></tr>\n",
       "<tr><td>163</td><td>7.0</td><td>0.5</td><td>1.66</td><td>8.05</td><td>2016-03-01</td><td>00:32:15</td><td>2016</td><td>03</td><td>01</td><td>7.2</td><td>0</td><td>0.020833334</td><td>0.9914449</td><td>0.13052619</td></tr>\n",
       "<tr><td>142</td><td>29.0</td><td>0.5</td><td>6.05</td><td>26.85</td><td>2016-03-01</td><td>00:02:37</td><td>2016</td><td>03</td><td>01</td><td>7.2</td><td>0</td><td>0.020833334</td><td>0.9914449</td><td>0.13052619</td></tr>\n",
       "<tr><td>239</td><td>8.0</td><td>0.5</td><td>1.85</td><td>6.9</td><td>2016-03-01</td><td>00:50:58</td><td>2016</td><td>03</td><td>01</td><td>7.2</td><td>0</td><td>0.020833334</td><td>0.9914449</td><td>0.13052619</td></tr>\n",
       "<tr><td>164</td><td>8.0</td><td>0.5</td><td>1.85</td><td>8.617</td><td>2016-03-01</td><td>00:06:17</td><td>2016</td><td>03</td><td>01</td><td>7.2</td><td>0</td><td>0.020833334</td><td>0.9914449</td><td>0.13052619</td></tr>\n",
       "<tr><td>161</td><td>6.5</td><td>0.5</td><td>1.55</td><td>6.7</td><td>2016-03-01</td><td>00:34:15</td><td>2016</td><td>03</td><td>01</td><td>7.2</td><td>0</td><td>0.020833334</td><td>0.9914449</td><td>0.13052619</td></tr>\n",
       "<tr><td>132</td><td>40.0</td><td>0.5</td><td>8.26</td><td>19.25</td><td>2016-03-01</td><td>00:29:22</td><td>2016</td><td>03</td><td>01</td><td>7.2</td><td>0</td><td>0.020833334</td><td>0.9914449</td><td>0.13052619</td></tr>\n",
       "<tr><td>162</td><td>10.0</td><td>0.5</td><td>2.8</td><td>8.883</td><td>2016-03-01</td><td>00:24:58</td><td>2016</td><td>03</td><td>01</td><td>7.2</td><td>0</td><td>0.020833334</td><td>0.9914449</td><td>0.13052619</td></tr>\n",
       "<tr><td>144</td><td>8.5</td><td>0.5</td><td>2.45</td><td>9.517</td><td>2016-03-01</td><td>00:13:13</td><td>2016</td><td>03</td><td>01</td><td>7.2</td><td>0</td><td>0.020833334</td><td>0.9914449</td><td>0.13052619</td></tr>\n",
       "<tr><td>148</td><td>16.5</td><td>0.5</td><td>3.55</td><td>14.0</td><td>2016-03-01</td><td>00:30:32</td><td>2016</td><td>03</td><td>01</td><td>7.2</td><td>0</td><td>0.020833334</td><td>0.9914449</td><td>0.13052619</td></tr>\n",
       "<tr><td>148</td><td>13.0</td><td>0.5</td><td>2.86</td><td>13.367</td><td>2016-03-01</td><td>00:07:16</td><td>2016</td><td>03</td><td>01</td><td>7.2</td><td>0</td><td>0.020833334</td><td>0.9914449</td><td>0.13052619</td></tr>\n",
       "<tr><td>148</td><td>22.0</td><td>0.5</td><td>4.65</td><td>20.933</td><td>2016-03-01</td><td>00:56:54</td><td>2016</td><td>03</td><td>01</td><td>7.2</td><td>0</td><td>0.020833334</td><td>0.9914449</td><td>0.13052619</td></tr>\n",
       "<tr><td>161</td><td>6.0</td><td>0.5</td><td>1.45</td><td>5.233</td><td>2016-03-01</td><td>00:33:42</td><td>2016</td><td>03</td><td>01</td><td>7.2</td><td>0</td><td>0.020833334</td><td>0.9914449</td><td>0.13052619</td></tr>\n",
       "<tr><td>75</td><td>8.5</td><td>0.5</td><td>2.45</td><td>7.667</td><td>2016-03-01</td><td>00:28:16</td><td>2016</td><td>03</td><td>01</td><td>7.2</td><td>0</td><td>0.020833334</td><td>0.9914449</td><td>0.13052619</td></tr>\n",
       "<tr><td>163</td><td>9.0</td><td>0.5</td><td>2.55</td><td>9.6</td><td>2016-03-01</td><td>00:30:09</td><td>2016</td><td>03</td><td>01</td><td>7.2</td><td>0</td><td>0.020833334</td><td>0.9914449</td><td>0.13052619</td></tr>\n",
       "</table>\n",
       "only showing top 20 rows\n"
      ],
      "text/plain": [
       "+------------+-----------+-----+----------+------------------+----------+--------+----+-----+---+-------------------+------+-----------+---------+----------+\n",
       "|PULocationID|fare_amount|extra|tip_amount|duration (minutes)|      date|    time|year|month|day|average_temperature|precip| time_float| cos_time|  sin_time|\n",
       "+------------+-----------+-----+----------+------------------+----------+--------+----+-----+---+-------------------+------+-----------+---------+----------+\n",
       "|          43|        6.5|  0.5|       0.0|             4.333|2016-03-01|00:06:22|2016|   03| 01|                7.2|     0|0.020833334|0.9914449|0.13052619|\n",
       "|         237|        8.5|  0.5|      1.96|             5.617|2016-03-01|00:23:21|2016|   03| 01|                7.2|     0|0.020833334|0.9914449|0.13052619|\n",
       "|         236|        8.0|  0.5|      1.86|             6.867|2016-03-01|00:37:19|2016|   03| 01|                7.2|     0|0.020833334|0.9914449|0.13052619|\n",
       "|          95|       13.0|  0.5|       2.5|             11.35|2016-03-01|00:34:53|2016|   03| 01|                7.2|     0|0.020833334|0.9914449|0.13052619|\n",
       "|         170|       20.5|  0.5|      4.35|              22.7|2016-03-01|00:30:27|2016|   03| 01|                7.2|     0|0.020833334|0.9914449|0.13052619|\n",
       "|         163|        9.0|  0.5|      3.09|             8.983|2016-03-01|00:09:43|2016|   03| 01|                7.2|     0|0.020833334|0.9914449|0.13052619|\n",
       "|         163|        7.0|  0.5|      1.66|              8.05|2016-03-01|00:32:15|2016|   03| 01|                7.2|     0|0.020833334|0.9914449|0.13052619|\n",
       "|         142|       29.0|  0.5|      6.05|             26.85|2016-03-01|00:02:37|2016|   03| 01|                7.2|     0|0.020833334|0.9914449|0.13052619|\n",
       "|         239|        8.0|  0.5|      1.85|               6.9|2016-03-01|00:50:58|2016|   03| 01|                7.2|     0|0.020833334|0.9914449|0.13052619|\n",
       "|         164|        8.0|  0.5|      1.85|             8.617|2016-03-01|00:06:17|2016|   03| 01|                7.2|     0|0.020833334|0.9914449|0.13052619|\n",
       "|         161|        6.5|  0.5|      1.55|               6.7|2016-03-01|00:34:15|2016|   03| 01|                7.2|     0|0.020833334|0.9914449|0.13052619|\n",
       "|         132|       40.0|  0.5|      8.26|             19.25|2016-03-01|00:29:22|2016|   03| 01|                7.2|     0|0.020833334|0.9914449|0.13052619|\n",
       "|         162|       10.0|  0.5|       2.8|             8.883|2016-03-01|00:24:58|2016|   03| 01|                7.2|     0|0.020833334|0.9914449|0.13052619|\n",
       "|         144|        8.5|  0.5|      2.45|             9.517|2016-03-01|00:13:13|2016|   03| 01|                7.2|     0|0.020833334|0.9914449|0.13052619|\n",
       "|         148|       16.5|  0.5|      3.55|              14.0|2016-03-01|00:30:32|2016|   03| 01|                7.2|     0|0.020833334|0.9914449|0.13052619|\n",
       "|         148|       13.0|  0.5|      2.86|            13.367|2016-03-01|00:07:16|2016|   03| 01|                7.2|     0|0.020833334|0.9914449|0.13052619|\n",
       "|         148|       22.0|  0.5|      4.65|            20.933|2016-03-01|00:56:54|2016|   03| 01|                7.2|     0|0.020833334|0.9914449|0.13052619|\n",
       "|         161|        6.0|  0.5|      1.45|             5.233|2016-03-01|00:33:42|2016|   03| 01|                7.2|     0|0.020833334|0.9914449|0.13052619|\n",
       "|          75|        8.5|  0.5|      2.45|             7.667|2016-03-01|00:28:16|2016|   03| 01|                7.2|     0|0.020833334|0.9914449|0.13052619|\n",
       "|         163|        9.0|  0.5|      2.55|               9.6|2016-03-01|00:30:09|2016|   03| 01|                7.2|     0|0.020833334|0.9914449|0.13052619|\n",
       "+------------+-----------+-----+----------+------------------+----------+--------+----+-----+---+-------------------+------+-----------+---------+----------+\n",
       "only showing top 20 rows"
      ]
     },
     "execution_count": 13,
     "metadata": {},
     "output_type": "execute_result"
    }
   ],
   "source": [
    "feature_eng_sdf = feature_eng_sdf.withColumn(\"cos_time\", cos_val(F.col(\"time_float\")))\n",
    "feature_eng_sdf = feature_eng_sdf.withColumn(\"sin_time\", sin_val(F.col(\"time_float\")))\n",
    "feature_eng_sdf"
   ]
  },
  {
   "cell_type": "markdown",
   "metadata": {},
   "source": [
    "# Visualising weekday and time's relationship with trip amount"
   ]
  },
  {
   "cell_type": "code",
   "execution_count": 14,
   "metadata": {},
   "outputs": [
    {
     "name": "stderr",
     "output_type": "stream",
     "text": [
      "                                                                                \r"
     ]
    },
    {
     "data": {
      "text/html": [
       "<table border='1'>\n",
       "<tr><th>day_of_week</th><th>time_float</th><th>total_trips</th><th>time</th></tr>\n",
       "<tr><td>Friday</td><td>0.020833334</td><td>725678</td><td>00:11:22</td></tr>\n",
       "<tr><td>Friday</td><td>0.0625</td><td>457989</td><td>01:02:20</td></tr>\n",
       "<tr><td>Friday</td><td>0.104166664</td><td>288720</td><td>02:00:36</td></tr>\n",
       "<tr><td>Friday</td><td>0.14583333</td><td>183127</td><td>03:10:40</td></tr>\n",
       "<tr><td>Friday</td><td>0.1875</td><td>143080</td><td>04:40:09</td></tr>\n",
       "<tr><td>Friday</td><td>0.22916667</td><td>189575</td><td>05:34:26</td></tr>\n",
       "<tr><td>Friday</td><td>0.27083334</td><td>465945</td><td>06:56:25</td></tr>\n",
       "<tr><td>Friday</td><td>0.3125</td><td>836009</td><td>07:25:41</td></tr>\n",
       "<tr><td>Friday</td><td>0.35416666</td><td>1018249</td><td>08:51:51</td></tr>\n",
       "<tr><td>Friday</td><td>0.39583334</td><td>922375</td><td>09:07:41</td></tr>\n",
       "<tr><td>Friday</td><td>0.4375</td><td>772963</td><td>10:29:59</td></tr>\n",
       "<tr><td>Friday</td><td>0.47916666</td><td>762128</td><td>11:56:39</td></tr>\n",
       "<tr><td>Friday</td><td>0.5208333</td><td>793427</td><td>12:48:24</td></tr>\n",
       "<tr><td>Friday</td><td>0.5625</td><td>779826</td><td>13:43:26</td></tr>\n",
       "<tr><td>Friday</td><td>0.6041667</td><td>840115</td><td>14:09:53</td></tr>\n",
       "<tr><td>Friday</td><td>0.6458333</td><td>782683</td><td>15:10:49</td></tr>\n",
       "<tr><td>Friday</td><td>0.6875</td><td>692569</td><td>16:36:02</td></tr>\n",
       "<tr><td>Friday</td><td>0.7291667</td><td>884706</td><td>17:42:16</td></tr>\n",
       "<tr><td>Friday</td><td>0.7708333</td><td>1098247</td><td>18:48:08</td></tr>\n",
       "<tr><td>Friday</td><td>0.8125</td><td>1156208</td><td>19:09:13</td></tr>\n",
       "</table>\n",
       "only showing top 20 rows\n"
      ],
      "text/plain": [
       "+-----------+-----------+-----------+--------+\n",
       "|day_of_week| time_float|total_trips|    time|\n",
       "+-----------+-----------+-----------+--------+\n",
       "|     Friday|0.020833334|     725678|00:11:22|\n",
       "|     Friday|     0.0625|     457989|01:02:20|\n",
       "|     Friday|0.104166664|     288720|02:00:36|\n",
       "|     Friday| 0.14583333|     183127|03:10:40|\n",
       "|     Friday|     0.1875|     143080|04:40:09|\n",
       "|     Friday| 0.22916667|     189575|05:34:26|\n",
       "|     Friday| 0.27083334|     465945|06:56:25|\n",
       "|     Friday|     0.3125|     836009|07:25:41|\n",
       "|     Friday| 0.35416666|    1018249|08:51:51|\n",
       "|     Friday| 0.39583334|     922375|09:07:41|\n",
       "|     Friday|     0.4375|     772963|10:29:59|\n",
       "|     Friday| 0.47916666|     762128|11:56:39|\n",
       "|     Friday|  0.5208333|     793427|12:48:24|\n",
       "|     Friday|     0.5625|     779826|13:43:26|\n",
       "|     Friday|  0.6041667|     840115|14:09:53|\n",
       "|     Friday|  0.6458333|     782683|15:10:49|\n",
       "|     Friday|     0.6875|     692569|16:36:02|\n",
       "|     Friday|  0.7291667|     884706|17:42:16|\n",
       "|     Friday|  0.7708333|    1098247|18:48:08|\n",
       "|     Friday|     0.8125|    1156208|19:09:13|\n",
       "+-----------+-----------+-----------+--------+\n",
       "only showing top 20 rows"
      ]
     },
     "execution_count": 14,
     "metadata": {},
     "output_type": "execute_result"
    }
   ],
   "source": [
    "@F.udf(returnType=StringType())\n",
    "def covert_day(year, month, day):\n",
    "    \"\"\" Taking a day in a year and transforming it \n",
    "    into its respective weekday\n",
    "\n",
    "    Args:\n",
    "        year (string):  'yyyy'\n",
    "        month (string): 'mm'\n",
    "        day (string): 'dd'\n",
    "\n",
    "    Returns:\n",
    "        string: weekday (Monday, Tuesday etc.)\n",
    "    \"\"\"\n",
    "    day_int = weekday(int(year), int(month), int(day))\n",
    "    day_to_str = {0: \"Monday\",\n",
    "                  1: \"Tuesday\",\n",
    "                  2: \"Wednesday\",\n",
    "                  3: \"Thursday\",\n",
    "                  4: \"Friday\",\n",
    "                  5: \"Saturday\",\n",
    "                  6: \"Sunday\"}\n",
    "    return day_to_str[day_int]\n",
    "\n",
    "\n",
    "# based on iterest, group by weekday and time for visualisation\n",
    "visualise_day_time_pickups_sdf = feature_eng_sdf.withColumn(\"day_of_week\", covert_day(F.col(\"year\"), F.col(\"month\"), F.col(\"day\")))\n",
    "visualise_day_time_pickups_sdf =visualise_day_time_pickups_sdf.groupBy(\"day_of_week\", \"time_float\") \\\n",
    "                                                     .agg(\n",
    "                                                         {\n",
    "                                                             \"month\": \"count\",\n",
    "                                                             \"time\" : \"first\"\n",
    "                                                        }\n",
    "                                                     ) \\\n",
    "                                                     .withColumnRenamed('count(month)', 'total_trips') \\\n",
    "                                                     .withColumnRenamed('first(time)', 'time')\n",
    "visualise_day_time_pickups_sdf"
   ]
  },
  {
   "cell_type": "code",
   "execution_count": 15,
   "metadata": {},
   "outputs": [
    {
     "name": "stderr",
     "output_type": "stream",
     "text": [
      "                                                                                \r"
     ]
    },
    {
     "data": {
      "text/html": [
       "<table border='1'>\n",
       "<tr><th>day_of_week</th><th>time_float</th><th>total_trips</th><th>time</th></tr>\n",
       "<tr><td>Friday</td><td>0.020833334</td><td>725678</td><td>00:00</td></tr>\n",
       "<tr><td>Friday</td><td>0.0625</td><td>457989</td><td>01:00</td></tr>\n",
       "<tr><td>Friday</td><td>0.104166664</td><td>288720</td><td>02:00</td></tr>\n",
       "<tr><td>Friday</td><td>0.14583333</td><td>183127</td><td>03:00</td></tr>\n",
       "<tr><td>Friday</td><td>0.1875</td><td>143080</td><td>04:00</td></tr>\n",
       "<tr><td>Friday</td><td>0.22916667</td><td>189575</td><td>05:00</td></tr>\n",
       "<tr><td>Friday</td><td>0.27083334</td><td>465945</td><td>06:00</td></tr>\n",
       "<tr><td>Friday</td><td>0.3125</td><td>836009</td><td>07:00</td></tr>\n",
       "<tr><td>Friday</td><td>0.35416666</td><td>1018249</td><td>08:00</td></tr>\n",
       "<tr><td>Friday</td><td>0.39583334</td><td>922375</td><td>09:00</td></tr>\n",
       "<tr><td>Friday</td><td>0.4375</td><td>772963</td><td>10:00</td></tr>\n",
       "<tr><td>Friday</td><td>0.47916666</td><td>762128</td><td>11:00</td></tr>\n",
       "<tr><td>Friday</td><td>0.5208333</td><td>793427</td><td>12:00</td></tr>\n",
       "<tr><td>Friday</td><td>0.5625</td><td>779826</td><td>13:00</td></tr>\n",
       "<tr><td>Friday</td><td>0.6041667</td><td>840115</td><td>14:00</td></tr>\n",
       "<tr><td>Friday</td><td>0.6458333</td><td>782683</td><td>15:00</td></tr>\n",
       "<tr><td>Friday</td><td>0.6875</td><td>692569</td><td>16:00</td></tr>\n",
       "<tr><td>Friday</td><td>0.7291667</td><td>884706</td><td>17:00</td></tr>\n",
       "<tr><td>Friday</td><td>0.7708333</td><td>1098247</td><td>18:00</td></tr>\n",
       "<tr><td>Friday</td><td>0.8125</td><td>1156208</td><td>19:00</td></tr>\n",
       "</table>\n",
       "only showing top 20 rows\n"
      ],
      "text/plain": [
       "+-----------+-----------+-----------+-----+\n",
       "|day_of_week| time_float|total_trips| time|\n",
       "+-----------+-----------+-----------+-----+\n",
       "|     Friday|0.020833334|     725678|00:00|\n",
       "|     Friday|     0.0625|     457989|01:00|\n",
       "|     Friday|0.104166664|     288720|02:00|\n",
       "|     Friday| 0.14583333|     183127|03:00|\n",
       "|     Friday|     0.1875|     143080|04:00|\n",
       "|     Friday| 0.22916667|     189575|05:00|\n",
       "|     Friday| 0.27083334|     465945|06:00|\n",
       "|     Friday|     0.3125|     836009|07:00|\n",
       "|     Friday| 0.35416666|    1018249|08:00|\n",
       "|     Friday| 0.39583334|     922375|09:00|\n",
       "|     Friday|     0.4375|     772963|10:00|\n",
       "|     Friday| 0.47916666|     762128|11:00|\n",
       "|     Friday|  0.5208333|     793427|12:00|\n",
       "|     Friday|     0.5625|     779826|13:00|\n",
       "|     Friday|  0.6041667|     840115|14:00|\n",
       "|     Friday|  0.6458333|     782683|15:00|\n",
       "|     Friday|     0.6875|     692569|16:00|\n",
       "|     Friday|  0.7291667|     884706|17:00|\n",
       "|     Friday|  0.7708333|    1098247|18:00|\n",
       "|     Friday|     0.8125|    1156208|19:00|\n",
       "+-----------+-----------+-----------+-----+\n",
       "only showing top 20 rows"
      ]
     },
     "execution_count": 15,
     "metadata": {},
     "output_type": "execute_result"
    }
   ],
   "source": [
    "@F.udf(returnType=StringType())\n",
    "def gethour(time):\n",
    "    \"\"\" Return the hour of a time\n",
    "\n",
    "    Args:\n",
    "        time (datetime): time in the form of \"HH:mm:ss\"\n",
    "\n",
    "    Returns:\n",
    "        string: hour in string\n",
    "    \"\"\"\n",
    "    hour, min, sec = time.split(':')\n",
    "    return f'{hour}:00'\n",
    "visualise_day_time_pickups_sdf = visualise_day_time_pickups_sdf.withColumn('time', gethour(F.col('time')))\n",
    "visualise_day_time_pickups_sdf"
   ]
  },
  {
   "cell_type": "markdown",
   "metadata": {},
   "source": [
    "The following code provides a heat map of time and weekday against pickups"
   ]
  },
  {
   "cell_type": "code",
   "execution_count": 16,
   "metadata": {},
   "outputs": [
    {
     "name": "stderr",
     "output_type": "stream",
     "text": [
      "                                                                                \r"
     ]
    },
    {
     "data": {
      "image/png": "[encoded data removed]",
      "text/plain": [
       "<Figure size 1080x576 with 2 Axes>"
      ]
     },
     "metadata": {},
     "output_type": "display_data"
    }
   ],
   "source": [
    "WEEK_NAMES = [\"Monday\", \"Tuesday\", \"Wednesday\", \"Thursday\", \"Friday\", \"Saturday\", \"Sunday\"]\n",
    "visualise_day_time_pickups_df = visualise_day_time_pickups_sdf.toPandas()\n",
    "# allowing week day to be sort by the actual weekday order\n",
    "visualise_day_time_pickups_df['day_of_week'] = pd.Categorical(visualise_day_time_pickups_df['day_of_week'], \n",
    "                                                              categories=WEEK_NAMES)\n",
    "visualise_day_time_pickups_df = visualise_day_time_pickups_df.sort_values(['day_of_week', 'time_float'])  \n",
    "# pivoting on attributes of interest          \n",
    "plot_df = pd.pivot_table(visualise_day_time_pickups_df, index='time', columns='day_of_week', values='total_trips', aggfunc=np.sum)\n",
    "\n",
    "# plotting\n",
    "sns.set(rc = {'figure.figsize':(15,8)})\n",
    "plot = sns.heatmap(plot_df, xticklabels=True, yticklabels=True, linewidths=.5, cmap=\"Reds\")\n",
    "plot.set_xlabel(\"Day of week\", fontsize=14)\n",
    "plot.set_ylabel(\"Time\", fontsize=14)\n",
    "plot.set_title(\"Distribution of pickups under different times and day of week\", fontsize=15)\n",
    "plt.yticks(fontsize=13)\n",
    "plt.xticks(fontsize=13)\n",
    "plt.savefig(\"../plots/pickup_heatmap.png\", bbox_inches = \"tight\")"
   ]
  },
  {
   "cell_type": "markdown",
   "metadata": {},
   "source": [
    "# Normalizing weekday and hour\n",
    "As shown by the above figure, it is evident that there exist relationships between the attributes, hence, such information is capture to allow the model when training to be more generalise."
   ]
  },
  {
   "cell_type": "code",
   "execution_count": 17,
   "metadata": {},
   "outputs": [],
   "source": [
    "@F.udf(returnType=FloatType())\n",
    "def normalize_day(time_float, year, month, day):\n",
    "    \"\"\" normalized day and time of the week into a float \n",
    "        between 1 and 0, where monday is represent as 0 \n",
    "        and 6 for sunday, plus the addidtion of time float.\n",
    "\n",
    "    Args:\n",
    "        time (float): normalized time in 0 to 1\n",
    "        year (string): string reprsentation for year\n",
    "        month (string): string reprsentation for month\n",
    "        day (string): string reprsentation for day\n",
    "\n",
    "    Returns:\n",
    "        float: day of week into a float between 1 and 0.\n",
    "    \"\"\"\n",
    "    DAYS_WEEK = 7\n",
    "    day_int = weekday(int(year), int(month), int(day))\n",
    "    date_float = (day_int + time_float) / DAYS_WEEK\n",
    "    \n",
    "    return date_float"
   ]
  },
  {
   "cell_type": "markdown",
   "metadata": {},
   "source": [
    "Since weekday-time is a cyclical feature, cosine and sine transformation is performed retain the cyclical pattern"
   ]
  },
  {
   "cell_type": "code",
   "execution_count": 18,
   "metadata": {},
   "outputs": [
    {
     "data": {
      "text/html": [
       "<table border='1'>\n",
       "<tr><th>PULocationID</th><th>fare_amount</th><th>extra</th><th>tip_amount</th><th>duration (minutes)</th><th>date</th><th>time</th><th>year</th><th>month</th><th>day</th><th>average_temperature</th><th>precip</th><th>time_float</th><th>cos_time</th><th>sin_time</th><th>date_float</th><th>cos_date</th><th>sin_date</th></tr>\n",
       "<tr><td>43</td><td>6.5</td><td>0.5</td><td>0.0</td><td>4.333</td><td>2016-03-01</td><td>00:06:22</td><td>2016</td><td>03</td><td>01</td><td>7.2</td><td>0</td><td>0.020833334</td><td>0.9914449</td><td>0.13052619</td><td>0.14583333</td><td>0.6087614</td><td>0.7933533</td></tr>\n",
       "<tr><td>237</td><td>8.5</td><td>0.5</td><td>1.96</td><td>5.617</td><td>2016-03-01</td><td>00:23:21</td><td>2016</td><td>03</td><td>01</td><td>7.2</td><td>0</td><td>0.020833334</td><td>0.9914449</td><td>0.13052619</td><td>0.14583333</td><td>0.6087614</td><td>0.7933533</td></tr>\n",
       "<tr><td>236</td><td>8.0</td><td>0.5</td><td>1.86</td><td>6.867</td><td>2016-03-01</td><td>00:37:19</td><td>2016</td><td>03</td><td>01</td><td>7.2</td><td>0</td><td>0.020833334</td><td>0.9914449</td><td>0.13052619</td><td>0.14583333</td><td>0.6087614</td><td>0.7933533</td></tr>\n",
       "<tr><td>95</td><td>13.0</td><td>0.5</td><td>2.5</td><td>11.35</td><td>2016-03-01</td><td>00:34:53</td><td>2016</td><td>03</td><td>01</td><td>7.2</td><td>0</td><td>0.020833334</td><td>0.9914449</td><td>0.13052619</td><td>0.14583333</td><td>0.6087614</td><td>0.7933533</td></tr>\n",
       "<tr><td>170</td><td>20.5</td><td>0.5</td><td>4.35</td><td>22.7</td><td>2016-03-01</td><td>00:30:27</td><td>2016</td><td>03</td><td>01</td><td>7.2</td><td>0</td><td>0.020833334</td><td>0.9914449</td><td>0.13052619</td><td>0.14583333</td><td>0.6087614</td><td>0.7933533</td></tr>\n",
       "<tr><td>163</td><td>9.0</td><td>0.5</td><td>3.09</td><td>8.983</td><td>2016-03-01</td><td>00:09:43</td><td>2016</td><td>03</td><td>01</td><td>7.2</td><td>0</td><td>0.020833334</td><td>0.9914449</td><td>0.13052619</td><td>0.14583333</td><td>0.6087614</td><td>0.7933533</td></tr>\n",
       "<tr><td>163</td><td>7.0</td><td>0.5</td><td>1.66</td><td>8.05</td><td>2016-03-01</td><td>00:32:15</td><td>2016</td><td>03</td><td>01</td><td>7.2</td><td>0</td><td>0.020833334</td><td>0.9914449</td><td>0.13052619</td><td>0.14583333</td><td>0.6087614</td><td>0.7933533</td></tr>\n",
       "<tr><td>142</td><td>29.0</td><td>0.5</td><td>6.05</td><td>26.85</td><td>2016-03-01</td><td>00:02:37</td><td>2016</td><td>03</td><td>01</td><td>7.2</td><td>0</td><td>0.020833334</td><td>0.9914449</td><td>0.13052619</td><td>0.14583333</td><td>0.6087614</td><td>0.7933533</td></tr>\n",
       "<tr><td>239</td><td>8.0</td><td>0.5</td><td>1.85</td><td>6.9</td><td>2016-03-01</td><td>00:50:58</td><td>2016</td><td>03</td><td>01</td><td>7.2</td><td>0</td><td>0.020833334</td><td>0.9914449</td><td>0.13052619</td><td>0.14583333</td><td>0.6087614</td><td>0.7933533</td></tr>\n",
       "<tr><td>164</td><td>8.0</td><td>0.5</td><td>1.85</td><td>8.617</td><td>2016-03-01</td><td>00:06:17</td><td>2016</td><td>03</td><td>01</td><td>7.2</td><td>0</td><td>0.020833334</td><td>0.9914449</td><td>0.13052619</td><td>0.14583333</td><td>0.6087614</td><td>0.7933533</td></tr>\n",
       "<tr><td>161</td><td>6.5</td><td>0.5</td><td>1.55</td><td>6.7</td><td>2016-03-01</td><td>00:34:15</td><td>2016</td><td>03</td><td>01</td><td>7.2</td><td>0</td><td>0.020833334</td><td>0.9914449</td><td>0.13052619</td><td>0.14583333</td><td>0.6087614</td><td>0.7933533</td></tr>\n",
       "<tr><td>132</td><td>40.0</td><td>0.5</td><td>8.26</td><td>19.25</td><td>2016-03-01</td><td>00:29:22</td><td>2016</td><td>03</td><td>01</td><td>7.2</td><td>0</td><td>0.020833334</td><td>0.9914449</td><td>0.13052619</td><td>0.14583333</td><td>0.6087614</td><td>0.7933533</td></tr>\n",
       "<tr><td>162</td><td>10.0</td><td>0.5</td><td>2.8</td><td>8.883</td><td>2016-03-01</td><td>00:24:58</td><td>2016</td><td>03</td><td>01</td><td>7.2</td><td>0</td><td>0.020833334</td><td>0.9914449</td><td>0.13052619</td><td>0.14583333</td><td>0.6087614</td><td>0.7933533</td></tr>\n",
       "<tr><td>144</td><td>8.5</td><td>0.5</td><td>2.45</td><td>9.517</td><td>2016-03-01</td><td>00:13:13</td><td>2016</td><td>03</td><td>01</td><td>7.2</td><td>0</td><td>0.020833334</td><td>0.9914449</td><td>0.13052619</td><td>0.14583333</td><td>0.6087614</td><td>0.7933533</td></tr>\n",
       "<tr><td>148</td><td>16.5</td><td>0.5</td><td>3.55</td><td>14.0</td><td>2016-03-01</td><td>00:30:32</td><td>2016</td><td>03</td><td>01</td><td>7.2</td><td>0</td><td>0.020833334</td><td>0.9914449</td><td>0.13052619</td><td>0.14583333</td><td>0.6087614</td><td>0.7933533</td></tr>\n",
       "<tr><td>148</td><td>13.0</td><td>0.5</td><td>2.86</td><td>13.367</td><td>2016-03-01</td><td>00:07:16</td><td>2016</td><td>03</td><td>01</td><td>7.2</td><td>0</td><td>0.020833334</td><td>0.9914449</td><td>0.13052619</td><td>0.14583333</td><td>0.6087614</td><td>0.7933533</td></tr>\n",
       "<tr><td>148</td><td>22.0</td><td>0.5</td><td>4.65</td><td>20.933</td><td>2016-03-01</td><td>00:56:54</td><td>2016</td><td>03</td><td>01</td><td>7.2</td><td>0</td><td>0.020833334</td><td>0.9914449</td><td>0.13052619</td><td>0.14583333</td><td>0.6087614</td><td>0.7933533</td></tr>\n",
       "<tr><td>161</td><td>6.0</td><td>0.5</td><td>1.45</td><td>5.233</td><td>2016-03-01</td><td>00:33:42</td><td>2016</td><td>03</td><td>01</td><td>7.2</td><td>0</td><td>0.020833334</td><td>0.9914449</td><td>0.13052619</td><td>0.14583333</td><td>0.6087614</td><td>0.7933533</td></tr>\n",
       "<tr><td>75</td><td>8.5</td><td>0.5</td><td>2.45</td><td>7.667</td><td>2016-03-01</td><td>00:28:16</td><td>2016</td><td>03</td><td>01</td><td>7.2</td><td>0</td><td>0.020833334</td><td>0.9914449</td><td>0.13052619</td><td>0.14583333</td><td>0.6087614</td><td>0.7933533</td></tr>\n",
       "<tr><td>163</td><td>9.0</td><td>0.5</td><td>2.55</td><td>9.6</td><td>2016-03-01</td><td>00:30:09</td><td>2016</td><td>03</td><td>01</td><td>7.2</td><td>0</td><td>0.020833334</td><td>0.9914449</td><td>0.13052619</td><td>0.14583333</td><td>0.6087614</td><td>0.7933533</td></tr>\n",
       "</table>\n",
       "only showing top 20 rows\n"
      ],
      "text/plain": [
       "+------------+-----------+-----+----------+------------------+----------+--------+----+-----+---+-------------------+------+-----------+---------+----------+----------+---------+---------+\n",
       "|PULocationID|fare_amount|extra|tip_amount|duration (minutes)|      date|    time|year|month|day|average_temperature|precip| time_float| cos_time|  sin_time|date_float| cos_date| sin_date|\n",
       "+------------+-----------+-----+----------+------------------+----------+--------+----+-----+---+-------------------+------+-----------+---------+----------+----------+---------+---------+\n",
       "|          43|        6.5|  0.5|       0.0|             4.333|2016-03-01|00:06:22|2016|   03| 01|                7.2|     0|0.020833334|0.9914449|0.13052619|0.14583333|0.6087614|0.7933533|\n",
       "|         237|        8.5|  0.5|      1.96|             5.617|2016-03-01|00:23:21|2016|   03| 01|                7.2|     0|0.020833334|0.9914449|0.13052619|0.14583333|0.6087614|0.7933533|\n",
       "|         236|        8.0|  0.5|      1.86|             6.867|2016-03-01|00:37:19|2016|   03| 01|                7.2|     0|0.020833334|0.9914449|0.13052619|0.14583333|0.6087614|0.7933533|\n",
       "|          95|       13.0|  0.5|       2.5|             11.35|2016-03-01|00:34:53|2016|   03| 01|                7.2|     0|0.020833334|0.9914449|0.13052619|0.14583333|0.6087614|0.7933533|\n",
       "|         170|       20.5|  0.5|      4.35|              22.7|2016-03-01|00:30:27|2016|   03| 01|                7.2|     0|0.020833334|0.9914449|0.13052619|0.14583333|0.6087614|0.7933533|\n",
       "|         163|        9.0|  0.5|      3.09|             8.983|2016-03-01|00:09:43|2016|   03| 01|                7.2|     0|0.020833334|0.9914449|0.13052619|0.14583333|0.6087614|0.7933533|\n",
       "|         163|        7.0|  0.5|      1.66|              8.05|2016-03-01|00:32:15|2016|   03| 01|                7.2|     0|0.020833334|0.9914449|0.13052619|0.14583333|0.6087614|0.7933533|\n",
       "|         142|       29.0|  0.5|      6.05|             26.85|2016-03-01|00:02:37|2016|   03| 01|                7.2|     0|0.020833334|0.9914449|0.13052619|0.14583333|0.6087614|0.7933533|\n",
       "|         239|        8.0|  0.5|      1.85|               6.9|2016-03-01|00:50:58|2016|   03| 01|                7.2|     0|0.020833334|0.9914449|0.13052619|0.14583333|0.6087614|0.7933533|\n",
       "|         164|        8.0|  0.5|      1.85|             8.617|2016-03-01|00:06:17|2016|   03| 01|                7.2|     0|0.020833334|0.9914449|0.13052619|0.14583333|0.6087614|0.7933533|\n",
       "|         161|        6.5|  0.5|      1.55|               6.7|2016-03-01|00:34:15|2016|   03| 01|                7.2|     0|0.020833334|0.9914449|0.13052619|0.14583333|0.6087614|0.7933533|\n",
       "|         132|       40.0|  0.5|      8.26|             19.25|2016-03-01|00:29:22|2016|   03| 01|                7.2|     0|0.020833334|0.9914449|0.13052619|0.14583333|0.6087614|0.7933533|\n",
       "|         162|       10.0|  0.5|       2.8|             8.883|2016-03-01|00:24:58|2016|   03| 01|                7.2|     0|0.020833334|0.9914449|0.13052619|0.14583333|0.6087614|0.7933533|\n",
       "|         144|        8.5|  0.5|      2.45|             9.517|2016-03-01|00:13:13|2016|   03| 01|                7.2|     0|0.020833334|0.9914449|0.13052619|0.14583333|0.6087614|0.7933533|\n",
       "|         148|       16.5|  0.5|      3.55|              14.0|2016-03-01|00:30:32|2016|   03| 01|                7.2|     0|0.020833334|0.9914449|0.13052619|0.14583333|0.6087614|0.7933533|\n",
       "|         148|       13.0|  0.5|      2.86|            13.367|2016-03-01|00:07:16|2016|   03| 01|                7.2|     0|0.020833334|0.9914449|0.13052619|0.14583333|0.6087614|0.7933533|\n",
       "|         148|       22.0|  0.5|      4.65|            20.933|2016-03-01|00:56:54|2016|   03| 01|                7.2|     0|0.020833334|0.9914449|0.13052619|0.14583333|0.6087614|0.7933533|\n",
       "|         161|        6.0|  0.5|      1.45|             5.233|2016-03-01|00:33:42|2016|   03| 01|                7.2|     0|0.020833334|0.9914449|0.13052619|0.14583333|0.6087614|0.7933533|\n",
       "|          75|        8.5|  0.5|      2.45|             7.667|2016-03-01|00:28:16|2016|   03| 01|                7.2|     0|0.020833334|0.9914449|0.13052619|0.14583333|0.6087614|0.7933533|\n",
       "|         163|        9.0|  0.5|      2.55|               9.6|2016-03-01|00:30:09|2016|   03| 01|                7.2|     0|0.020833334|0.9914449|0.13052619|0.14583333|0.6087614|0.7933533|\n",
       "+------------+-----------+-----+----------+------------------+----------+--------+----+-----+---+-------------------+------+-----------+---------+----------+----------+---------+---------+\n",
       "only showing top 20 rows"
      ]
     },
     "execution_count": 18,
     "metadata": {},
     "output_type": "execute_result"
    }
   ],
   "source": [
    "feature_eng_sdf = feature_eng_sdf.withColumn(\"date_float\", normalize_day(F.col(\"time_float\"), F.col(\"year\"), F.col(\"month\"), F.col(\"day\")))\n",
    "feature_eng_sdf = feature_eng_sdf.withColumn(\"cos_date\", cos_val(F.col(\"date_float\")))\n",
    "feature_eng_sdf = feature_eng_sdf.withColumn(\"sin_date\", sin_val(F.col(\"date_float\")))\n",
    "feature_eng_sdf"
   ]
  },
  {
   "cell_type": "markdown",
   "metadata": {},
   "source": [
    "# From the month figure it shows that there exist relationship, thus, normalized."
   ]
  },
  {
   "cell_type": "code",
   "execution_count": 19,
   "metadata": {},
   "outputs": [],
   "source": [
    "@F.udf(returnType=FloatType())\n",
    "def normalize_month(month):\n",
    "    \"\"\"normalized month into a fraction of 12 months\n",
    "\n",
    "    Args:\n",
    "        month (string): string reprsentation for month\n",
    "\n",
    "    Returns:\n",
    "        float: float between 0 to 1 to represent month\n",
    "    \"\"\"\n",
    "    return float((int(month) - 1) / 12)"
   ]
  },
  {
   "cell_type": "code",
   "execution_count": 20,
   "metadata": {},
   "outputs": [
    {
     "data": {
      "text/html": [
       "<table border='1'>\n",
       "<tr><th>PULocationID</th><th>fare_amount</th><th>extra</th><th>tip_amount</th><th>duration (minutes)</th><th>date</th><th>time</th><th>year</th><th>month</th><th>day</th><th>average_temperature</th><th>precip</th><th>time_float</th><th>cos_time</th><th>sin_time</th><th>date_float</th><th>cos_date</th><th>sin_date</th><th>month_float</th><th>cos_month</th><th>sin_month</th></tr>\n",
       "<tr><td>43</td><td>6.5</td><td>0.5</td><td>0.0</td><td>4.333</td><td>2016-03-01</td><td>00:06:22</td><td>2016</td><td>03</td><td>01</td><td>7.2</td><td>0</td><td>0.020833334</td><td>0.9914449</td><td>0.13052619</td><td>0.14583333</td><td>0.6087614</td><td>0.7933533</td><td>0.16666667</td><td>0.5</td><td>0.8660254</td></tr>\n",
       "<tr><td>237</td><td>8.5</td><td>0.5</td><td>1.96</td><td>5.617</td><td>2016-03-01</td><td>00:23:21</td><td>2016</td><td>03</td><td>01</td><td>7.2</td><td>0</td><td>0.020833334</td><td>0.9914449</td><td>0.13052619</td><td>0.14583333</td><td>0.6087614</td><td>0.7933533</td><td>0.16666667</td><td>0.5</td><td>0.8660254</td></tr>\n",
       "<tr><td>236</td><td>8.0</td><td>0.5</td><td>1.86</td><td>6.867</td><td>2016-03-01</td><td>00:37:19</td><td>2016</td><td>03</td><td>01</td><td>7.2</td><td>0</td><td>0.020833334</td><td>0.9914449</td><td>0.13052619</td><td>0.14583333</td><td>0.6087614</td><td>0.7933533</td><td>0.16666667</td><td>0.5</td><td>0.8660254</td></tr>\n",
       "<tr><td>95</td><td>13.0</td><td>0.5</td><td>2.5</td><td>11.35</td><td>2016-03-01</td><td>00:34:53</td><td>2016</td><td>03</td><td>01</td><td>7.2</td><td>0</td><td>0.020833334</td><td>0.9914449</td><td>0.13052619</td><td>0.14583333</td><td>0.6087614</td><td>0.7933533</td><td>0.16666667</td><td>0.5</td><td>0.8660254</td></tr>\n",
       "<tr><td>170</td><td>20.5</td><td>0.5</td><td>4.35</td><td>22.7</td><td>2016-03-01</td><td>00:30:27</td><td>2016</td><td>03</td><td>01</td><td>7.2</td><td>0</td><td>0.020833334</td><td>0.9914449</td><td>0.13052619</td><td>0.14583333</td><td>0.6087614</td><td>0.7933533</td><td>0.16666667</td><td>0.5</td><td>0.8660254</td></tr>\n",
       "<tr><td>163</td><td>9.0</td><td>0.5</td><td>3.09</td><td>8.983</td><td>2016-03-01</td><td>00:09:43</td><td>2016</td><td>03</td><td>01</td><td>7.2</td><td>0</td><td>0.020833334</td><td>0.9914449</td><td>0.13052619</td><td>0.14583333</td><td>0.6087614</td><td>0.7933533</td><td>0.16666667</td><td>0.5</td><td>0.8660254</td></tr>\n",
       "<tr><td>163</td><td>7.0</td><td>0.5</td><td>1.66</td><td>8.05</td><td>2016-03-01</td><td>00:32:15</td><td>2016</td><td>03</td><td>01</td><td>7.2</td><td>0</td><td>0.020833334</td><td>0.9914449</td><td>0.13052619</td><td>0.14583333</td><td>0.6087614</td><td>0.7933533</td><td>0.16666667</td><td>0.5</td><td>0.8660254</td></tr>\n",
       "<tr><td>142</td><td>29.0</td><td>0.5</td><td>6.05</td><td>26.85</td><td>2016-03-01</td><td>00:02:37</td><td>2016</td><td>03</td><td>01</td><td>7.2</td><td>0</td><td>0.020833334</td><td>0.9914449</td><td>0.13052619</td><td>0.14583333</td><td>0.6087614</td><td>0.7933533</td><td>0.16666667</td><td>0.5</td><td>0.8660254</td></tr>\n",
       "<tr><td>239</td><td>8.0</td><td>0.5</td><td>1.85</td><td>6.9</td><td>2016-03-01</td><td>00:50:58</td><td>2016</td><td>03</td><td>01</td><td>7.2</td><td>0</td><td>0.020833334</td><td>0.9914449</td><td>0.13052619</td><td>0.14583333</td><td>0.6087614</td><td>0.7933533</td><td>0.16666667</td><td>0.5</td><td>0.8660254</td></tr>\n",
       "<tr><td>164</td><td>8.0</td><td>0.5</td><td>1.85</td><td>8.617</td><td>2016-03-01</td><td>00:06:17</td><td>2016</td><td>03</td><td>01</td><td>7.2</td><td>0</td><td>0.020833334</td><td>0.9914449</td><td>0.13052619</td><td>0.14583333</td><td>0.6087614</td><td>0.7933533</td><td>0.16666667</td><td>0.5</td><td>0.8660254</td></tr>\n",
       "<tr><td>161</td><td>6.5</td><td>0.5</td><td>1.55</td><td>6.7</td><td>2016-03-01</td><td>00:34:15</td><td>2016</td><td>03</td><td>01</td><td>7.2</td><td>0</td><td>0.020833334</td><td>0.9914449</td><td>0.13052619</td><td>0.14583333</td><td>0.6087614</td><td>0.7933533</td><td>0.16666667</td><td>0.5</td><td>0.8660254</td></tr>\n",
       "<tr><td>132</td><td>40.0</td><td>0.5</td><td>8.26</td><td>19.25</td><td>2016-03-01</td><td>00:29:22</td><td>2016</td><td>03</td><td>01</td><td>7.2</td><td>0</td><td>0.020833334</td><td>0.9914449</td><td>0.13052619</td><td>0.14583333</td><td>0.6087614</td><td>0.7933533</td><td>0.16666667</td><td>0.5</td><td>0.8660254</td></tr>\n",
       "<tr><td>162</td><td>10.0</td><td>0.5</td><td>2.8</td><td>8.883</td><td>2016-03-01</td><td>00:24:58</td><td>2016</td><td>03</td><td>01</td><td>7.2</td><td>0</td><td>0.020833334</td><td>0.9914449</td><td>0.13052619</td><td>0.14583333</td><td>0.6087614</td><td>0.7933533</td><td>0.16666667</td><td>0.5</td><td>0.8660254</td></tr>\n",
       "<tr><td>144</td><td>8.5</td><td>0.5</td><td>2.45</td><td>9.517</td><td>2016-03-01</td><td>00:13:13</td><td>2016</td><td>03</td><td>01</td><td>7.2</td><td>0</td><td>0.020833334</td><td>0.9914449</td><td>0.13052619</td><td>0.14583333</td><td>0.6087614</td><td>0.7933533</td><td>0.16666667</td><td>0.5</td><td>0.8660254</td></tr>\n",
       "<tr><td>148</td><td>16.5</td><td>0.5</td><td>3.55</td><td>14.0</td><td>2016-03-01</td><td>00:30:32</td><td>2016</td><td>03</td><td>01</td><td>7.2</td><td>0</td><td>0.020833334</td><td>0.9914449</td><td>0.13052619</td><td>0.14583333</td><td>0.6087614</td><td>0.7933533</td><td>0.16666667</td><td>0.5</td><td>0.8660254</td></tr>\n",
       "<tr><td>148</td><td>13.0</td><td>0.5</td><td>2.86</td><td>13.367</td><td>2016-03-01</td><td>00:07:16</td><td>2016</td><td>03</td><td>01</td><td>7.2</td><td>0</td><td>0.020833334</td><td>0.9914449</td><td>0.13052619</td><td>0.14583333</td><td>0.6087614</td><td>0.7933533</td><td>0.16666667</td><td>0.5</td><td>0.8660254</td></tr>\n",
       "<tr><td>148</td><td>22.0</td><td>0.5</td><td>4.65</td><td>20.933</td><td>2016-03-01</td><td>00:56:54</td><td>2016</td><td>03</td><td>01</td><td>7.2</td><td>0</td><td>0.020833334</td><td>0.9914449</td><td>0.13052619</td><td>0.14583333</td><td>0.6087614</td><td>0.7933533</td><td>0.16666667</td><td>0.5</td><td>0.8660254</td></tr>\n",
       "<tr><td>161</td><td>6.0</td><td>0.5</td><td>1.45</td><td>5.233</td><td>2016-03-01</td><td>00:33:42</td><td>2016</td><td>03</td><td>01</td><td>7.2</td><td>0</td><td>0.020833334</td><td>0.9914449</td><td>0.13052619</td><td>0.14583333</td><td>0.6087614</td><td>0.7933533</td><td>0.16666667</td><td>0.5</td><td>0.8660254</td></tr>\n",
       "<tr><td>75</td><td>8.5</td><td>0.5</td><td>2.45</td><td>7.667</td><td>2016-03-01</td><td>00:28:16</td><td>2016</td><td>03</td><td>01</td><td>7.2</td><td>0</td><td>0.020833334</td><td>0.9914449</td><td>0.13052619</td><td>0.14583333</td><td>0.6087614</td><td>0.7933533</td><td>0.16666667</td><td>0.5</td><td>0.8660254</td></tr>\n",
       "<tr><td>163</td><td>9.0</td><td>0.5</td><td>2.55</td><td>9.6</td><td>2016-03-01</td><td>00:30:09</td><td>2016</td><td>03</td><td>01</td><td>7.2</td><td>0</td><td>0.020833334</td><td>0.9914449</td><td>0.13052619</td><td>0.14583333</td><td>0.6087614</td><td>0.7933533</td><td>0.16666667</td><td>0.5</td><td>0.8660254</td></tr>\n",
       "</table>\n",
       "only showing top 20 rows\n"
      ],
      "text/plain": [
       "+------------+-----------+-----+----------+------------------+----------+--------+----+-----+---+-------------------+------+-----------+---------+----------+----------+---------+---------+-----------+---------+---------+\n",
       "|PULocationID|fare_amount|extra|tip_amount|duration (minutes)|      date|    time|year|month|day|average_temperature|precip| time_float| cos_time|  sin_time|date_float| cos_date| sin_date|month_float|cos_month|sin_month|\n",
       "+------------+-----------+-----+----------+------------------+----------+--------+----+-----+---+-------------------+------+-----------+---------+----------+----------+---------+---------+-----------+---------+---------+\n",
       "|          43|        6.5|  0.5|       0.0|             4.333|2016-03-01|00:06:22|2016|   03| 01|                7.2|     0|0.020833334|0.9914449|0.13052619|0.14583333|0.6087614|0.7933533| 0.16666667|      0.5|0.8660254|\n",
       "|         237|        8.5|  0.5|      1.96|             5.617|2016-03-01|00:23:21|2016|   03| 01|                7.2|     0|0.020833334|0.9914449|0.13052619|0.14583333|0.6087614|0.7933533| 0.16666667|      0.5|0.8660254|\n",
       "|         236|        8.0|  0.5|      1.86|             6.867|2016-03-01|00:37:19|2016|   03| 01|                7.2|     0|0.020833334|0.9914449|0.13052619|0.14583333|0.6087614|0.7933533| 0.16666667|      0.5|0.8660254|\n",
       "|          95|       13.0|  0.5|       2.5|             11.35|2016-03-01|00:34:53|2016|   03| 01|                7.2|     0|0.020833334|0.9914449|0.13052619|0.14583333|0.6087614|0.7933533| 0.16666667|      0.5|0.8660254|\n",
       "|         170|       20.5|  0.5|      4.35|              22.7|2016-03-01|00:30:27|2016|   03| 01|                7.2|     0|0.020833334|0.9914449|0.13052619|0.14583333|0.6087614|0.7933533| 0.16666667|      0.5|0.8660254|\n",
       "|         163|        9.0|  0.5|      3.09|             8.983|2016-03-01|00:09:43|2016|   03| 01|                7.2|     0|0.020833334|0.9914449|0.13052619|0.14583333|0.6087614|0.7933533| 0.16666667|      0.5|0.8660254|\n",
       "|         163|        7.0|  0.5|      1.66|              8.05|2016-03-01|00:32:15|2016|   03| 01|                7.2|     0|0.020833334|0.9914449|0.13052619|0.14583333|0.6087614|0.7933533| 0.16666667|      0.5|0.8660254|\n",
       "|         142|       29.0|  0.5|      6.05|             26.85|2016-03-01|00:02:37|2016|   03| 01|                7.2|     0|0.020833334|0.9914449|0.13052619|0.14583333|0.6087614|0.7933533| 0.16666667|      0.5|0.8660254|\n",
       "|         239|        8.0|  0.5|      1.85|               6.9|2016-03-01|00:50:58|2016|   03| 01|                7.2|     0|0.020833334|0.9914449|0.13052619|0.14583333|0.6087614|0.7933533| 0.16666667|      0.5|0.8660254|\n",
       "|         164|        8.0|  0.5|      1.85|             8.617|2016-03-01|00:06:17|2016|   03| 01|                7.2|     0|0.020833334|0.9914449|0.13052619|0.14583333|0.6087614|0.7933533| 0.16666667|      0.5|0.8660254|\n",
       "|         161|        6.5|  0.5|      1.55|               6.7|2016-03-01|00:34:15|2016|   03| 01|                7.2|     0|0.020833334|0.9914449|0.13052619|0.14583333|0.6087614|0.7933533| 0.16666667|      0.5|0.8660254|\n",
       "|         132|       40.0|  0.5|      8.26|             19.25|2016-03-01|00:29:22|2016|   03| 01|                7.2|     0|0.020833334|0.9914449|0.13052619|0.14583333|0.6087614|0.7933533| 0.16666667|      0.5|0.8660254|\n",
       "|         162|       10.0|  0.5|       2.8|             8.883|2016-03-01|00:24:58|2016|   03| 01|                7.2|     0|0.020833334|0.9914449|0.13052619|0.14583333|0.6087614|0.7933533| 0.16666667|      0.5|0.8660254|\n",
       "|         144|        8.5|  0.5|      2.45|             9.517|2016-03-01|00:13:13|2016|   03| 01|                7.2|     0|0.020833334|0.9914449|0.13052619|0.14583333|0.6087614|0.7933533| 0.16666667|      0.5|0.8660254|\n",
       "|         148|       16.5|  0.5|      3.55|              14.0|2016-03-01|00:30:32|2016|   03| 01|                7.2|     0|0.020833334|0.9914449|0.13052619|0.14583333|0.6087614|0.7933533| 0.16666667|      0.5|0.8660254|\n",
       "|         148|       13.0|  0.5|      2.86|            13.367|2016-03-01|00:07:16|2016|   03| 01|                7.2|     0|0.020833334|0.9914449|0.13052619|0.14583333|0.6087614|0.7933533| 0.16666667|      0.5|0.8660254|\n",
       "|         148|       22.0|  0.5|      4.65|            20.933|2016-03-01|00:56:54|2016|   03| 01|                7.2|     0|0.020833334|0.9914449|0.13052619|0.14583333|0.6087614|0.7933533| 0.16666667|      0.5|0.8660254|\n",
       "|         161|        6.0|  0.5|      1.45|             5.233|2016-03-01|00:33:42|2016|   03| 01|                7.2|     0|0.020833334|0.9914449|0.13052619|0.14583333|0.6087614|0.7933533| 0.16666667|      0.5|0.8660254|\n",
       "|          75|        8.5|  0.5|      2.45|             7.667|2016-03-01|00:28:16|2016|   03| 01|                7.2|     0|0.020833334|0.9914449|0.13052619|0.14583333|0.6087614|0.7933533| 0.16666667|      0.5|0.8660254|\n",
       "|         163|        9.0|  0.5|      2.55|               9.6|2016-03-01|00:30:09|2016|   03| 01|                7.2|     0|0.020833334|0.9914449|0.13052619|0.14583333|0.6087614|0.7933533| 0.16666667|      0.5|0.8660254|\n",
       "+------------+-----------+-----+----------+------------------+----------+--------+----+-----+---+-------------------+------+-----------+---------+----------+----------+---------+---------+-----------+---------+---------+\n",
       "only showing top 20 rows"
      ]
     },
     "execution_count": 20,
     "metadata": {},
     "output_type": "execute_result"
    }
   ],
   "source": [
    "# again, month is cyclical thus sine and cosine is used for transformation\n",
    "feature_eng_sdf = feature_eng_sdf.withColumn(\"month_float\", normalize_month(F.col(\"month\")))\n",
    "feature_eng_sdf = feature_eng_sdf.withColumn(\"cos_month\", cos_val(F.col(\"month_float\")))\n",
    "feature_eng_sdf = feature_eng_sdf.withColumn(\"sin_month\", sin_val(F.col(\"month_float\")))\n",
    "feature_eng_sdf "
   ]
  },
  {
   "cell_type": "markdown",
   "metadata": {},
   "source": [
    "# Convert average temperature into Fahrenheit"
   ]
  },
  {
   "cell_type": "code",
   "execution_count": 21,
   "metadata": {},
   "outputs": [
    {
     "data": {
      "text/html": [
       "<table border='1'>\n",
       "<tr><th>PULocationID</th><th>fare_amount</th><th>extra</th><th>tip_amount</th><th>duration (minutes)</th><th>date</th><th>time</th><th>year</th><th>month</th><th>day</th><th>average_temperature</th><th>precip</th><th>time_float</th><th>cos_time</th><th>sin_time</th><th>date_float</th><th>cos_date</th><th>sin_date</th><th>month_float</th><th>cos_month</th><th>sin_month</th></tr>\n",
       "<tr><td>43</td><td>6.5</td><td>0.5</td><td>0.0</td><td>4.333</td><td>2016-03-01</td><td>00:06:22</td><td>2016</td><td>03</td><td>01</td><td>44.96</td><td>0</td><td>0.020833334</td><td>0.9914449</td><td>0.13052619</td><td>0.14583333</td><td>0.6087614</td><td>0.7933533</td><td>0.16666667</td><td>0.5</td><td>0.8660254</td></tr>\n",
       "<tr><td>237</td><td>8.5</td><td>0.5</td><td>1.96</td><td>5.617</td><td>2016-03-01</td><td>00:23:21</td><td>2016</td><td>03</td><td>01</td><td>44.96</td><td>0</td><td>0.020833334</td><td>0.9914449</td><td>0.13052619</td><td>0.14583333</td><td>0.6087614</td><td>0.7933533</td><td>0.16666667</td><td>0.5</td><td>0.8660254</td></tr>\n",
       "<tr><td>236</td><td>8.0</td><td>0.5</td><td>1.86</td><td>6.867</td><td>2016-03-01</td><td>00:37:19</td><td>2016</td><td>03</td><td>01</td><td>44.96</td><td>0</td><td>0.020833334</td><td>0.9914449</td><td>0.13052619</td><td>0.14583333</td><td>0.6087614</td><td>0.7933533</td><td>0.16666667</td><td>0.5</td><td>0.8660254</td></tr>\n",
       "<tr><td>95</td><td>13.0</td><td>0.5</td><td>2.5</td><td>11.35</td><td>2016-03-01</td><td>00:34:53</td><td>2016</td><td>03</td><td>01</td><td>44.96</td><td>0</td><td>0.020833334</td><td>0.9914449</td><td>0.13052619</td><td>0.14583333</td><td>0.6087614</td><td>0.7933533</td><td>0.16666667</td><td>0.5</td><td>0.8660254</td></tr>\n",
       "<tr><td>170</td><td>20.5</td><td>0.5</td><td>4.35</td><td>22.7</td><td>2016-03-01</td><td>00:30:27</td><td>2016</td><td>03</td><td>01</td><td>44.96</td><td>0</td><td>0.020833334</td><td>0.9914449</td><td>0.13052619</td><td>0.14583333</td><td>0.6087614</td><td>0.7933533</td><td>0.16666667</td><td>0.5</td><td>0.8660254</td></tr>\n",
       "<tr><td>163</td><td>9.0</td><td>0.5</td><td>3.09</td><td>8.983</td><td>2016-03-01</td><td>00:09:43</td><td>2016</td><td>03</td><td>01</td><td>44.96</td><td>0</td><td>0.020833334</td><td>0.9914449</td><td>0.13052619</td><td>0.14583333</td><td>0.6087614</td><td>0.7933533</td><td>0.16666667</td><td>0.5</td><td>0.8660254</td></tr>\n",
       "<tr><td>163</td><td>7.0</td><td>0.5</td><td>1.66</td><td>8.05</td><td>2016-03-01</td><td>00:32:15</td><td>2016</td><td>03</td><td>01</td><td>44.96</td><td>0</td><td>0.020833334</td><td>0.9914449</td><td>0.13052619</td><td>0.14583333</td><td>0.6087614</td><td>0.7933533</td><td>0.16666667</td><td>0.5</td><td>0.8660254</td></tr>\n",
       "<tr><td>142</td><td>29.0</td><td>0.5</td><td>6.05</td><td>26.85</td><td>2016-03-01</td><td>00:02:37</td><td>2016</td><td>03</td><td>01</td><td>44.96</td><td>0</td><td>0.020833334</td><td>0.9914449</td><td>0.13052619</td><td>0.14583333</td><td>0.6087614</td><td>0.7933533</td><td>0.16666667</td><td>0.5</td><td>0.8660254</td></tr>\n",
       "<tr><td>239</td><td>8.0</td><td>0.5</td><td>1.85</td><td>6.9</td><td>2016-03-01</td><td>00:50:58</td><td>2016</td><td>03</td><td>01</td><td>44.96</td><td>0</td><td>0.020833334</td><td>0.9914449</td><td>0.13052619</td><td>0.14583333</td><td>0.6087614</td><td>0.7933533</td><td>0.16666667</td><td>0.5</td><td>0.8660254</td></tr>\n",
       "<tr><td>164</td><td>8.0</td><td>0.5</td><td>1.85</td><td>8.617</td><td>2016-03-01</td><td>00:06:17</td><td>2016</td><td>03</td><td>01</td><td>44.96</td><td>0</td><td>0.020833334</td><td>0.9914449</td><td>0.13052619</td><td>0.14583333</td><td>0.6087614</td><td>0.7933533</td><td>0.16666667</td><td>0.5</td><td>0.8660254</td></tr>\n",
       "<tr><td>161</td><td>6.5</td><td>0.5</td><td>1.55</td><td>6.7</td><td>2016-03-01</td><td>00:34:15</td><td>2016</td><td>03</td><td>01</td><td>44.96</td><td>0</td><td>0.020833334</td><td>0.9914449</td><td>0.13052619</td><td>0.14583333</td><td>0.6087614</td><td>0.7933533</td><td>0.16666667</td><td>0.5</td><td>0.8660254</td></tr>\n",
       "<tr><td>132</td><td>40.0</td><td>0.5</td><td>8.26</td><td>19.25</td><td>2016-03-01</td><td>00:29:22</td><td>2016</td><td>03</td><td>01</td><td>44.96</td><td>0</td><td>0.020833334</td><td>0.9914449</td><td>0.13052619</td><td>0.14583333</td><td>0.6087614</td><td>0.7933533</td><td>0.16666667</td><td>0.5</td><td>0.8660254</td></tr>\n",
       "<tr><td>162</td><td>10.0</td><td>0.5</td><td>2.8</td><td>8.883</td><td>2016-03-01</td><td>00:24:58</td><td>2016</td><td>03</td><td>01</td><td>44.96</td><td>0</td><td>0.020833334</td><td>0.9914449</td><td>0.13052619</td><td>0.14583333</td><td>0.6087614</td><td>0.7933533</td><td>0.16666667</td><td>0.5</td><td>0.8660254</td></tr>\n",
       "<tr><td>144</td><td>8.5</td><td>0.5</td><td>2.45</td><td>9.517</td><td>2016-03-01</td><td>00:13:13</td><td>2016</td><td>03</td><td>01</td><td>44.96</td><td>0</td><td>0.020833334</td><td>0.9914449</td><td>0.13052619</td><td>0.14583333</td><td>0.6087614</td><td>0.7933533</td><td>0.16666667</td><td>0.5</td><td>0.8660254</td></tr>\n",
       "<tr><td>148</td><td>16.5</td><td>0.5</td><td>3.55</td><td>14.0</td><td>2016-03-01</td><td>00:30:32</td><td>2016</td><td>03</td><td>01</td><td>44.96</td><td>0</td><td>0.020833334</td><td>0.9914449</td><td>0.13052619</td><td>0.14583333</td><td>0.6087614</td><td>0.7933533</td><td>0.16666667</td><td>0.5</td><td>0.8660254</td></tr>\n",
       "<tr><td>148</td><td>13.0</td><td>0.5</td><td>2.86</td><td>13.367</td><td>2016-03-01</td><td>00:07:16</td><td>2016</td><td>03</td><td>01</td><td>44.96</td><td>0</td><td>0.020833334</td><td>0.9914449</td><td>0.13052619</td><td>0.14583333</td><td>0.6087614</td><td>0.7933533</td><td>0.16666667</td><td>0.5</td><td>0.8660254</td></tr>\n",
       "<tr><td>148</td><td>22.0</td><td>0.5</td><td>4.65</td><td>20.933</td><td>2016-03-01</td><td>00:56:54</td><td>2016</td><td>03</td><td>01</td><td>44.96</td><td>0</td><td>0.020833334</td><td>0.9914449</td><td>0.13052619</td><td>0.14583333</td><td>0.6087614</td><td>0.7933533</td><td>0.16666667</td><td>0.5</td><td>0.8660254</td></tr>\n",
       "<tr><td>161</td><td>6.0</td><td>0.5</td><td>1.45</td><td>5.233</td><td>2016-03-01</td><td>00:33:42</td><td>2016</td><td>03</td><td>01</td><td>44.96</td><td>0</td><td>0.020833334</td><td>0.9914449</td><td>0.13052619</td><td>0.14583333</td><td>0.6087614</td><td>0.7933533</td><td>0.16666667</td><td>0.5</td><td>0.8660254</td></tr>\n",
       "<tr><td>75</td><td>8.5</td><td>0.5</td><td>2.45</td><td>7.667</td><td>2016-03-01</td><td>00:28:16</td><td>2016</td><td>03</td><td>01</td><td>44.96</td><td>0</td><td>0.020833334</td><td>0.9914449</td><td>0.13052619</td><td>0.14583333</td><td>0.6087614</td><td>0.7933533</td><td>0.16666667</td><td>0.5</td><td>0.8660254</td></tr>\n",
       "<tr><td>163</td><td>9.0</td><td>0.5</td><td>2.55</td><td>9.6</td><td>2016-03-01</td><td>00:30:09</td><td>2016</td><td>03</td><td>01</td><td>44.96</td><td>0</td><td>0.020833334</td><td>0.9914449</td><td>0.13052619</td><td>0.14583333</td><td>0.6087614</td><td>0.7933533</td><td>0.16666667</td><td>0.5</td><td>0.8660254</td></tr>\n",
       "</table>\n",
       "only showing top 20 rows\n"
      ],
      "text/plain": [
       "+------------+-----------+-----+----------+------------------+----------+--------+----+-----+---+-------------------+------+-----------+---------+----------+----------+---------+---------+-----------+---------+---------+\n",
       "|PULocationID|fare_amount|extra|tip_amount|duration (minutes)|      date|    time|year|month|day|average_temperature|precip| time_float| cos_time|  sin_time|date_float| cos_date| sin_date|month_float|cos_month|sin_month|\n",
       "+------------+-----------+-----+----------+------------------+----------+--------+----+-----+---+-------------------+------+-----------+---------+----------+----------+---------+---------+-----------+---------+---------+\n",
       "|          43|        6.5|  0.5|       0.0|             4.333|2016-03-01|00:06:22|2016|   03| 01|              44.96|     0|0.020833334|0.9914449|0.13052619|0.14583333|0.6087614|0.7933533| 0.16666667|      0.5|0.8660254|\n",
       "|         237|        8.5|  0.5|      1.96|             5.617|2016-03-01|00:23:21|2016|   03| 01|              44.96|     0|0.020833334|0.9914449|0.13052619|0.14583333|0.6087614|0.7933533| 0.16666667|      0.5|0.8660254|\n",
       "|         236|        8.0|  0.5|      1.86|             6.867|2016-03-01|00:37:19|2016|   03| 01|              44.96|     0|0.020833334|0.9914449|0.13052619|0.14583333|0.6087614|0.7933533| 0.16666667|      0.5|0.8660254|\n",
       "|          95|       13.0|  0.5|       2.5|             11.35|2016-03-01|00:34:53|2016|   03| 01|              44.96|     0|0.020833334|0.9914449|0.13052619|0.14583333|0.6087614|0.7933533| 0.16666667|      0.5|0.8660254|\n",
       "|         170|       20.5|  0.5|      4.35|              22.7|2016-03-01|00:30:27|2016|   03| 01|              44.96|     0|0.020833334|0.9914449|0.13052619|0.14583333|0.6087614|0.7933533| 0.16666667|      0.5|0.8660254|\n",
       "|         163|        9.0|  0.5|      3.09|             8.983|2016-03-01|00:09:43|2016|   03| 01|              44.96|     0|0.020833334|0.9914449|0.13052619|0.14583333|0.6087614|0.7933533| 0.16666667|      0.5|0.8660254|\n",
       "|         163|        7.0|  0.5|      1.66|              8.05|2016-03-01|00:32:15|2016|   03| 01|              44.96|     0|0.020833334|0.9914449|0.13052619|0.14583333|0.6087614|0.7933533| 0.16666667|      0.5|0.8660254|\n",
       "|         142|       29.0|  0.5|      6.05|             26.85|2016-03-01|00:02:37|2016|   03| 01|              44.96|     0|0.020833334|0.9914449|0.13052619|0.14583333|0.6087614|0.7933533| 0.16666667|      0.5|0.8660254|\n",
       "|         239|        8.0|  0.5|      1.85|               6.9|2016-03-01|00:50:58|2016|   03| 01|              44.96|     0|0.020833334|0.9914449|0.13052619|0.14583333|0.6087614|0.7933533| 0.16666667|      0.5|0.8660254|\n",
       "|         164|        8.0|  0.5|      1.85|             8.617|2016-03-01|00:06:17|2016|   03| 01|              44.96|     0|0.020833334|0.9914449|0.13052619|0.14583333|0.6087614|0.7933533| 0.16666667|      0.5|0.8660254|\n",
       "|         161|        6.5|  0.5|      1.55|               6.7|2016-03-01|00:34:15|2016|   03| 01|              44.96|     0|0.020833334|0.9914449|0.13052619|0.14583333|0.6087614|0.7933533| 0.16666667|      0.5|0.8660254|\n",
       "|         132|       40.0|  0.5|      8.26|             19.25|2016-03-01|00:29:22|2016|   03| 01|              44.96|     0|0.020833334|0.9914449|0.13052619|0.14583333|0.6087614|0.7933533| 0.16666667|      0.5|0.8660254|\n",
       "|         162|       10.0|  0.5|       2.8|             8.883|2016-03-01|00:24:58|2016|   03| 01|              44.96|     0|0.020833334|0.9914449|0.13052619|0.14583333|0.6087614|0.7933533| 0.16666667|      0.5|0.8660254|\n",
       "|         144|        8.5|  0.5|      2.45|             9.517|2016-03-01|00:13:13|2016|   03| 01|              44.96|     0|0.020833334|0.9914449|0.13052619|0.14583333|0.6087614|0.7933533| 0.16666667|      0.5|0.8660254|\n",
       "|         148|       16.5|  0.5|      3.55|              14.0|2016-03-01|00:30:32|2016|   03| 01|              44.96|     0|0.020833334|0.9914449|0.13052619|0.14583333|0.6087614|0.7933533| 0.16666667|      0.5|0.8660254|\n",
       "|         148|       13.0|  0.5|      2.86|            13.367|2016-03-01|00:07:16|2016|   03| 01|              44.96|     0|0.020833334|0.9914449|0.13052619|0.14583333|0.6087614|0.7933533| 0.16666667|      0.5|0.8660254|\n",
       "|         148|       22.0|  0.5|      4.65|            20.933|2016-03-01|00:56:54|2016|   03| 01|              44.96|     0|0.020833334|0.9914449|0.13052619|0.14583333|0.6087614|0.7933533| 0.16666667|      0.5|0.8660254|\n",
       "|         161|        6.0|  0.5|      1.45|             5.233|2016-03-01|00:33:42|2016|   03| 01|              44.96|     0|0.020833334|0.9914449|0.13052619|0.14583333|0.6087614|0.7933533| 0.16666667|      0.5|0.8660254|\n",
       "|          75|        8.5|  0.5|      2.45|             7.667|2016-03-01|00:28:16|2016|   03| 01|              44.96|     0|0.020833334|0.9914449|0.13052619|0.14583333|0.6087614|0.7933533| 0.16666667|      0.5|0.8660254|\n",
       "|         163|        9.0|  0.5|      2.55|               9.6|2016-03-01|00:30:09|2016|   03| 01|              44.96|     0|0.020833334|0.9914449|0.13052619|0.14583333|0.6087614|0.7933533| 0.16666667|      0.5|0.8660254|\n",
       "+------------+-----------+-----+----------+------------------+----------+--------+----+-----+---+-------------------+------+-----------+---------+----------+----------+---------+---------+-----------+---------+---------+\n",
       "only showing top 20 rows"
      ]
     },
     "execution_count": 21,
     "metadata": {},
     "output_type": "execute_result"
    }
   ],
   "source": [
    "feature_eng_sdf = feature_eng_sdf.withColumn(\"average_temperature\", (F.col(\"average_temperature\") * 1.8) + 32)\n",
    "feature_eng_sdf"
   ]
  },
  {
   "cell_type": "markdown",
   "metadata": {},
   "source": [
    "# Trip value calculation\n",
    "Trip value is first defined as the sum of fare amounts divided by duration, trip value suffers a loss of 10% when 20F to 75F and 15% loss below 20F. Assume standard fuel economy is 25.4 mpg, then light rain (<2.5mm/hr percipitation) increase consumption by 0.25mpg is 1% loss, 2.5 to 7.5mm/hr is moderate rain assume 2% loss, 7.6 to 55mmm/hr as 4% loss."
   ]
  },
  {
   "cell_type": "code",
   "execution_count": 22,
   "metadata": {},
   "outputs": [],
   "source": [
    "@F.udf(returnType=FloatType())\n",
    "def calc_trip_value(tip, fare, extra, duration, rain, temp):\n",
    "    rain = float(rain)\n",
    "    temp = float(temp)\n",
    "    trip_value = (float(tip) + float(fare) + float(extra)) / float(duration)\n",
    "    \n",
    "    if temp < 20:\n",
    "        trip_value *= 0.85\n",
    "    elif temp < 75 and temp > 20:\n",
    "        trip_value *= 0.9\n",
    "    \n",
    "    if rain < 2.5:\n",
    "        trip_value *= 0.99\n",
    "    elif rain < 7.5 and rain >= 2.5:\n",
    "        trip_value *= 0.98\n",
    "    else:\n",
    "        trip_value *= 0.96\n",
    "    \n",
    "    return trip_value"
   ]
  },
  {
   "cell_type": "code",
   "execution_count": 23,
   "metadata": {},
   "outputs": [
    {
     "data": {
      "text/html": [
       "<table border='1'>\n",
       "<tr><th>PULocationID</th><th>fare_amount</th><th>extra</th><th>tip_amount</th><th>duration (minutes)</th><th>date</th><th>time</th><th>year</th><th>month</th><th>day</th><th>average_temperature</th><th>precip</th><th>time_float</th><th>cos_time</th><th>sin_time</th><th>date_float</th><th>cos_date</th><th>sin_date</th><th>month_float</th><th>cos_month</th><th>sin_month</th><th>trip_value</th></tr>\n",
       "<tr><td>43</td><td>6.5</td><td>0.5</td><td>0.0</td><td>4.333</td><td>2016-03-01</td><td>00:06:22</td><td>2016</td><td>03</td><td>01</td><td>44.96</td><td>0</td><td>0.020833334</td><td>0.9914449</td><td>0.13052619</td><td>0.14583333</td><td>0.6087614</td><td>0.7933533</td><td>0.16666667</td><td>0.5</td><td>0.8660254</td><td>1.3182553</td></tr>\n",
       "<tr><td>237</td><td>8.5</td><td>0.5</td><td>1.96</td><td>5.617</td><td>2016-03-01</td><td>00:23:21</td><td>2016</td><td>03</td><td>01</td><td>44.96</td><td>0</td><td>0.020833334</td><td>0.9914449</td><td>0.13052619</td><td>0.14583333</td><td>0.6087614</td><td>0.7933533</td><td>0.16666667</td><td>0.5</td><td>0.8660254</td><td>1.5921952</td></tr>\n",
       "<tr><td>236</td><td>8.0</td><td>0.5</td><td>1.86</td><td>6.867</td><td>2016-03-01</td><td>00:37:19</td><td>2016</td><td>03</td><td>01</td><td>44.96</td><td>0</td><td>0.020833334</td><td>0.9914449</td><td>0.13052619</td><td>0.14583333</td><td>0.6087614</td><td>0.7933533</td><td>0.16666667</td><td>0.5</td><td>0.8660254</td><td>1.2310703</td></tr>\n",
       "<tr><td>95</td><td>13.0</td><td>0.5</td><td>2.5</td><td>11.35</td><td>2016-03-01</td><td>00:34:53</td><td>2016</td><td>03</td><td>01</td><td>44.96</td><td>0</td><td>0.020833334</td><td>0.9914449</td><td>0.13052619</td><td>0.14583333</td><td>0.6087614</td><td>0.7933533</td><td>0.16666667</td><td>0.5</td><td>0.8660254</td><td>1.1503084</td></tr>\n",
       "<tr><td>170</td><td>20.5</td><td>0.5</td><td>4.35</td><td>22.7</td><td>2016-03-01</td><td>00:30:27</td><td>2016</td><td>03</td><td>01</td><td>44.96</td><td>0</td><td>0.020833334</td><td>0.9914449</td><td>0.13052619</td><td>0.14583333</td><td>0.6087614</td><td>0.7933533</td><td>0.16666667</td><td>0.5</td><td>0.8660254</td><td>0.9112599</td></tr>\n",
       "<tr><td>163</td><td>9.0</td><td>0.5</td><td>3.09</td><td>8.983</td><td>2016-03-01</td><td>00:09:43</td><td>2016</td><td>03</td><td>01</td><td>44.96</td><td>0</td><td>0.020833334</td><td>0.9914449</td><td>0.13052619</td><td>0.14583333</td><td>0.6087614</td><td>0.7933533</td><td>0.16666667</td><td>0.5</td><td>0.8660254</td><td>1.1436535</td></tr>\n",
       "<tr><td>163</td><td>7.0</td><td>0.5</td><td>1.66</td><td>8.05</td><td>2016-03-01</td><td>00:32:15</td><td>2016</td><td>03</td><td>01</td><td>44.96</td><td>0</td><td>0.020833334</td><td>0.9914449</td><td>0.13052619</td><td>0.14583333</td><td>0.6087614</td><td>0.7933533</td><td>0.16666667</td><td>0.5</td><td>0.8660254</td><td>0.92851675</td></tr>\n",
       "<tr><td>142</td><td>29.0</td><td>0.5</td><td>6.05</td><td>26.85</td><td>2016-03-01</td><td>00:02:37</td><td>2016</td><td>03</td><td>01</td><td>44.96</td><td>0</td><td>0.020833334</td><td>0.9914449</td><td>0.13052619</td><td>0.14583333</td><td>0.6087614</td><td>0.7933533</td><td>0.16666667</td><td>0.5</td><td>0.8660254</td><td>1.0804023</td></tr>\n",
       "<tr><td>239</td><td>8.0</td><td>0.5</td><td>1.85</td><td>6.9</td><td>2016-03-01</td><td>00:50:58</td><td>2016</td><td>03</td><td>01</td><td>44.96</td><td>0</td><td>0.020833334</td><td>0.9914449</td><td>0.13052619</td><td>0.14583333</td><td>0.6087614</td><td>0.7933533</td><td>0.16666667</td><td>0.5</td><td>0.8660254</td><td>1.224</td></tr>\n",
       "<tr><td>164</td><td>8.0</td><td>0.5</td><td>1.85</td><td>8.617</td><td>2016-03-01</td><td>00:06:17</td><td>2016</td><td>03</td><td>01</td><td>44.96</td><td>0</td><td>0.020833334</td><td>0.9914449</td><td>0.13052619</td><td>0.14583333</td><td>0.6087614</td><td>0.7933533</td><td>0.16666667</td><td>0.5</td><td>0.8660254</td><td>0.9801091</td></tr>\n",
       "<tr><td>161</td><td>6.5</td><td>0.5</td><td>1.55</td><td>6.7</td><td>2016-03-01</td><td>00:34:15</td><td>2016</td><td>03</td><td>01</td><td>44.96</td><td>0</td><td>0.020833334</td><td>0.9914449</td><td>0.13052619</td><td>0.14583333</td><td>0.6087614</td><td>0.7933533</td><td>0.16666667</td><td>0.5</td><td>0.8660254</td><td>1.0413134</td></tr>\n",
       "<tr><td>132</td><td>40.0</td><td>0.5</td><td>8.26</td><td>19.25</td><td>2016-03-01</td><td>00:29:22</td><td>2016</td><td>03</td><td>01</td><td>44.96</td><td>0</td><td>0.020833334</td><td>0.9914449</td><td>0.13052619</td><td>0.14583333</td><td>0.6087614</td><td>0.7933533</td><td>0.16666667</td><td>0.5</td><td>0.8660254</td><td>2.0669174</td></tr>\n",
       "<tr><td>162</td><td>10.0</td><td>0.5</td><td>2.8</td><td>8.883</td><td>2016-03-01</td><td>00:24:58</td><td>2016</td><td>03</td><td>01</td><td>44.96</td><td>0</td><td>0.020833334</td><td>0.9914449</td><td>0.13052619</td><td>0.14583333</td><td>0.6087614</td><td>0.7933533</td><td>0.16666667</td><td>0.5</td><td>0.8660254</td><td>1.2217494</td></tr>\n",
       "<tr><td>144</td><td>8.5</td><td>0.5</td><td>2.45</td><td>9.517</td><td>2016-03-01</td><td>00:13:13</td><td>2016</td><td>03</td><td>01</td><td>44.96</td><td>0</td><td>0.020833334</td><td>0.9914449</td><td>0.13052619</td><td>0.14583333</td><td>0.6087614</td><td>0.7933533</td><td>0.16666667</td><td>0.5</td><td>0.8660254</td><td>0.981738</td></tr>\n",
       "<tr><td>148</td><td>16.5</td><td>0.5</td><td>3.55</td><td>14.0</td><td>2016-03-01</td><td>00:30:32</td><td>2016</td><td>03</td><td>01</td><td>44.96</td><td>0</td><td>0.020833334</td><td>0.9914449</td><td>0.13052619</td><td>0.14583333</td><td>0.6087614</td><td>0.7933533</td><td>0.16666667</td><td>0.5</td><td>0.8660254</td><td>1.1977714</td></tr>\n",
       "<tr><td>148</td><td>13.0</td><td>0.5</td><td>2.86</td><td>13.367</td><td>2016-03-01</td><td>00:07:16</td><td>2016</td><td>03</td><td>01</td><td>44.96</td><td>0</td><td>0.020833334</td><td>0.9914449</td><td>0.13052619</td><td>0.14583333</td><td>0.6087614</td><td>0.7933533</td><td>0.16666667</td><td>0.5</td><td>0.8660254</td><td>0.9987103</td></tr>\n",
       "<tr><td>148</td><td>22.0</td><td>0.5</td><td>4.65</td><td>20.933</td><td>2016-03-01</td><td>00:56:54</td><td>2016</td><td>03</td><td>01</td><td>44.96</td><td>0</td><td>0.020833334</td><td>0.9914449</td><td>0.13052619</td><td>0.14583333</td><td>0.6087614</td><td>0.7933533</td><td>0.16666667</td><td>0.5</td><td>0.8660254</td><td>1.0583481</td></tr>\n",
       "<tr><td>161</td><td>6.0</td><td>0.5</td><td>1.45</td><td>5.233</td><td>2016-03-01</td><td>00:33:42</td><td>2016</td><td>03</td><td>01</td><td>44.96</td><td>0</td><td>0.020833334</td><td>0.9914449</td><td>0.13052619</td><td>0.14583333</td><td>0.6087614</td><td>0.7933533</td><td>0.16666667</td><td>0.5</td><td>0.8660254</td><td>1.2396713</td></tr>\n",
       "<tr><td>75</td><td>8.5</td><td>0.5</td><td>2.45</td><td>7.667</td><td>2016-03-01</td><td>00:28:16</td><td>2016</td><td>03</td><td>01</td><td>44.96</td><td>0</td><td>0.020833334</td><td>0.9914449</td><td>0.13052619</td><td>0.14583333</td><td>0.6087614</td><td>0.7933533</td><td>0.16666667</td><td>0.5</td><td>0.8660254</td><td>1.2186253</td></tr>\n",
       "<tr><td>163</td><td>9.0</td><td>0.5</td><td>2.55</td><td>9.6</td><td>2016-03-01</td><td>00:30:09</td><td>2016</td><td>03</td><td>01</td><td>44.96</td><td>0</td><td>0.020833334</td><td>0.9914449</td><td>0.13052619</td><td>0.14583333</td><td>0.6087614</td><td>0.7933533</td><td>0.16666667</td><td>0.5</td><td>0.8660254</td><td>1.02425</td></tr>\n",
       "</table>\n",
       "only showing top 20 rows\n"
      ],
      "text/plain": [
       "+------------+-----------+-----+----------+------------------+----------+--------+----+-----+---+-------------------+------+-----------+---------+----------+----------+---------+---------+-----------+---------+---------+----------+\n",
       "|PULocationID|fare_amount|extra|tip_amount|duration (minutes)|      date|    time|year|month|day|average_temperature|precip| time_float| cos_time|  sin_time|date_float| cos_date| sin_date|month_float|cos_month|sin_month|trip_value|\n",
       "+------------+-----------+-----+----------+------------------+----------+--------+----+-----+---+-------------------+------+-----------+---------+----------+----------+---------+---------+-----------+---------+---------+----------+\n",
       "|          43|        6.5|  0.5|       0.0|             4.333|2016-03-01|00:06:22|2016|   03| 01|              44.96|     0|0.020833334|0.9914449|0.13052619|0.14583333|0.6087614|0.7933533| 0.16666667|      0.5|0.8660254| 1.3182553|\n",
       "|         237|        8.5|  0.5|      1.96|             5.617|2016-03-01|00:23:21|2016|   03| 01|              44.96|     0|0.020833334|0.9914449|0.13052619|0.14583333|0.6087614|0.7933533| 0.16666667|      0.5|0.8660254| 1.5921952|\n",
       "|         236|        8.0|  0.5|      1.86|             6.867|2016-03-01|00:37:19|2016|   03| 01|              44.96|     0|0.020833334|0.9914449|0.13052619|0.14583333|0.6087614|0.7933533| 0.16666667|      0.5|0.8660254| 1.2310703|\n",
       "|          95|       13.0|  0.5|       2.5|             11.35|2016-03-01|00:34:53|2016|   03| 01|              44.96|     0|0.020833334|0.9914449|0.13052619|0.14583333|0.6087614|0.7933533| 0.16666667|      0.5|0.8660254| 1.1503084|\n",
       "|         170|       20.5|  0.5|      4.35|              22.7|2016-03-01|00:30:27|2016|   03| 01|              44.96|     0|0.020833334|0.9914449|0.13052619|0.14583333|0.6087614|0.7933533| 0.16666667|      0.5|0.8660254| 0.9112599|\n",
       "|         163|        9.0|  0.5|      3.09|             8.983|2016-03-01|00:09:43|2016|   03| 01|              44.96|     0|0.020833334|0.9914449|0.13052619|0.14583333|0.6087614|0.7933533| 0.16666667|      0.5|0.8660254| 1.1436535|\n",
       "|         163|        7.0|  0.5|      1.66|              8.05|2016-03-01|00:32:15|2016|   03| 01|              44.96|     0|0.020833334|0.9914449|0.13052619|0.14583333|0.6087614|0.7933533| 0.16666667|      0.5|0.8660254|0.92851675|\n",
       "|         142|       29.0|  0.5|      6.05|             26.85|2016-03-01|00:02:37|2016|   03| 01|              44.96|     0|0.020833334|0.9914449|0.13052619|0.14583333|0.6087614|0.7933533| 0.16666667|      0.5|0.8660254| 1.0804023|\n",
       "|         239|        8.0|  0.5|      1.85|               6.9|2016-03-01|00:50:58|2016|   03| 01|              44.96|     0|0.020833334|0.9914449|0.13052619|0.14583333|0.6087614|0.7933533| 0.16666667|      0.5|0.8660254|     1.224|\n",
       "|         164|        8.0|  0.5|      1.85|             8.617|2016-03-01|00:06:17|2016|   03| 01|              44.96|     0|0.020833334|0.9914449|0.13052619|0.14583333|0.6087614|0.7933533| 0.16666667|      0.5|0.8660254| 0.9801091|\n",
       "|         161|        6.5|  0.5|      1.55|               6.7|2016-03-01|00:34:15|2016|   03| 01|              44.96|     0|0.020833334|0.9914449|0.13052619|0.14583333|0.6087614|0.7933533| 0.16666667|      0.5|0.8660254| 1.0413134|\n",
       "|         132|       40.0|  0.5|      8.26|             19.25|2016-03-01|00:29:22|2016|   03| 01|              44.96|     0|0.020833334|0.9914449|0.13052619|0.14583333|0.6087614|0.7933533| 0.16666667|      0.5|0.8660254| 2.0669174|\n",
       "|         162|       10.0|  0.5|       2.8|             8.883|2016-03-01|00:24:58|2016|   03| 01|              44.96|     0|0.020833334|0.9914449|0.13052619|0.14583333|0.6087614|0.7933533| 0.16666667|      0.5|0.8660254| 1.2217494|\n",
       "|         144|        8.5|  0.5|      2.45|             9.517|2016-03-01|00:13:13|2016|   03| 01|              44.96|     0|0.020833334|0.9914449|0.13052619|0.14583333|0.6087614|0.7933533| 0.16666667|      0.5|0.8660254|  0.981738|\n",
       "|         148|       16.5|  0.5|      3.55|              14.0|2016-03-01|00:30:32|2016|   03| 01|              44.96|     0|0.020833334|0.9914449|0.13052619|0.14583333|0.6087614|0.7933533| 0.16666667|      0.5|0.8660254| 1.1977714|\n",
       "|         148|       13.0|  0.5|      2.86|            13.367|2016-03-01|00:07:16|2016|   03| 01|              44.96|     0|0.020833334|0.9914449|0.13052619|0.14583333|0.6087614|0.7933533| 0.16666667|      0.5|0.8660254| 0.9987103|\n",
       "|         148|       22.0|  0.5|      4.65|            20.933|2016-03-01|00:56:54|2016|   03| 01|              44.96|     0|0.020833334|0.9914449|0.13052619|0.14583333|0.6087614|0.7933533| 0.16666667|      0.5|0.8660254| 1.0583481|\n",
       "|         161|        6.0|  0.5|      1.45|             5.233|2016-03-01|00:33:42|2016|   03| 01|              44.96|     0|0.020833334|0.9914449|0.13052619|0.14583333|0.6087614|0.7933533| 0.16666667|      0.5|0.8660254| 1.2396713|\n",
       "|          75|        8.5|  0.5|      2.45|             7.667|2016-03-01|00:28:16|2016|   03| 01|              44.96|     0|0.020833334|0.9914449|0.13052619|0.14583333|0.6087614|0.7933533| 0.16666667|      0.5|0.8660254| 1.2186253|\n",
       "|         163|        9.0|  0.5|      2.55|               9.6|2016-03-01|00:30:09|2016|   03| 01|              44.96|     0|0.020833334|0.9914449|0.13052619|0.14583333|0.6087614|0.7933533| 0.16666667|      0.5|0.8660254|   1.02425|\n",
       "+------------+-----------+-----+----------+------------------+----------+--------+----+-----+---+-------------------+------+-----------+---------+----------+----------+---------+---------+-----------+---------+---------+----------+\n",
       "only showing top 20 rows"
      ]
     },
     "execution_count": 23,
     "metadata": {},
     "output_type": "execute_result"
    }
   ],
   "source": [
    "# using desiring attributes to calculate the trip value\n",
    "feature_eng_sdf = feature_eng_sdf.withColumn(\"trip_value\", \n",
    "                                calc_trip_value(F.col(\"tip_amount\"), \n",
    "                                F.col(\"fare_amount\"),\n",
    "                                F.col(\"extra\"),\n",
    "                                F.col(\"duration (minutes)\"),\n",
    "                                F.col(\"average_temperature\"),\n",
    "                                F.col(\"precip\")\n",
    "                                ))\n",
    "feature_eng_sdf \n"
   ]
  },
  {
   "cell_type": "markdown",
   "metadata": {},
   "source": [
    "# Holiday for added information, by common sense, holidays allows more trips to be taken."
   ]
  },
  {
   "cell_type": "code",
   "execution_count": 24,
   "metadata": {},
   "outputs": [],
   "source": [
    "# obtaining US federal holidays and label trips where they occur on a holiday\n",
    "cal = calander()\n",
    "holidays = cal.holidays(start='2016-01-01', end='2017-05-31')\n",
    "holidays = [str(day).split()[0] for day in holidays]\n",
    "feature_eng_sdf = feature_eng_sdf.withColumn(\"holiday\",    \n",
    "                                       F.when(F.col(\"date\").isin(holidays), True)\n",
    "                                       .otherwise(False)\n",
    "                                      )\n"
   ]
  },
  {
   "cell_type": "code",
   "execution_count": 25,
   "metadata": {},
   "outputs": [
    {
     "data": {
      "text/html": [
       "<table border='1'>\n",
       "<tr><th>PULocationID</th><th>fare_amount</th><th>extra</th><th>tip_amount</th><th>duration (minutes)</th><th>date</th><th>time</th><th>year</th><th>month</th><th>day</th><th>average_temperature</th><th>precip</th><th>time_float</th><th>cos_time</th><th>sin_time</th><th>date_float</th><th>cos_date</th><th>sin_date</th><th>month_float</th><th>cos_month</th><th>sin_month</th><th>trip_value</th><th>holiday</th></tr>\n",
       "<tr><td>43</td><td>6.5</td><td>0.5</td><td>0.0</td><td>4.333</td><td>2016-03-01</td><td>00:06:22</td><td>2016</td><td>03</td><td>01</td><td>44.96</td><td>0</td><td>0.020833334</td><td>0.9914449</td><td>0.13052619</td><td>0.14583333</td><td>0.6087614</td><td>0.7933533</td><td>0.16666667</td><td>0.5</td><td>0.8660254</td><td>1.3182553</td><td>false</td></tr>\n",
       "<tr><td>237</td><td>8.5</td><td>0.5</td><td>1.96</td><td>5.617</td><td>2016-03-01</td><td>00:23:21</td><td>2016</td><td>03</td><td>01</td><td>44.96</td><td>0</td><td>0.020833334</td><td>0.9914449</td><td>0.13052619</td><td>0.14583333</td><td>0.6087614</td><td>0.7933533</td><td>0.16666667</td><td>0.5</td><td>0.8660254</td><td>1.5921952</td><td>false</td></tr>\n",
       "<tr><td>236</td><td>8.0</td><td>0.5</td><td>1.86</td><td>6.867</td><td>2016-03-01</td><td>00:37:19</td><td>2016</td><td>03</td><td>01</td><td>44.96</td><td>0</td><td>0.020833334</td><td>0.9914449</td><td>0.13052619</td><td>0.14583333</td><td>0.6087614</td><td>0.7933533</td><td>0.16666667</td><td>0.5</td><td>0.8660254</td><td>1.2310703</td><td>false</td></tr>\n",
       "<tr><td>95</td><td>13.0</td><td>0.5</td><td>2.5</td><td>11.35</td><td>2016-03-01</td><td>00:34:53</td><td>2016</td><td>03</td><td>01</td><td>44.96</td><td>0</td><td>0.020833334</td><td>0.9914449</td><td>0.13052619</td><td>0.14583333</td><td>0.6087614</td><td>0.7933533</td><td>0.16666667</td><td>0.5</td><td>0.8660254</td><td>1.1503084</td><td>false</td></tr>\n",
       "<tr><td>170</td><td>20.5</td><td>0.5</td><td>4.35</td><td>22.7</td><td>2016-03-01</td><td>00:30:27</td><td>2016</td><td>03</td><td>01</td><td>44.96</td><td>0</td><td>0.020833334</td><td>0.9914449</td><td>0.13052619</td><td>0.14583333</td><td>0.6087614</td><td>0.7933533</td><td>0.16666667</td><td>0.5</td><td>0.8660254</td><td>0.9112599</td><td>false</td></tr>\n",
       "<tr><td>163</td><td>9.0</td><td>0.5</td><td>3.09</td><td>8.983</td><td>2016-03-01</td><td>00:09:43</td><td>2016</td><td>03</td><td>01</td><td>44.96</td><td>0</td><td>0.020833334</td><td>0.9914449</td><td>0.13052619</td><td>0.14583333</td><td>0.6087614</td><td>0.7933533</td><td>0.16666667</td><td>0.5</td><td>0.8660254</td><td>1.1436535</td><td>false</td></tr>\n",
       "<tr><td>163</td><td>7.0</td><td>0.5</td><td>1.66</td><td>8.05</td><td>2016-03-01</td><td>00:32:15</td><td>2016</td><td>03</td><td>01</td><td>44.96</td><td>0</td><td>0.020833334</td><td>0.9914449</td><td>0.13052619</td><td>0.14583333</td><td>0.6087614</td><td>0.7933533</td><td>0.16666667</td><td>0.5</td><td>0.8660254</td><td>0.92851675</td><td>false</td></tr>\n",
       "<tr><td>142</td><td>29.0</td><td>0.5</td><td>6.05</td><td>26.85</td><td>2016-03-01</td><td>00:02:37</td><td>2016</td><td>03</td><td>01</td><td>44.96</td><td>0</td><td>0.020833334</td><td>0.9914449</td><td>0.13052619</td><td>0.14583333</td><td>0.6087614</td><td>0.7933533</td><td>0.16666667</td><td>0.5</td><td>0.8660254</td><td>1.0804023</td><td>false</td></tr>\n",
       "<tr><td>239</td><td>8.0</td><td>0.5</td><td>1.85</td><td>6.9</td><td>2016-03-01</td><td>00:50:58</td><td>2016</td><td>03</td><td>01</td><td>44.96</td><td>0</td><td>0.020833334</td><td>0.9914449</td><td>0.13052619</td><td>0.14583333</td><td>0.6087614</td><td>0.7933533</td><td>0.16666667</td><td>0.5</td><td>0.8660254</td><td>1.224</td><td>false</td></tr>\n",
       "<tr><td>164</td><td>8.0</td><td>0.5</td><td>1.85</td><td>8.617</td><td>2016-03-01</td><td>00:06:17</td><td>2016</td><td>03</td><td>01</td><td>44.96</td><td>0</td><td>0.020833334</td><td>0.9914449</td><td>0.13052619</td><td>0.14583333</td><td>0.6087614</td><td>0.7933533</td><td>0.16666667</td><td>0.5</td><td>0.8660254</td><td>0.9801091</td><td>false</td></tr>\n",
       "<tr><td>161</td><td>6.5</td><td>0.5</td><td>1.55</td><td>6.7</td><td>2016-03-01</td><td>00:34:15</td><td>2016</td><td>03</td><td>01</td><td>44.96</td><td>0</td><td>0.020833334</td><td>0.9914449</td><td>0.13052619</td><td>0.14583333</td><td>0.6087614</td><td>0.7933533</td><td>0.16666667</td><td>0.5</td><td>0.8660254</td><td>1.0413134</td><td>false</td></tr>\n",
       "<tr><td>132</td><td>40.0</td><td>0.5</td><td>8.26</td><td>19.25</td><td>2016-03-01</td><td>00:29:22</td><td>2016</td><td>03</td><td>01</td><td>44.96</td><td>0</td><td>0.020833334</td><td>0.9914449</td><td>0.13052619</td><td>0.14583333</td><td>0.6087614</td><td>0.7933533</td><td>0.16666667</td><td>0.5</td><td>0.8660254</td><td>2.0669174</td><td>false</td></tr>\n",
       "<tr><td>162</td><td>10.0</td><td>0.5</td><td>2.8</td><td>8.883</td><td>2016-03-01</td><td>00:24:58</td><td>2016</td><td>03</td><td>01</td><td>44.96</td><td>0</td><td>0.020833334</td><td>0.9914449</td><td>0.13052619</td><td>0.14583333</td><td>0.6087614</td><td>0.7933533</td><td>0.16666667</td><td>0.5</td><td>0.8660254</td><td>1.2217494</td><td>false</td></tr>\n",
       "<tr><td>144</td><td>8.5</td><td>0.5</td><td>2.45</td><td>9.517</td><td>2016-03-01</td><td>00:13:13</td><td>2016</td><td>03</td><td>01</td><td>44.96</td><td>0</td><td>0.020833334</td><td>0.9914449</td><td>0.13052619</td><td>0.14583333</td><td>0.6087614</td><td>0.7933533</td><td>0.16666667</td><td>0.5</td><td>0.8660254</td><td>0.981738</td><td>false</td></tr>\n",
       "<tr><td>148</td><td>16.5</td><td>0.5</td><td>3.55</td><td>14.0</td><td>2016-03-01</td><td>00:30:32</td><td>2016</td><td>03</td><td>01</td><td>44.96</td><td>0</td><td>0.020833334</td><td>0.9914449</td><td>0.13052619</td><td>0.14583333</td><td>0.6087614</td><td>0.7933533</td><td>0.16666667</td><td>0.5</td><td>0.8660254</td><td>1.1977714</td><td>false</td></tr>\n",
       "<tr><td>148</td><td>13.0</td><td>0.5</td><td>2.86</td><td>13.367</td><td>2016-03-01</td><td>00:07:16</td><td>2016</td><td>03</td><td>01</td><td>44.96</td><td>0</td><td>0.020833334</td><td>0.9914449</td><td>0.13052619</td><td>0.14583333</td><td>0.6087614</td><td>0.7933533</td><td>0.16666667</td><td>0.5</td><td>0.8660254</td><td>0.9987103</td><td>false</td></tr>\n",
       "<tr><td>148</td><td>22.0</td><td>0.5</td><td>4.65</td><td>20.933</td><td>2016-03-01</td><td>00:56:54</td><td>2016</td><td>03</td><td>01</td><td>44.96</td><td>0</td><td>0.020833334</td><td>0.9914449</td><td>0.13052619</td><td>0.14583333</td><td>0.6087614</td><td>0.7933533</td><td>0.16666667</td><td>0.5</td><td>0.8660254</td><td>1.0583481</td><td>false</td></tr>\n",
       "<tr><td>161</td><td>6.0</td><td>0.5</td><td>1.45</td><td>5.233</td><td>2016-03-01</td><td>00:33:42</td><td>2016</td><td>03</td><td>01</td><td>44.96</td><td>0</td><td>0.020833334</td><td>0.9914449</td><td>0.13052619</td><td>0.14583333</td><td>0.6087614</td><td>0.7933533</td><td>0.16666667</td><td>0.5</td><td>0.8660254</td><td>1.2396713</td><td>false</td></tr>\n",
       "<tr><td>75</td><td>8.5</td><td>0.5</td><td>2.45</td><td>7.667</td><td>2016-03-01</td><td>00:28:16</td><td>2016</td><td>03</td><td>01</td><td>44.96</td><td>0</td><td>0.020833334</td><td>0.9914449</td><td>0.13052619</td><td>0.14583333</td><td>0.6087614</td><td>0.7933533</td><td>0.16666667</td><td>0.5</td><td>0.8660254</td><td>1.2186253</td><td>false</td></tr>\n",
       "<tr><td>163</td><td>9.0</td><td>0.5</td><td>2.55</td><td>9.6</td><td>2016-03-01</td><td>00:30:09</td><td>2016</td><td>03</td><td>01</td><td>44.96</td><td>0</td><td>0.020833334</td><td>0.9914449</td><td>0.13052619</td><td>0.14583333</td><td>0.6087614</td><td>0.7933533</td><td>0.16666667</td><td>0.5</td><td>0.8660254</td><td>1.02425</td><td>false</td></tr>\n",
       "</table>\n",
       "only showing top 20 rows\n"
      ],
      "text/plain": [
       "+------------+-----------+-----+----------+------------------+----------+--------+----+-----+---+-------------------+------+-----------+---------+----------+----------+---------+---------+-----------+---------+---------+----------+-------+\n",
       "|PULocationID|fare_amount|extra|tip_amount|duration (minutes)|      date|    time|year|month|day|average_temperature|precip| time_float| cos_time|  sin_time|date_float| cos_date| sin_date|month_float|cos_month|sin_month|trip_value|holiday|\n",
       "+------------+-----------+-----+----------+------------------+----------+--------+----+-----+---+-------------------+------+-----------+---------+----------+----------+---------+---------+-----------+---------+---------+----------+-------+\n",
       "|          43|        6.5|  0.5|       0.0|             4.333|2016-03-01|00:06:22|2016|   03| 01|              44.96|     0|0.020833334|0.9914449|0.13052619|0.14583333|0.6087614|0.7933533| 0.16666667|      0.5|0.8660254| 1.3182553|  false|\n",
       "|         237|        8.5|  0.5|      1.96|             5.617|2016-03-01|00:23:21|2016|   03| 01|              44.96|     0|0.020833334|0.9914449|0.13052619|0.14583333|0.6087614|0.7933533| 0.16666667|      0.5|0.8660254| 1.5921952|  false|\n",
       "|         236|        8.0|  0.5|      1.86|             6.867|2016-03-01|00:37:19|2016|   03| 01|              44.96|     0|0.020833334|0.9914449|0.13052619|0.14583333|0.6087614|0.7933533| 0.16666667|      0.5|0.8660254| 1.2310703|  false|\n",
       "|          95|       13.0|  0.5|       2.5|             11.35|2016-03-01|00:34:53|2016|   03| 01|              44.96|     0|0.020833334|0.9914449|0.13052619|0.14583333|0.6087614|0.7933533| 0.16666667|      0.5|0.8660254| 1.1503084|  false|\n",
       "|         170|       20.5|  0.5|      4.35|              22.7|2016-03-01|00:30:27|2016|   03| 01|              44.96|     0|0.020833334|0.9914449|0.13052619|0.14583333|0.6087614|0.7933533| 0.16666667|      0.5|0.8660254| 0.9112599|  false|\n",
       "|         163|        9.0|  0.5|      3.09|             8.983|2016-03-01|00:09:43|2016|   03| 01|              44.96|     0|0.020833334|0.9914449|0.13052619|0.14583333|0.6087614|0.7933533| 0.16666667|      0.5|0.8660254| 1.1436535|  false|\n",
       "|         163|        7.0|  0.5|      1.66|              8.05|2016-03-01|00:32:15|2016|   03| 01|              44.96|     0|0.020833334|0.9914449|0.13052619|0.14583333|0.6087614|0.7933533| 0.16666667|      0.5|0.8660254|0.92851675|  false|\n",
       "|         142|       29.0|  0.5|      6.05|             26.85|2016-03-01|00:02:37|2016|   03| 01|              44.96|     0|0.020833334|0.9914449|0.13052619|0.14583333|0.6087614|0.7933533| 0.16666667|      0.5|0.8660254| 1.0804023|  false|\n",
       "|         239|        8.0|  0.5|      1.85|               6.9|2016-03-01|00:50:58|2016|   03| 01|              44.96|     0|0.020833334|0.9914449|0.13052619|0.14583333|0.6087614|0.7933533| 0.16666667|      0.5|0.8660254|     1.224|  false|\n",
       "|         164|        8.0|  0.5|      1.85|             8.617|2016-03-01|00:06:17|2016|   03| 01|              44.96|     0|0.020833334|0.9914449|0.13052619|0.14583333|0.6087614|0.7933533| 0.16666667|      0.5|0.8660254| 0.9801091|  false|\n",
       "|         161|        6.5|  0.5|      1.55|               6.7|2016-03-01|00:34:15|2016|   03| 01|              44.96|     0|0.020833334|0.9914449|0.13052619|0.14583333|0.6087614|0.7933533| 0.16666667|      0.5|0.8660254| 1.0413134|  false|\n",
       "|         132|       40.0|  0.5|      8.26|             19.25|2016-03-01|00:29:22|2016|   03| 01|              44.96|     0|0.020833334|0.9914449|0.13052619|0.14583333|0.6087614|0.7933533| 0.16666667|      0.5|0.8660254| 2.0669174|  false|\n",
       "|         162|       10.0|  0.5|       2.8|             8.883|2016-03-01|00:24:58|2016|   03| 01|              44.96|     0|0.020833334|0.9914449|0.13052619|0.14583333|0.6087614|0.7933533| 0.16666667|      0.5|0.8660254| 1.2217494|  false|\n",
       "|         144|        8.5|  0.5|      2.45|             9.517|2016-03-01|00:13:13|2016|   03| 01|              44.96|     0|0.020833334|0.9914449|0.13052619|0.14583333|0.6087614|0.7933533| 0.16666667|      0.5|0.8660254|  0.981738|  false|\n",
       "|         148|       16.5|  0.5|      3.55|              14.0|2016-03-01|00:30:32|2016|   03| 01|              44.96|     0|0.020833334|0.9914449|0.13052619|0.14583333|0.6087614|0.7933533| 0.16666667|      0.5|0.8660254| 1.1977714|  false|\n",
       "|         148|       13.0|  0.5|      2.86|            13.367|2016-03-01|00:07:16|2016|   03| 01|              44.96|     0|0.020833334|0.9914449|0.13052619|0.14583333|0.6087614|0.7933533| 0.16666667|      0.5|0.8660254| 0.9987103|  false|\n",
       "|         148|       22.0|  0.5|      4.65|            20.933|2016-03-01|00:56:54|2016|   03| 01|              44.96|     0|0.020833334|0.9914449|0.13052619|0.14583333|0.6087614|0.7933533| 0.16666667|      0.5|0.8660254| 1.0583481|  false|\n",
       "|         161|        6.0|  0.5|      1.45|             5.233|2016-03-01|00:33:42|2016|   03| 01|              44.96|     0|0.020833334|0.9914449|0.13052619|0.14583333|0.6087614|0.7933533| 0.16666667|      0.5|0.8660254| 1.2396713|  false|\n",
       "|          75|        8.5|  0.5|      2.45|             7.667|2016-03-01|00:28:16|2016|   03| 01|              44.96|     0|0.020833334|0.9914449|0.13052619|0.14583333|0.6087614|0.7933533| 0.16666667|      0.5|0.8660254| 1.2186253|  false|\n",
       "|         163|        9.0|  0.5|      2.55|               9.6|2016-03-01|00:30:09|2016|   03| 01|              44.96|     0|0.020833334|0.9914449|0.13052619|0.14583333|0.6087614|0.7933533| 0.16666667|      0.5|0.8660254|   1.02425|  false|\n",
       "+------------+-----------+-----+----------+------------------+----------+--------+----+-----+---+-------------------+------+-----------+---------+----------+----------+---------+---------+-----------+---------+---------+----------+-------+\n",
       "only showing top 20 rows"
      ]
     },
     "execution_count": 25,
     "metadata": {},
     "output_type": "execute_result"
    }
   ],
   "source": [
    "feature_eng_sdf"
   ]
  },
  {
   "cell_type": "code",
   "execution_count": 26,
   "metadata": {},
   "outputs": [
    {
     "name": "stderr",
     "output_type": "stream",
     "text": [
      "                                                                                \r"
     ]
    }
   ],
   "source": [
    "feature_eng_sdf.write.mode('overwrite').parquet('../data/curated/feature_engineered')"
   ]
  }
 ],
 "metadata": {
  "kernelspec": {
   "display_name": "Python 3.9.7 ('base')",
   "language": "python",
   "name": "python3"
  },
  "language_info": {
   "codemirror_mode": {
    "name": "ipython",
    "version": 3
   },
   "file_extension": ".py",
   "mimetype": "text/x-python",
   "name": "python",
   "nbconvert_exporter": "python",
   "pygments_lexer": "ipython3",
   "version": "3.9.7"
  },
  "orig_nbformat": 4,
  "vscode": {
   "interpreter": {
    "hash": "40d3a090f54c6569ab1632332b64b2c03c39dcf918b08424e98f38b5ae0af88f"
   }
  }
 },
 "nbformat": 4,
 "nbformat_minor": 2
}
