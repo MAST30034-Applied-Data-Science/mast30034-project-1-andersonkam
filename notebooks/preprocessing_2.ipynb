{
 "cells": [
  {
   "cell_type": "markdown",
   "metadata": {},
   "source": [
    "# Pyspark setup"
   ]
  },
  {
   "cell_type": "code",
   "execution_count": 9,
   "metadata": {},
   "outputs": [],
   "source": [
    "from pyspark.sql import SparkSession\n",
    "from pyspark.sql import functions as F"
   ]
  },
  {
   "cell_type": "code",
   "execution_count": 2,
   "metadata": {},
   "outputs": [
    {
     "name": "stderr",
     "output_type": "stream",
     "text": [
      "Setting default log level to \"WARN\".\n",
      "To adjust logging level use sc.setLogLevel(newLevel). For SparkR, use setLogLevel(newLevel).\n"
     ]
    },
    {
     "name": "stdout",
     "output_type": "stream",
     "text": [
      "22/08/16 16:22:01 WARN NativeCodeLoader: Unable to load native-hadoop library for your platform... using builtin-java classes where applicable\n",
      "22/08/16 16:22:02 WARN Utils: Service 'SparkUI' could not bind on port 4040. Attempting port 4041.\n"
     ]
    }
   ],
   "source": [
    "spark = (\n",
    "    SparkSession.builder.appName(\"preprocessing of taxi data\")\n",
    "    .config(\"spark.sql.repl.eagerEval.enabled\", True) \n",
    "    .config(\"spark.sql.parquet.cacheMetadata\", \"true\")\n",
    "    .config(\"spark.sql.session.timeZone\", \"Etc/UTC\")\n",
    "    .config(\"spark.driver.memory\", \"15g\")\n",
    "    .getOrCreate()\n",
    ")"
   ]
  },
  {
   "cell_type": "code",
   "execution_count": 3,
   "metadata": {},
   "outputs": [
    {
     "name": "stderr",
     "output_type": "stream",
     "text": [
      "                                                                                \r"
     ]
    },
    {
     "name": "stdout",
     "output_type": "stream",
     "text": [
      "root\n",
      " |-- name: string (nullable = true)\n",
      " |-- datetime: string (nullable = true)\n",
      " |-- tempmax: string (nullable = true)\n",
      " |-- tempmin: string (nullable = true)\n",
      " |-- temp: string (nullable = true)\n",
      " |-- feelslikemax: string (nullable = true)\n",
      " |-- feelslikemin: string (nullable = true)\n",
      " |-- feelslike: string (nullable = true)\n",
      " |-- dew: string (nullable = true)\n",
      " |-- humidity: string (nullable = true)\n",
      " |-- precip: string (nullable = true)\n",
      " |-- precipprob: string (nullable = true)\n",
      " |-- precipcover: string (nullable = true)\n",
      " |-- preciptype: string (nullable = true)\n",
      " |-- snow: string (nullable = true)\n",
      " |-- snowdepth: string (nullable = true)\n",
      " |-- windgust: string (nullable = true)\n",
      " |-- windspeed: string (nullable = true)\n",
      " |-- winddir: string (nullable = true)\n",
      " |-- sealevelpressure: string (nullable = true)\n",
      " |-- cloudcover: string (nullable = true)\n",
      " |-- visibility: string (nullable = true)\n",
      " |-- solarradiation: string (nullable = true)\n",
      " |-- solarenergy: string (nullable = true)\n",
      " |-- uvindex: string (nullable = true)\n",
      " |-- severerisk: string (nullable = true)\n",
      " |-- sunrise: string (nullable = true)\n",
      " |-- sunset: string (nullable = true)\n",
      " |-- moonphase: string (nullable = true)\n",
      " |-- conditions: string (nullable = true)\n",
      " |-- description: string (nullable = true)\n",
      " |-- icon: string (nullable = true)\n",
      " |-- stations: string (nullable = true)\n",
      "\n"
     ]
    }
   ],
   "source": [
    "weather_sdf = spark.read.option(\"header\",True).csv(\"../data/new york 2016-01-01 to 2017.csv\")\n",
    "weather_sdf.printSchema()"
   ]
  },
  {
   "cell_type": "markdown",
   "metadata": {},
   "source": [
    "# Select columns of interest for feature engineering "
   ]
  },
  {
   "cell_type": "code",
   "execution_count": 4,
   "metadata": {},
   "outputs": [
    {
     "data": {
      "text/html": [
       "<table border='1'>\n",
       "<tr><th>datetime</th><th>tempmax</th><th>tempmin</th><th>temp</th><th>precip</th></tr>\n",
       "<tr><td>2016-01-01</td><td>5.8</td><td>1.7</td><td>4.1</td><td>0</td></tr>\n",
       "<tr><td>2016-01-02</td><td>4.4</td><td>0.7</td><td>2.2</td><td>0</td></tr>\n",
       "<tr><td>2016-01-03</td><td>7.2</td><td>1.6</td><td>3.9</td><td>0</td></tr>\n",
       "<tr><td>2016-01-04</td><td>2.4</td><td>-9.2</td><td>-2.3</td><td>0</td></tr>\n",
       "<tr><td>2016-01-05</td><td>-1.8</td><td>-11.3</td><td>-6.3</td><td>0</td></tr>\n",
       "<tr><td>2016-01-06</td><td>4.6</td><td>-4</td><td>0.2</td><td>0</td></tr>\n",
       "<tr><td>2016-01-07</td><td>8</td><td>-0.4</td><td>3.8</td><td>0</td></tr>\n",
       "<tr><td>2016-01-08</td><td>7</td><td>1.6</td><td>4.6</td><td>0</td></tr>\n",
       "<tr><td>2016-01-09</td><td>8.4</td><td>4.6</td><td>6.6</td><td>0.05</td></tr>\n",
       "<tr><td>2016-01-10</td><td>14.9</td><td>5.1</td><td>10.6</td><td>40.9</td></tr>\n",
       "<tr><td>2016-01-11</td><td>5</td><td>-2.6</td><td>0.4</td><td>0.31</td></tr>\n",
       "<tr><td>2016-01-12</td><td>6.7</td><td>-3.8</td><td>0.7</td><td>0</td></tr>\n",
       "<tr><td>2016-01-13</td><td>-1.1</td><td>-5.4</td><td>-3.5</td><td>0</td></tr>\n",
       "<tr><td>2016-01-14</td><td>3.5</td><td>-5.3</td><td>-0.8</td><td>0</td></tr>\n",
       "<tr><td>2016-01-15</td><td>10.3</td><td>1.4</td><td>5.8</td><td>0.07</td></tr>\n",
       "<tr><td>2016-01-16</td><td>10.7</td><td>5.7</td><td>7.6</td><td>6.33</td></tr>\n",
       "<tr><td>2016-01-17</td><td>5.9</td><td>-1</td><td>1.7</td><td>1.36</td></tr>\n",
       "<tr><td>2016-01-18</td><td>-0.4</td><td>-7.1</td><td>-3.6</td><td>0.06</td></tr>\n",
       "<tr><td>2016-01-19</td><td>-1.8</td><td>-8.5</td><td>-5</td><td>0</td></tr>\n",
       "<tr><td>2016-01-20</td><td>2.6</td><td>-2.4</td><td>0.1</td><td>0</td></tr>\n",
       "</table>\n",
       "only showing top 20 rows\n"
      ],
      "text/plain": [
       "+----------+-------+-------+----+------+\n",
       "|  datetime|tempmax|tempmin|temp|precip|\n",
       "+----------+-------+-------+----+------+\n",
       "|2016-01-01|    5.8|    1.7| 4.1|     0|\n",
       "|2016-01-02|    4.4|    0.7| 2.2|     0|\n",
       "|2016-01-03|    7.2|    1.6| 3.9|     0|\n",
       "|2016-01-04|    2.4|   -9.2|-2.3|     0|\n",
       "|2016-01-05|   -1.8|  -11.3|-6.3|     0|\n",
       "|2016-01-06|    4.6|     -4| 0.2|     0|\n",
       "|2016-01-07|      8|   -0.4| 3.8|     0|\n",
       "|2016-01-08|      7|    1.6| 4.6|     0|\n",
       "|2016-01-09|    8.4|    4.6| 6.6|  0.05|\n",
       "|2016-01-10|   14.9|    5.1|10.6|  40.9|\n",
       "|2016-01-11|      5|   -2.6| 0.4|  0.31|\n",
       "|2016-01-12|    6.7|   -3.8| 0.7|     0|\n",
       "|2016-01-13|   -1.1|   -5.4|-3.5|     0|\n",
       "|2016-01-14|    3.5|   -5.3|-0.8|     0|\n",
       "|2016-01-15|   10.3|    1.4| 5.8|  0.07|\n",
       "|2016-01-16|   10.7|    5.7| 7.6|  6.33|\n",
       "|2016-01-17|    5.9|     -1| 1.7|  1.36|\n",
       "|2016-01-18|   -0.4|   -7.1|-3.6|  0.06|\n",
       "|2016-01-19|   -1.8|   -8.5|  -5|     0|\n",
       "|2016-01-20|    2.6|   -2.4| 0.1|     0|\n",
       "+----------+-------+-------+----+------+\n",
       "only showing top 20 rows"
      ]
     },
     "execution_count": 4,
     "metadata": {},
     "output_type": "execute_result"
    }
   ],
   "source": [
    "weather_sdf = weather_sdf.select([\"datetime\", \"tempmax\", \"tempmin\", \"temp\", \"precip\"])\n",
    "weather_sdf"
   ]
  },
  {
   "cell_type": "markdown",
   "metadata": {},
   "source": [
    "# Check for any null values to decided whether imputation should be performed."
   ]
  },
  {
   "cell_type": "code",
   "execution_count": 5,
   "metadata": {},
   "outputs": [
    {
     "data": {
      "text/plain": [
       "{'datetime': 0, 'tempmax': 0, 'tempmin': 0, 'temp': 0, 'precip': 0}"
      ]
     },
     "execution_count": 5,
     "metadata": {},
     "output_type": "execute_result"
    }
   ],
   "source": [
    "Dict_Null = {col:weather_sdf.filter(weather_sdf[col].isNull()).count() for col in weather_sdf.columns}\n",
    "Dict_Null"
   ]
  },
  {
   "cell_type": "markdown",
   "metadata": {},
   "source": [
    "# Max temp and min temp is engineered to produce daily average temperature."
   ]
  },
  {
   "cell_type": "code",
   "execution_count": 6,
   "metadata": {},
   "outputs": [
    {
     "data": {
      "text/html": [
       "<table border='1'>\n",
       "<tr><th>datetime</th><th>tempmax</th><th>tempmin</th><th>temp</th><th>precip</th><th>average_temperature</th></tr>\n",
       "<tr><td>2016-01-01</td><td>5.8</td><td>1.7</td><td>4.1</td><td>0</td><td>3.75</td></tr>\n",
       "<tr><td>2016-01-02</td><td>4.4</td><td>0.7</td><td>2.2</td><td>0</td><td>2.55</td></tr>\n",
       "<tr><td>2016-01-03</td><td>7.2</td><td>1.6</td><td>3.9</td><td>0</td><td>4.4</td></tr>\n",
       "<tr><td>2016-01-04</td><td>2.4</td><td>-9.2</td><td>-2.3</td><td>0</td><td>-3.4</td></tr>\n",
       "<tr><td>2016-01-05</td><td>-1.8</td><td>-11.3</td><td>-6.3</td><td>0</td><td>-6.55</td></tr>\n",
       "<tr><td>2016-01-06</td><td>4.6</td><td>-4</td><td>0.2</td><td>0</td><td>0.3</td></tr>\n",
       "<tr><td>2016-01-07</td><td>8</td><td>-0.4</td><td>3.8</td><td>0</td><td>3.8</td></tr>\n",
       "<tr><td>2016-01-08</td><td>7</td><td>1.6</td><td>4.6</td><td>0</td><td>4.3</td></tr>\n",
       "<tr><td>2016-01-09</td><td>8.4</td><td>4.6</td><td>6.6</td><td>0.05</td><td>6.5</td></tr>\n",
       "<tr><td>2016-01-10</td><td>14.9</td><td>5.1</td><td>10.6</td><td>40.9</td><td>10.0</td></tr>\n",
       "<tr><td>2016-01-11</td><td>5</td><td>-2.6</td><td>0.4</td><td>0.31</td><td>1.2</td></tr>\n",
       "<tr><td>2016-01-12</td><td>6.7</td><td>-3.8</td><td>0.7</td><td>0</td><td>1.45</td></tr>\n",
       "<tr><td>2016-01-13</td><td>-1.1</td><td>-5.4</td><td>-3.5</td><td>0</td><td>-3.25</td></tr>\n",
       "<tr><td>2016-01-14</td><td>3.5</td><td>-5.3</td><td>-0.8</td><td>0</td><td>-0.9</td></tr>\n",
       "<tr><td>2016-01-15</td><td>10.3</td><td>1.4</td><td>5.8</td><td>0.07</td><td>5.85</td></tr>\n",
       "<tr><td>2016-01-16</td><td>10.7</td><td>5.7</td><td>7.6</td><td>6.33</td><td>8.2</td></tr>\n",
       "<tr><td>2016-01-17</td><td>5.9</td><td>-1</td><td>1.7</td><td>1.36</td><td>2.45</td></tr>\n",
       "<tr><td>2016-01-18</td><td>-0.4</td><td>-7.1</td><td>-3.6</td><td>0.06</td><td>-3.75</td></tr>\n",
       "<tr><td>2016-01-19</td><td>-1.8</td><td>-8.5</td><td>-5</td><td>0</td><td>-5.15</td></tr>\n",
       "<tr><td>2016-01-20</td><td>2.6</td><td>-2.4</td><td>0.1</td><td>0</td><td>0.1</td></tr>\n",
       "</table>\n",
       "only showing top 20 rows\n"
      ],
      "text/plain": [
       "+----------+-------+-------+----+------+-------------------+\n",
       "|  datetime|tempmax|tempmin|temp|precip|average_temperature|\n",
       "+----------+-------+-------+----+------+-------------------+\n",
       "|2016-01-01|    5.8|    1.7| 4.1|     0|               3.75|\n",
       "|2016-01-02|    4.4|    0.7| 2.2|     0|               2.55|\n",
       "|2016-01-03|    7.2|    1.6| 3.9|     0|                4.4|\n",
       "|2016-01-04|    2.4|   -9.2|-2.3|     0|               -3.4|\n",
       "|2016-01-05|   -1.8|  -11.3|-6.3|     0|              -6.55|\n",
       "|2016-01-06|    4.6|     -4| 0.2|     0|                0.3|\n",
       "|2016-01-07|      8|   -0.4| 3.8|     0|                3.8|\n",
       "|2016-01-08|      7|    1.6| 4.6|     0|                4.3|\n",
       "|2016-01-09|    8.4|    4.6| 6.6|  0.05|                6.5|\n",
       "|2016-01-10|   14.9|    5.1|10.6|  40.9|               10.0|\n",
       "|2016-01-11|      5|   -2.6| 0.4|  0.31|                1.2|\n",
       "|2016-01-12|    6.7|   -3.8| 0.7|     0|               1.45|\n",
       "|2016-01-13|   -1.1|   -5.4|-3.5|     0|              -3.25|\n",
       "|2016-01-14|    3.5|   -5.3|-0.8|     0|               -0.9|\n",
       "|2016-01-15|   10.3|    1.4| 5.8|  0.07|               5.85|\n",
       "|2016-01-16|   10.7|    5.7| 7.6|  6.33|                8.2|\n",
       "|2016-01-17|    5.9|     -1| 1.7|  1.36|               2.45|\n",
       "|2016-01-18|   -0.4|   -7.1|-3.6|  0.06|              -3.75|\n",
       "|2016-01-19|   -1.8|   -8.5|  -5|     0|              -5.15|\n",
       "|2016-01-20|    2.6|   -2.4| 0.1|     0|                0.1|\n",
       "+----------+-------+-------+----+------+-------------------+\n",
       "only showing top 20 rows"
      ]
     },
     "execution_count": 6,
     "metadata": {},
     "output_type": "execute_result"
    }
   ],
   "source": [
    "weather_sdf = weather_sdf.withColumn(\"average_temperature\", F.round(((F.col(\"tempmax\") + F.col(\"tempmin\")) / 2), 2))\n",
    "weather_sdf"
   ]
  },
  {
   "cell_type": "markdown",
   "metadata": {},
   "source": [
    "# Retain attributes of interest."
   ]
  },
  {
   "cell_type": "code",
   "execution_count": 7,
   "metadata": {},
   "outputs": [
    {
     "data": {
      "text/html": [
       "<table border='1'>\n",
       "<tr><th>datetime</th><th>average_temperature</th><th>precip</th></tr>\n",
       "<tr><td>2016-01-01</td><td>3.75</td><td>0</td></tr>\n",
       "<tr><td>2016-01-02</td><td>2.55</td><td>0</td></tr>\n",
       "<tr><td>2016-01-03</td><td>4.4</td><td>0</td></tr>\n",
       "<tr><td>2016-01-04</td><td>-3.4</td><td>0</td></tr>\n",
       "<tr><td>2016-01-05</td><td>-6.55</td><td>0</td></tr>\n",
       "<tr><td>2016-01-06</td><td>0.3</td><td>0</td></tr>\n",
       "<tr><td>2016-01-07</td><td>3.8</td><td>0</td></tr>\n",
       "<tr><td>2016-01-08</td><td>4.3</td><td>0</td></tr>\n",
       "<tr><td>2016-01-09</td><td>6.5</td><td>0.05</td></tr>\n",
       "<tr><td>2016-01-10</td><td>10.0</td><td>40.9</td></tr>\n",
       "<tr><td>2016-01-11</td><td>1.2</td><td>0.31</td></tr>\n",
       "<tr><td>2016-01-12</td><td>1.45</td><td>0</td></tr>\n",
       "<tr><td>2016-01-13</td><td>-3.25</td><td>0</td></tr>\n",
       "<tr><td>2016-01-14</td><td>-0.9</td><td>0</td></tr>\n",
       "<tr><td>2016-01-15</td><td>5.85</td><td>0.07</td></tr>\n",
       "<tr><td>2016-01-16</td><td>8.2</td><td>6.33</td></tr>\n",
       "<tr><td>2016-01-17</td><td>2.45</td><td>1.36</td></tr>\n",
       "<tr><td>2016-01-18</td><td>-3.75</td><td>0.06</td></tr>\n",
       "<tr><td>2016-01-19</td><td>-5.15</td><td>0</td></tr>\n",
       "<tr><td>2016-01-20</td><td>0.1</td><td>0</td></tr>\n",
       "</table>\n",
       "only showing top 20 rows\n"
      ],
      "text/plain": [
       "+----------+-------------------+------+\n",
       "|  datetime|average_temperature|precip|\n",
       "+----------+-------------------+------+\n",
       "|2016-01-01|               3.75|     0|\n",
       "|2016-01-02|               2.55|     0|\n",
       "|2016-01-03|                4.4|     0|\n",
       "|2016-01-04|               -3.4|     0|\n",
       "|2016-01-05|              -6.55|     0|\n",
       "|2016-01-06|                0.3|     0|\n",
       "|2016-01-07|                3.8|     0|\n",
       "|2016-01-08|                4.3|     0|\n",
       "|2016-01-09|                6.5|  0.05|\n",
       "|2016-01-10|               10.0|  40.9|\n",
       "|2016-01-11|                1.2|  0.31|\n",
       "|2016-01-12|               1.45|     0|\n",
       "|2016-01-13|              -3.25|     0|\n",
       "|2016-01-14|               -0.9|     0|\n",
       "|2016-01-15|               5.85|  0.07|\n",
       "|2016-01-16|                8.2|  6.33|\n",
       "|2016-01-17|               2.45|  1.36|\n",
       "|2016-01-18|              -3.75|  0.06|\n",
       "|2016-01-19|              -5.15|     0|\n",
       "|2016-01-20|                0.1|     0|\n",
       "+----------+-------------------+------+\n",
       "only showing top 20 rows"
      ]
     },
     "execution_count": 7,
     "metadata": {},
     "output_type": "execute_result"
    }
   ],
   "source": [
    "weather_sdf = weather_sdf.select([\"datetime\", \"average_temperature\", \"precip\"])\n",
    "weather_sdf"
   ]
  },
  {
   "cell_type": "code",
   "execution_count": 8,
   "metadata": {},
   "outputs": [
    {
     "name": "stderr",
     "output_type": "stream",
     "text": [
      "                                                                                \r"
     ]
    },
    {
     "name": "stdout",
     "output_type": "stream",
     "text": [
      "22/08/16 19:55:52 WARN HeartbeatReceiver: Removing executor driver with no recent heartbeats: 937873 ms exceeds timeout 120000 ms\n",
      "22/08/16 19:55:52 WARN SparkContext: Killing executors is not supported by current scheduler.\n"
     ]
    }
   ],
   "source": [
    "weather_sdf.write.mode('overwrite').parquet('../data/curated/preprocess_weather_result1')"
   ]
  }
 ],
 "metadata": {
  "kernelspec": {
   "display_name": "Python 3.9.7 ('base')",
   "language": "python",
   "name": "python3"
  },
  "language_info": {
   "codemirror_mode": {
    "name": "ipython",
    "version": 3
   },
   "file_extension": ".py",
   "mimetype": "text/x-python",
   "name": "python",
   "nbconvert_exporter": "python",
   "pygments_lexer": "ipython3",
   "version": "3.9.7"
  },
  "orig_nbformat": 4,
  "vscode": {
   "interpreter": {
    "hash": "40d3a090f54c6569ab1632332b64b2c03c39dcf918b08424e98f38b5ae0af88f"
   }
  }
 },
 "nbformat": 4,
 "nbformat_minor": 2
}
