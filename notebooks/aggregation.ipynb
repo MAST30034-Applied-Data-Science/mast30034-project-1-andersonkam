{
 "cells": [
  {
   "cell_type": "code",
   "execution_count": 78,
   "metadata": {},
   "outputs": [],
   "source": [
    "from pyspark.sql import SparkSession\n",
    "from pyspark.sql import functions as F"
   ]
  },
  {
   "cell_type": "code",
   "execution_count": 79,
   "metadata": {},
   "outputs": [],
   "source": [
    "spark = (\n",
    "    SparkSession.builder.appName(\"preprocessing of taxi data\")\n",
    "    .config(\"spark.sql.repl.eagerEval.enabled\", True) \n",
    "    .config(\"spark.sql.parquet.cacheMetadata\", \"true\")\n",
    "    .config(\"spark.sql.session.timeZone\", \"Etc/UTC\")\n",
    "    .config(\"spark.driver.memory\", \"15g\")\n",
    "    .getOrCreate()\n",
    ")"
   ]
  },
  {
   "cell_type": "code",
   "execution_count": 80,
   "metadata": {},
   "outputs": [],
   "source": [
    "aggregate_sdf = spark.read.parquet('../data/curated/analysed')"
   ]
  },
  {
   "cell_type": "code",
   "execution_count": 81,
   "metadata": {},
   "outputs": [
    {
     "data": {
      "text/html": [
       "<table border='1'>\n",
       "<tr><th>PULocationID</th><th>fare_amount</th><th>extra</th><th>tip_amount</th><th>duration (minutes)</th><th>date</th><th>time</th><th>year</th><th>month</th><th>day</th><th>average_temperature</th><th>precip</th><th>time_float</th><th>cos_time</th><th>sin_time</th><th>date_float</th><th>cos_date</th><th>sin_date</th><th>month_float</th><th>cos_month</th><th>sin_month</th><th>trip_value</th><th>holiday</th><th>high_value</th></tr>\n",
       "<tr><td>238</td><td>6.0</td><td>0.5</td><td>2.0</td><td>4.367</td><td>2016-04-01</td><td>00:41:18</td><td>2016</td><td>04</td><td>01</td><td>70.34</td><td>0.37</td><td>0.020833334</td><td>0.9914449</td><td>0.13052619</td><td>0.5744048</td><td>-0.8926982</td><td>-0.45065498</td><td>0.25</td><td>6.123234E-17</td><td>1.0</td><td>1.5882757</td><td>false</td><td>true</td></tr>\n",
       "<tr><td>166</td><td>17.0</td><td>0.5</td><td>3.65</td><td>19.2</td><td>2016-04-01</td><td>00:24:47</td><td>2016</td><td>04</td><td>01</td><td>70.34</td><td>0.37</td><td>0.020833334</td><td>0.9914449</td><td>0.13052619</td><td>0.5744048</td><td>-0.8926982</td><td>-0.45065498</td><td>0.25</td><td>6.123234E-17</td><td>1.0</td><td>0.898875</td><td>false</td><td>false</td></tr>\n",
       "<tr><td>164</td><td>5.5</td><td>0.5</td><td>1.35</td><td>4.133</td><td>2016-04-01</td><td>00:45:45</td><td>2016</td><td>04</td><td>01</td><td>70.34</td><td>0.37</td><td>0.020833334</td><td>0.9914449</td><td>0.13052619</td><td>0.5744048</td><td>-0.8926982</td><td>-0.45065498</td><td>0.25</td><td>6.123234E-17</td><td>1.0</td><td>1.4511493</td><td>false</td><td>true</td></tr>\n",
       "<tr><td>170</td><td>5.5</td><td>0.5</td><td>1.7</td><td>3.517</td><td>2016-04-01</td><td>00:19:40</td><td>2016</td><td>04</td><td>01</td><td>70.34</td><td>0.37</td><td>0.020833334</td><td>0.9914449</td><td>0.13052619</td><td>0.5744048</td><td>-0.8926982</td><td>-0.45065498</td><td>0.25</td><td>6.123234E-17</td><td>1.0</td><td>1.7865226</td><td>false</td><td>true</td></tr>\n",
       "<tr><td>158</td><td>10.0</td><td>0.5</td><td>2.8</td><td>12.733</td><td>2016-04-01</td><td>00:04:05</td><td>2016</td><td>04</td><td>01</td><td>70.34</td><td>0.37</td><td>0.020833334</td><td>0.9914449</td><td>0.13052619</td><td>0.5744048</td><td>-0.8926982</td><td>-0.45065498</td><td>0.25</td><td>6.123234E-17</td><td>1.0</td><td>0.85233647</td><td>false</td><td>false</td></tr>\n",
       "<tr><td>170</td><td>21.0</td><td>0.5</td><td>4.45</td><td>24.783</td><td>2016-04-01</td><td>00:30:36</td><td>2016</td><td>04</td><td>01</td><td>70.34</td><td>0.37</td><td>0.020833334</td><td>0.9914449</td><td>0.13052619</td><td>0.5744048</td><td>-0.8926982</td><td>-0.45065498</td><td>0.25</td><td>6.123234E-17</td><td>1.0</td><td>0.8544244</td><td>false</td><td>false</td></tr>\n",
       "<tr><td>246</td><td>5.5</td><td>0.5</td><td>1.35</td><td>5.817</td><td>2016-04-01</td><td>00:42:39</td><td>2016</td><td>04</td><td>01</td><td>70.34</td><td>0.37</td><td>0.020833334</td><td>0.9914449</td><td>0.13052619</td><td>0.5744048</td><td>-0.8926982</td><td>-0.45065498</td><td>0.25</td><td>6.123234E-17</td><td>1.0</td><td>1.031047</td><td>false</td><td>false</td></tr>\n",
       "<tr><td>164</td><td>7.0</td><td>0.5</td><td>1.65</td><td>6.433</td><td>2016-04-01</td><td>00:53:36</td><td>2016</td><td>04</td><td>01</td><td>70.34</td><td>0.37</td><td>0.020833334</td><td>0.9914449</td><td>0.13052619</td><td>0.5744048</td><td>-0.8926982</td><td>-0.45065498</td><td>0.25</td><td>6.123234E-17</td><td>1.0</td><td>1.1606405</td><td>false</td><td>true</td></tr>\n",
       "<tr><td>161</td><td>4.5</td><td>0.5</td><td>1.2</td><td>3.7</td><td>2016-04-01</td><td>00:50:50</td><td>2016</td><td>04</td><td>01</td><td>70.34</td><td>0.37</td><td>0.020833334</td><td>0.9914449</td><td>0.13052619</td><td>0.5744048</td><td>-0.8926982</td><td>-0.45065498</td><td>0.25</td><td>6.123234E-17</td><td>1.0</td><td>1.3673513</td><td>false</td><td>true</td></tr>\n",
       "<tr><td>48</td><td>22.5</td><td>0.5</td><td>4.75</td><td>33.267</td><td>2016-04-01</td><td>00:13:26</td><td>2016</td><td>04</td><td>01</td><td>70.34</td><td>0.37</td><td>0.020833334</td><td>0.9914449</td><td>0.13052619</td><td>0.5744048</td><td>-0.8926982</td><td>-0.45065498</td><td>0.25</td><td>6.123234E-17</td><td>1.0</td><td>0.68067455</td><td>false</td><td>false</td></tr>\n",
       "<tr><td>100</td><td>3.0</td><td>0.5</td><td>1.0</td><td>1.333</td><td>2016-04-01</td><td>00:11:28</td><td>2016</td><td>04</td><td>01</td><td>70.34</td><td>0.37</td><td>0.020833334</td><td>0.9914449</td><td>0.13052619</td><td>0.5744048</td><td>-0.8926982</td><td>-0.45065498</td><td>0.25</td><td>6.123234E-17</td><td>1.0</td><td>2.7546887</td><td>false</td><td>true</td></tr>\n",
       "<tr><td>114</td><td>10.0</td><td>0.5</td><td>2.25</td><td>8.9</td><td>2016-04-01</td><td>00:32:53</td><td>2016</td><td>04</td><td>01</td><td>70.34</td><td>0.37</td><td>0.020833334</td><td>0.9914449</td><td>0.13052619</td><td>0.5744048</td><td>-0.8926982</td><td>-0.45065498</td><td>0.25</td><td>6.123234E-17</td><td>1.0</td><td>1.1689887</td><td>false</td><td>true</td></tr>\n",
       "<tr><td>211</td><td>23.5</td><td>0.5</td><td>4.95</td><td>35.867</td><td>2016-04-01</td><td>00:20:53</td><td>2016</td><td>04</td><td>01</td><td>70.34</td><td>0.37</td><td>0.020833334</td><td>0.9914449</td><td>0.13052619</td><td>0.5744048</td><td>-0.8926982</td><td>-0.45065498</td><td>0.25</td><td>6.123234E-17</td><td>1.0</td><td>0.6586333</td><td>false</td><td>false</td></tr>\n",
       "<tr><td>162</td><td>19.5</td><td>0.5</td><td>3.12</td><td>15.083</td><td>2016-04-01</td><td>00:22:02</td><td>2016</td><td>04</td><td>01</td><td>70.34</td><td>0.37</td><td>0.020833334</td><td>0.9914449</td><td>0.13052619</td><td>0.5744048</td><td>-0.8926982</td><td>-0.45065498</td><td>0.25</td><td>6.123234E-17</td><td>1.0</td><td>1.2508069</td><td>false</td><td>true</td></tr>\n",
       "<tr><td>79</td><td>5.5</td><td>0.5</td><td>1.36</td><td>4.867</td><td>2016-04-01</td><td>00:01:14</td><td>2016</td><td>04</td><td>01</td><td>70.34</td><td>0.37</td><td>0.020833334</td><td>0.9914449</td><td>0.13052619</td><td>0.5744048</td><td>-0.8926982</td><td>-0.45065498</td><td>0.25</td><td>6.123234E-17</td><td>1.0</td><td>1.2339758</td><td>false</td><td>true</td></tr>\n",
       "<tr><td>249</td><td>8.0</td><td>0.5</td><td>1.0</td><td>9.05</td><td>2016-04-01</td><td>00:30:38</td><td>2016</td><td>04</td><td>01</td><td>70.34</td><td>0.37</td><td>0.020833334</td><td>0.9914449</td><td>0.13052619</td><td>0.5744048</td><td>-0.8926982</td><td>-0.45065498</td><td>0.25</td><td>6.123234E-17</td><td>1.0</td><td>0.8565746</td><td>false</td><td>false</td></tr>\n",
       "<tr><td>249</td><td>5.5</td><td>0.5</td><td>1.0</td><td>6.1</td><td>2016-04-01</td><td>00:28:02</td><td>2016</td><td>04</td><td>01</td><td>70.34</td><td>0.37</td><td>0.020833334</td><td>0.9914449</td><td>0.13052619</td><td>0.5744048</td><td>-0.8926982</td><td>-0.45065498</td><td>0.25</td><td>6.123234E-17</td><td>1.0</td><td>0.93639344</td><td>false</td><td>false</td></tr>\n",
       "<tr><td>231</td><td>17.0</td><td>0.5</td><td>1.8</td><td>18.633</td><td>2016-04-01</td><td>00:54:11</td><td>2016</td><td>04</td><td>01</td><td>70.34</td><td>0.37</td><td>0.020833334</td><td>0.9914449</td><td>0.13052619</td><td>0.5744048</td><td>-0.8926982</td><td>-0.45065498</td><td>0.25</td><td>6.123234E-17</td><td>1.0</td><td>0.84521013</td><td>false</td><td>false</td></tr>\n",
       "<tr><td>48</td><td>6.5</td><td>0.5</td><td>1.55</td><td>6.033</td><td>2016-04-01</td><td>00:40:11</td><td>2016</td><td>04</td><td>01</td><td>70.34</td><td>0.37</td><td>0.020833334</td><td>0.9914449</td><td>0.13052619</td><td>0.5744048</td><td>-0.8926982</td><td>-0.45065498</td><td>0.25</td><td>6.123234E-17</td><td>1.0</td><td>1.1564395</td><td>false</td><td>true</td></tr>\n",
       "<tr><td>50</td><td>24.5</td><td>0.5</td><td>5.15</td><td>26.833</td><td>2016-04-01</td><td>00:56:28</td><td>2016</td><td>04</td><td>01</td><td>70.34</td><td>0.37</td><td>0.020833334</td><td>0.9914449</td><td>0.13052619</td><td>0.5744048</td><td>-0.8926982</td><td>-0.45065498</td><td>0.25</td><td>6.123234E-17</td><td>1.0</td><td>0.916871</td><td>false</td><td>false</td></tr>\n",
       "</table>\n",
       "only showing top 20 rows\n"
      ],
      "text/plain": [
       "+------------+-----------+-----+----------+------------------+----------+--------+----+-----+---+-------------------+------+-----------+---------+----------+----------+----------+-----------+-----------+------------+---------+----------+-------+----------+\n",
       "|PULocationID|fare_amount|extra|tip_amount|duration (minutes)|      date|    time|year|month|day|average_temperature|precip| time_float| cos_time|  sin_time|date_float|  cos_date|   sin_date|month_float|   cos_month|sin_month|trip_value|holiday|high_value|\n",
       "+------------+-----------+-----+----------+------------------+----------+--------+----+-----+---+-------------------+------+-----------+---------+----------+----------+----------+-----------+-----------+------------+---------+----------+-------+----------+\n",
       "|         238|        6.0|  0.5|       2.0|             4.367|2016-04-01|00:41:18|2016|   04| 01|              70.34|  0.37|0.020833334|0.9914449|0.13052619| 0.5744048|-0.8926982|-0.45065498|       0.25|6.123234E-17|      1.0| 1.5882757|  false|      true|\n",
       "|         166|       17.0|  0.5|      3.65|              19.2|2016-04-01|00:24:47|2016|   04| 01|              70.34|  0.37|0.020833334|0.9914449|0.13052619| 0.5744048|-0.8926982|-0.45065498|       0.25|6.123234E-17|      1.0|  0.898875|  false|     false|\n",
       "|         164|        5.5|  0.5|      1.35|             4.133|2016-04-01|00:45:45|2016|   04| 01|              70.34|  0.37|0.020833334|0.9914449|0.13052619| 0.5744048|-0.8926982|-0.45065498|       0.25|6.123234E-17|      1.0| 1.4511493|  false|      true|\n",
       "|         170|        5.5|  0.5|       1.7|             3.517|2016-04-01|00:19:40|2016|   04| 01|              70.34|  0.37|0.020833334|0.9914449|0.13052619| 0.5744048|-0.8926982|-0.45065498|       0.25|6.123234E-17|      1.0| 1.7865226|  false|      true|\n",
       "|         158|       10.0|  0.5|       2.8|            12.733|2016-04-01|00:04:05|2016|   04| 01|              70.34|  0.37|0.020833334|0.9914449|0.13052619| 0.5744048|-0.8926982|-0.45065498|       0.25|6.123234E-17|      1.0|0.85233647|  false|     false|\n",
       "|         170|       21.0|  0.5|      4.45|            24.783|2016-04-01|00:30:36|2016|   04| 01|              70.34|  0.37|0.020833334|0.9914449|0.13052619| 0.5744048|-0.8926982|-0.45065498|       0.25|6.123234E-17|      1.0| 0.8544244|  false|     false|\n",
       "|         246|        5.5|  0.5|      1.35|             5.817|2016-04-01|00:42:39|2016|   04| 01|              70.34|  0.37|0.020833334|0.9914449|0.13052619| 0.5744048|-0.8926982|-0.45065498|       0.25|6.123234E-17|      1.0|  1.031047|  false|     false|\n",
       "|         164|        7.0|  0.5|      1.65|             6.433|2016-04-01|00:53:36|2016|   04| 01|              70.34|  0.37|0.020833334|0.9914449|0.13052619| 0.5744048|-0.8926982|-0.45065498|       0.25|6.123234E-17|      1.0| 1.1606405|  false|      true|\n",
       "|         161|        4.5|  0.5|       1.2|               3.7|2016-04-01|00:50:50|2016|   04| 01|              70.34|  0.37|0.020833334|0.9914449|0.13052619| 0.5744048|-0.8926982|-0.45065498|       0.25|6.123234E-17|      1.0| 1.3673513|  false|      true|\n",
       "|          48|       22.5|  0.5|      4.75|            33.267|2016-04-01|00:13:26|2016|   04| 01|              70.34|  0.37|0.020833334|0.9914449|0.13052619| 0.5744048|-0.8926982|-0.45065498|       0.25|6.123234E-17|      1.0|0.68067455|  false|     false|\n",
       "|         100|        3.0|  0.5|       1.0|             1.333|2016-04-01|00:11:28|2016|   04| 01|              70.34|  0.37|0.020833334|0.9914449|0.13052619| 0.5744048|-0.8926982|-0.45065498|       0.25|6.123234E-17|      1.0| 2.7546887|  false|      true|\n",
       "|         114|       10.0|  0.5|      2.25|               8.9|2016-04-01|00:32:53|2016|   04| 01|              70.34|  0.37|0.020833334|0.9914449|0.13052619| 0.5744048|-0.8926982|-0.45065498|       0.25|6.123234E-17|      1.0| 1.1689887|  false|      true|\n",
       "|         211|       23.5|  0.5|      4.95|            35.867|2016-04-01|00:20:53|2016|   04| 01|              70.34|  0.37|0.020833334|0.9914449|0.13052619| 0.5744048|-0.8926982|-0.45065498|       0.25|6.123234E-17|      1.0| 0.6586333|  false|     false|\n",
       "|         162|       19.5|  0.5|      3.12|            15.083|2016-04-01|00:22:02|2016|   04| 01|              70.34|  0.37|0.020833334|0.9914449|0.13052619| 0.5744048|-0.8926982|-0.45065498|       0.25|6.123234E-17|      1.0| 1.2508069|  false|      true|\n",
       "|          79|        5.5|  0.5|      1.36|             4.867|2016-04-01|00:01:14|2016|   04| 01|              70.34|  0.37|0.020833334|0.9914449|0.13052619| 0.5744048|-0.8926982|-0.45065498|       0.25|6.123234E-17|      1.0| 1.2339758|  false|      true|\n",
       "|         249|        8.0|  0.5|       1.0|              9.05|2016-04-01|00:30:38|2016|   04| 01|              70.34|  0.37|0.020833334|0.9914449|0.13052619| 0.5744048|-0.8926982|-0.45065498|       0.25|6.123234E-17|      1.0| 0.8565746|  false|     false|\n",
       "|         249|        5.5|  0.5|       1.0|               6.1|2016-04-01|00:28:02|2016|   04| 01|              70.34|  0.37|0.020833334|0.9914449|0.13052619| 0.5744048|-0.8926982|-0.45065498|       0.25|6.123234E-17|      1.0|0.93639344|  false|     false|\n",
       "|         231|       17.0|  0.5|       1.8|            18.633|2016-04-01|00:54:11|2016|   04| 01|              70.34|  0.37|0.020833334|0.9914449|0.13052619| 0.5744048|-0.8926982|-0.45065498|       0.25|6.123234E-17|      1.0|0.84521013|  false|     false|\n",
       "|          48|        6.5|  0.5|      1.55|             6.033|2016-04-01|00:40:11|2016|   04| 01|              70.34|  0.37|0.020833334|0.9914449|0.13052619| 0.5744048|-0.8926982|-0.45065498|       0.25|6.123234E-17|      1.0| 1.1564395|  false|      true|\n",
       "|          50|       24.5|  0.5|      5.15|            26.833|2016-04-01|00:56:28|2016|   04| 01|              70.34|  0.37|0.020833334|0.9914449|0.13052619| 0.5744048|-0.8926982|-0.45065498|       0.25|6.123234E-17|      1.0|  0.916871|  false|     false|\n",
       "+------------+-----------+-----+----------+------------------+----------+--------+----+-----+---+-------------------+------+-----------+---------+----------+----------+----------+-----------+-----------+------------+---------+----------+-------+----------+\n",
       "only showing top 20 rows"
      ]
     },
     "execution_count": 81,
     "metadata": {},
     "output_type": "execute_result"
    }
   ],
   "source": [
    "aggregate_sdf"
   ]
  },
  {
   "cell_type": "code",
   "execution_count": 82,
   "metadata": {},
   "outputs": [],
   "source": [
    "cnt_cond = lambda cond: F.sum(F.when(cond, 1).otherwise(0))\n",
    "aggregate_sdf = aggregate_sdf.groupBy(\"PULocationID\", \"date\", \"time_float\") \\\n",
    "                             .agg(F.first(\"average_temperature\") ,\n",
    "                                  F.first(\"time\"),\n",
    "                                  F.first(\"precip\"),\n",
    "                                  F.first(\"cos_time\"),\n",
    "                                  F.first(\"sin_time\"),\n",
    "                                  F.first(\"date_float\"),\n",
    "                                  F.first(\"cos_date\"),\n",
    "                                  F.first(\"sin_date\"),\n",
    "                                  F.first(\"month_float\"),\n",
    "                                  F.first(\"cos_month\"),\n",
    "                                  F.first(\"sin_month\"),\n",
    "                                  F.first(\"trip_value\"),\n",
    "                                  F.first(\"holiday\"),\n",
    "                                  cnt_cond(F.col('high_value') == True)\n",
    "                                 )"
   ]
  },
  {
   "cell_type": "code",
   "execution_count": 83,
   "metadata": {},
   "outputs": [],
   "source": [
    "\n",
    "aggregate_sdf = aggregate_sdf.withColumnRenamed(\"first(average_temperature)\", \"average_temperature\") \\\n",
    "                             .withColumnRenamed(\"first(time)\", \"time\") \\\n",
    "                             .withColumnRenamed(\"first(precip)\", \"precip\") \\\n",
    "                             .withColumnRenamed(\"first(cos_time)\", \"cos_time\")\t\\\n",
    "                             .withColumnRenamed(\"first(sin_time)\", \"sin_time\")\t\\\n",
    "                             .withColumnRenamed(\"first(date_float)\", \"date_float\")\t\\\n",
    "                             .withColumnRenamed(\"first(cos_date)\", \"cos_date\")\t\\\n",
    "                             .withColumnRenamed(\"first(sin_date)\", \"sin_date\")\t\\\n",
    "                             .withColumnRenamed(\"first(month_float)\", \"month_float\") \\\n",
    "                             .withColumnRenamed(\"first(cos_month)\", \"cos_month\") \\\n",
    "                             .withColumnRenamed(\"first(holiday)\", \"holiday\") \\\n",
    "                             .withColumnRenamed(\"first(trip_value)\", \"trip_value\") \\\n",
    "                             .withColumnRenamed(\"sum(CASE WHEN (high_value = true) THEN 1 ELSE 0 END)\", \"high_value_trips\") \\\n",
    "                             .withColumnRenamed(\"first(sin_month)\", \"sin_month\") \\\n",
    "                             .withColumnRenamed(\"first(trip_value)\", \"trip_value\") \n",
    "                            "
   ]
  },
  {
   "cell_type": "code",
   "execution_count": 84,
   "metadata": {},
   "outputs": [
    {
     "name": "stderr",
     "output_type": "stream",
     "text": [
      "                                                                                \r"
     ]
    }
   ],
   "source": [
    "aggregate_sdf.write.mode('overwrite').parquet('../data/curated/aggregated')"
   ]
  },
  {
   "cell_type": "code",
   "execution_count": 85,
   "metadata": {},
   "outputs": [],
   "source": [
    "train_sdf = aggregate_sdf.filter(F.col(\"date\") <= \"2016-12-31\")\n",
    "valid_sdf = aggregate_sdf.filter((F.col(\"date\") > \"2016-12-31\") & (F.col(\"date\") <= \"2017-02-28\"))\n",
    "test_sdf = aggregate_sdf.filter((F.col(\"date\") > \"2017-02-28\") & (F.col(\"date\") <= \"2017-05-31\"))\n"
   ]
  },
  {
   "cell_type": "code",
   "execution_count": 86,
   "metadata": {},
   "outputs": [
    {
     "name": "stderr",
     "output_type": "stream",
     "text": [
      "                                                                                \r"
     ]
    },
    {
     "name": "stdout",
     "output_type": "stream",
     "text": [
      "927997\n"
     ]
    },
    {
     "name": "stderr",
     "output_type": "stream",
     "text": [
      "                                                                                \r"
     ]
    },
    {
     "name": "stdout",
     "output_type": "stream",
     "text": [
      "141709\n"
     ]
    },
    {
     "name": "stderr",
     "output_type": "stream",
     "text": [
      "[Stage 78:=================================================>      (15 + 2) / 17]\r"
     ]
    },
    {
     "name": "stdout",
     "output_type": "stream",
     "text": [
      "221574\n"
     ]
    },
    {
     "name": "stderr",
     "output_type": "stream",
     "text": [
      "                                                                                \r"
     ]
    }
   ],
   "source": [
    "print(train_sdf.count())\n",
    "print(valid_sdf.count())\n",
    "print(test_sdf.count())"
   ]
  },
  {
   "cell_type": "code",
   "execution_count": 87,
   "metadata": {},
   "outputs": [
    {
     "name": "stderr",
     "output_type": "stream",
     "text": [
      "                                                                                \r"
     ]
    }
   ],
   "source": [
    "from sklearn.ensemble import RandomForestRegressor\n",
    "import numpy as np\n",
    "\n",
    "train = train_sdf.drop(\"date\", \"first(trip_value)\").toPandas()\n",
    "valid = valid_sdf.drop(\"date\", \"first(trip_value)\").toPandas()\n",
    "test = test_sdf.drop(\"date\", \"first(trip_value)\").toPandas()\n"
   ]
  },
  {
   "cell_type": "code",
   "execution_count": 88,
   "metadata": {},
   "outputs": [],
   "source": [
    "xname =  ['PULocationID',\n",
    "          'average_temperature',\n",
    "          'precip',\n",
    "          'time_float',\n",
    "          'cos_time',\n",
    "          'sin_time',\n",
    "          'date_float',\n",
    "          'cos_date',\n",
    "          'sin_date',\n",
    "          'month_float',\n",
    "          'cos_month',\n",
    "          'sin_month',\n",
    "          'holiday']\n",
    "xtrain = train[xname]\n",
    "xvalid = valid[xname]\n",
    "xtest = test[xname]\n",
    "\n",
    "ytrain = np.log10(train['high_value_trips'] + 1)\n",
    "yvalid = np.log10(valid['high_value_trips'] + 1)\n",
    "ytest = np.log10(test['high_value_trips'] + 1)\n"
   ]
  },
  {
   "cell_type": "code",
   "execution_count": 90,
   "metadata": {},
   "outputs": [
    {
     "ename": "KeyError",
     "evalue": "\"None of [Index(['PULocationID'], dtype='object')] are in the [columns]\"",
     "output_type": "error",
     "traceback": [
      "\u001b[0;31m---------------------------------------------------------------------------\u001b[0m",
      "\u001b[0;31mKeyError\u001b[0m                                  Traceback (most recent call last)",
      "\u001b[0;32m/var/folders/mk/5m0_ggk577s5d_q78b0zrg540000gn/T/ipykernel_87336/1764885920.py\u001b[0m in \u001b[0;36m<module>\u001b[0;34m\u001b[0m\n\u001b[1;32m      4\u001b[0m \u001b[0mohe\u001b[0m \u001b[0;34m=\u001b[0m \u001b[0mOneHotEncoder\u001b[0m\u001b[0;34m(\u001b[0m\u001b[0mhandle_unknown\u001b[0m\u001b[0;34m=\u001b[0m\u001b[0;34m'ignore'\u001b[0m\u001b[0;34m)\u001b[0m\u001b[0;34m\u001b[0m\u001b[0;34m\u001b[0m\u001b[0m\n\u001b[1;32m      5\u001b[0m \u001b[0;34m\u001b[0m\u001b[0m\n\u001b[0;32m----> 6\u001b[0;31m \u001b[0mTrain_data_to_ohe\u001b[0m \u001b[0;34m=\u001b[0m \u001b[0mxtrain\u001b[0m\u001b[0;34m[\u001b[0m\u001b[0;34m[\u001b[0m\u001b[0;34m'PULocationID'\u001b[0m\u001b[0;34m]\u001b[0m\u001b[0;34m]\u001b[0m\u001b[0;34m\u001b[0m\u001b[0;34m\u001b[0m\u001b[0m\n\u001b[0m\u001b[1;32m      7\u001b[0m \u001b[0mTrain_data_ohe\u001b[0m \u001b[0;34m=\u001b[0m \u001b[0mohe\u001b[0m\u001b[0;34m.\u001b[0m\u001b[0mfit_transform\u001b[0m\u001b[0;34m(\u001b[0m\u001b[0mTrain_data_to_ohe\u001b[0m\u001b[0;34m)\u001b[0m\u001b[0;34m.\u001b[0m\u001b[0mtoarray\u001b[0m\u001b[0;34m(\u001b[0m\u001b[0;34m)\u001b[0m\u001b[0;34m\u001b[0m\u001b[0;34m\u001b[0m\u001b[0m\n\u001b[1;32m      8\u001b[0m \u001b[0;34m\u001b[0m\u001b[0m\n",
      "\u001b[0;32m/opt/anaconda3/lib/python3.9/site-packages/pandas/core/frame.py\u001b[0m in \u001b[0;36m__getitem__\u001b[0;34m(self, key)\u001b[0m\n\u001b[1;32m   3462\u001b[0m             \u001b[0;32mif\u001b[0m \u001b[0mis_iterator\u001b[0m\u001b[0;34m(\u001b[0m\u001b[0mkey\u001b[0m\u001b[0;34m)\u001b[0m\u001b[0;34m:\u001b[0m\u001b[0;34m\u001b[0m\u001b[0;34m\u001b[0m\u001b[0m\n\u001b[1;32m   3463\u001b[0m                 \u001b[0mkey\u001b[0m \u001b[0;34m=\u001b[0m \u001b[0mlist\u001b[0m\u001b[0;34m(\u001b[0m\u001b[0mkey\u001b[0m\u001b[0;34m)\u001b[0m\u001b[0;34m\u001b[0m\u001b[0;34m\u001b[0m\u001b[0m\n\u001b[0;32m-> 3464\u001b[0;31m             \u001b[0mindexer\u001b[0m \u001b[0;34m=\u001b[0m \u001b[0mself\u001b[0m\u001b[0;34m.\u001b[0m\u001b[0mloc\u001b[0m\u001b[0;34m.\u001b[0m\u001b[0m_get_listlike_indexer\u001b[0m\u001b[0;34m(\u001b[0m\u001b[0mkey\u001b[0m\u001b[0;34m,\u001b[0m \u001b[0maxis\u001b[0m\u001b[0;34m=\u001b[0m\u001b[0;36m1\u001b[0m\u001b[0;34m)\u001b[0m\u001b[0;34m[\u001b[0m\u001b[0;36m1\u001b[0m\u001b[0;34m]\u001b[0m\u001b[0;34m\u001b[0m\u001b[0;34m\u001b[0m\u001b[0m\n\u001b[0m\u001b[1;32m   3465\u001b[0m \u001b[0;34m\u001b[0m\u001b[0m\n\u001b[1;32m   3466\u001b[0m         \u001b[0;31m# take() does not accept boolean indexers\u001b[0m\u001b[0;34m\u001b[0m\u001b[0;34m\u001b[0m\u001b[0m\n",
      "\u001b[0;32m/opt/anaconda3/lib/python3.9/site-packages/pandas/core/indexing.py\u001b[0m in \u001b[0;36m_get_listlike_indexer\u001b[0;34m(self, key, axis)\u001b[0m\n\u001b[1;32m   1312\u001b[0m             \u001b[0mkeyarr\u001b[0m\u001b[0;34m,\u001b[0m \u001b[0mindexer\u001b[0m\u001b[0;34m,\u001b[0m \u001b[0mnew_indexer\u001b[0m \u001b[0;34m=\u001b[0m \u001b[0max\u001b[0m\u001b[0;34m.\u001b[0m\u001b[0m_reindex_non_unique\u001b[0m\u001b[0;34m(\u001b[0m\u001b[0mkeyarr\u001b[0m\u001b[0;34m)\u001b[0m\u001b[0;34m\u001b[0m\u001b[0;34m\u001b[0m\u001b[0m\n\u001b[1;32m   1313\u001b[0m \u001b[0;34m\u001b[0m\u001b[0m\n\u001b[0;32m-> 1314\u001b[0;31m         \u001b[0mself\u001b[0m\u001b[0;34m.\u001b[0m\u001b[0m_validate_read_indexer\u001b[0m\u001b[0;34m(\u001b[0m\u001b[0mkeyarr\u001b[0m\u001b[0;34m,\u001b[0m \u001b[0mindexer\u001b[0m\u001b[0;34m,\u001b[0m \u001b[0maxis\u001b[0m\u001b[0;34m)\u001b[0m\u001b[0;34m\u001b[0m\u001b[0;34m\u001b[0m\u001b[0m\n\u001b[0m\u001b[1;32m   1315\u001b[0m \u001b[0;34m\u001b[0m\u001b[0m\n\u001b[1;32m   1316\u001b[0m         if needs_i8_conversion(ax.dtype) or isinstance(\n",
      "\u001b[0;32m/opt/anaconda3/lib/python3.9/site-packages/pandas/core/indexing.py\u001b[0m in \u001b[0;36m_validate_read_indexer\u001b[0;34m(self, key, indexer, axis)\u001b[0m\n\u001b[1;32m   1372\u001b[0m                 \u001b[0;32mif\u001b[0m \u001b[0muse_interval_msg\u001b[0m\u001b[0;34m:\u001b[0m\u001b[0;34m\u001b[0m\u001b[0;34m\u001b[0m\u001b[0m\n\u001b[1;32m   1373\u001b[0m                     \u001b[0mkey\u001b[0m \u001b[0;34m=\u001b[0m \u001b[0mlist\u001b[0m\u001b[0;34m(\u001b[0m\u001b[0mkey\u001b[0m\u001b[0;34m)\u001b[0m\u001b[0;34m\u001b[0m\u001b[0;34m\u001b[0m\u001b[0m\n\u001b[0;32m-> 1374\u001b[0;31m                 \u001b[0;32mraise\u001b[0m \u001b[0mKeyError\u001b[0m\u001b[0;34m(\u001b[0m\u001b[0;34mf\"None of [{key}] are in the [{axis_name}]\"\u001b[0m\u001b[0;34m)\u001b[0m\u001b[0;34m\u001b[0m\u001b[0;34m\u001b[0m\u001b[0m\n\u001b[0m\u001b[1;32m   1375\u001b[0m \u001b[0;34m\u001b[0m\u001b[0m\n\u001b[1;32m   1376\u001b[0m             \u001b[0mnot_found\u001b[0m \u001b[0;34m=\u001b[0m \u001b[0mlist\u001b[0m\u001b[0;34m(\u001b[0m\u001b[0mensure_index\u001b[0m\u001b[0;34m(\u001b[0m\u001b[0mkey\u001b[0m\u001b[0;34m)\u001b[0m\u001b[0;34m[\u001b[0m\u001b[0mmissing_mask\u001b[0m\u001b[0;34m.\u001b[0m\u001b[0mnonzero\u001b[0m\u001b[0;34m(\u001b[0m\u001b[0;34m)\u001b[0m\u001b[0;34m[\u001b[0m\u001b[0;36m0\u001b[0m\u001b[0;34m]\u001b[0m\u001b[0;34m]\u001b[0m\u001b[0;34m.\u001b[0m\u001b[0munique\u001b[0m\u001b[0;34m(\u001b[0m\u001b[0;34m)\u001b[0m\u001b[0;34m)\u001b[0m\u001b[0;34m\u001b[0m\u001b[0;34m\u001b[0m\u001b[0m\n",
      "\u001b[0;31mKeyError\u001b[0m: \"None of [Index(['PULocationID'], dtype='object')] are in the [columns]\""
     ]
    }
   ],
   "source": [
    "from sklearn.preprocessing import OneHotEncoder\n",
    "import pandas as pd\n",
    "\n",
    "ohe = OneHotEncoder(handle_unknown='ignore')\n",
    "\n",
    "Train_data_to_ohe = xtrain[['PULocationID']]\n",
    "Train_data_ohe = ohe.fit_transform(Train_data_to_ohe).toarray()\n",
    "\n",
    "Train_data_ohe = pd.DataFrame(Train_data_ohe, columns=list(ohe.get_feature_names_out(['PULocationID'])))\n",
    "\n",
    "xtrain = xtrain.drop(['PULocationID'], axis=1)\n",
    "\n",
    "for col in Train_data_ohe.columns:\n",
    "    new_col = Train_data_ohe[col]\n",
    "    new_col.index = range(len(new_col))\n",
    "\n",
    "    xtrain[str(col)] = new_col\n",
    "\n",
    "\n",
    "Val_data_to_ohe = xvalid[['PULocationID']]\n",
    "Val_data_ohe = ohe.transform(Val_data_to_ohe).toarray()\n",
    "\n",
    "Val_data_ohe = pd.DataFrame(Val_data_ohe, columns=list(ohe.get_feature_names_out(['PULocationID'])))\n",
    "\n",
    "xvalid = xvalid.drop(['PULocationID'], axis=1)\n",
    "\n",
    "for col in Val_data_ohe.columns:\n",
    "    new_col = Val_data_ohe[col]\n",
    "    new_col.index = range(len(new_col))\n",
    "\n",
    "    xvalid[str(col)] = new_col\n",
    "\n",
    "\n",
    "Test_data_to_ohe = xtest[['PULocationID']]\n",
    "Test_data_ohe = ohe.transform(Test_data_to_ohe).toarray()\n",
    "\n",
    "Test_data_ohe = pd.DataFrame(Test_data_ohe, columns=list(ohe.get_feature_names_out(['PULocationID'])))\n",
    "\n",
    "xtest = xtest.drop(['PULocationID'], axis=1)\n",
    "\n",
    "for col in Test_data_ohe.columns:\n",
    "    new_col = Test_data_ohe[col]\n",
    "    new_col.index = range(len(new_col))\n",
    "\n",
    "    xtest[str(col)] = new_col"
   ]
  },
  {
   "cell_type": "code",
   "execution_count": 66,
   "metadata": {},
   "outputs": [
    {
     "name": "stdout",
     "output_type": "stream",
     "text": [
      "fitting\n"
     ]
    },
    {
     "ename": "KeyboardInterrupt",
     "evalue": "",
     "output_type": "error",
     "traceback": [
      "\u001b[0;31m---------------------------------------------------------------------------\u001b[0m",
      "\u001b[0;31mKeyboardInterrupt\u001b[0m                         Traceback (most recent call last)",
      "\u001b[0;32m/var/folders/mk/5m0_ggk577s5d_q78b0zrg540000gn/T/ipykernel_87336/1728922606.py\u001b[0m in \u001b[0;36m<module>\u001b[0;34m\u001b[0m\n\u001b[1;32m      4\u001b[0m \u001b[0mreg\u001b[0m \u001b[0;34m=\u001b[0m \u001b[0mRandomForestRegressor\u001b[0m\u001b[0;34m(\u001b[0m\u001b[0mn_estimators\u001b[0m\u001b[0;34m=\u001b[0m\u001b[0;36m50\u001b[0m\u001b[0;34m,\u001b[0m \u001b[0mmax_depth\u001b[0m\u001b[0;34m=\u001b[0m\u001b[0;36m30\u001b[0m\u001b[0;34m,\u001b[0m \u001b[0mn_jobs\u001b[0m\u001b[0;34m=\u001b[0m\u001b[0;34m-\u001b[0m\u001b[0;36m1\u001b[0m\u001b[0;34m,\u001b[0m \u001b[0mwarm_start\u001b[0m\u001b[0;34m=\u001b[0m\u001b[0;32mTrue\u001b[0m\u001b[0;34m)\u001b[0m\u001b[0;34m\u001b[0m\u001b[0;34m\u001b[0m\u001b[0m\n\u001b[1;32m      5\u001b[0m \u001b[0mprint\u001b[0m\u001b[0;34m(\u001b[0m\u001b[0;34m\"fitting\"\u001b[0m\u001b[0;34m)\u001b[0m\u001b[0;34m\u001b[0m\u001b[0;34m\u001b[0m\u001b[0m\n\u001b[0;32m----> 6\u001b[0;31m \u001b[0mreg\u001b[0m\u001b[0;34m.\u001b[0m\u001b[0mfit\u001b[0m\u001b[0;34m(\u001b[0m\u001b[0mxtrain\u001b[0m\u001b[0;34m,\u001b[0m\u001b[0mytrain\u001b[0m\u001b[0;34m)\u001b[0m\u001b[0;34m\u001b[0m\u001b[0;34m\u001b[0m\u001b[0m\n\u001b[0m\u001b[1;32m      7\u001b[0m \u001b[0mprint\u001b[0m\u001b[0;34m(\u001b[0m\u001b[0;34m\"training\"\u001b[0m\u001b[0;34m)\u001b[0m\u001b[0;34m\u001b[0m\u001b[0;34m\u001b[0m\u001b[0m\n\u001b[1;32m      8\u001b[0m \u001b[0mtraining_accuracy\u001b[0m \u001b[0;34m=\u001b[0m \u001b[0mreg\u001b[0m\u001b[0;34m.\u001b[0m\u001b[0mscore\u001b[0m\u001b[0;34m(\u001b[0m\u001b[0mxtrain\u001b[0m\u001b[0;34m,\u001b[0m \u001b[0mytrain\u001b[0m\u001b[0;34m)\u001b[0m\u001b[0;34m\u001b[0m\u001b[0;34m\u001b[0m\u001b[0m\n",
      "\u001b[0;32m/opt/anaconda3/lib/python3.9/site-packages/sklearn/ensemble/_forest.py\u001b[0m in \u001b[0;36mfit\u001b[0;34m(self, X, y, sample_weight)\u001b[0m\n\u001b[1;32m    325\u001b[0m         \u001b[0;32mif\u001b[0m \u001b[0missparse\u001b[0m\u001b[0;34m(\u001b[0m\u001b[0my\u001b[0m\u001b[0;34m)\u001b[0m\u001b[0;34m:\u001b[0m\u001b[0;34m\u001b[0m\u001b[0;34m\u001b[0m\u001b[0m\n\u001b[1;32m    326\u001b[0m             \u001b[0;32mraise\u001b[0m \u001b[0mValueError\u001b[0m\u001b[0;34m(\u001b[0m\u001b[0;34m\"sparse multilabel-indicator for y is not supported.\"\u001b[0m\u001b[0;34m)\u001b[0m\u001b[0;34m\u001b[0m\u001b[0;34m\u001b[0m\u001b[0m\n\u001b[0;32m--> 327\u001b[0;31m         X, y = self._validate_data(\n\u001b[0m\u001b[1;32m    328\u001b[0m             \u001b[0mX\u001b[0m\u001b[0;34m,\u001b[0m \u001b[0my\u001b[0m\u001b[0;34m,\u001b[0m \u001b[0mmulti_output\u001b[0m\u001b[0;34m=\u001b[0m\u001b[0;32mTrue\u001b[0m\u001b[0;34m,\u001b[0m \u001b[0maccept_sparse\u001b[0m\u001b[0;34m=\u001b[0m\u001b[0;34m\"csc\"\u001b[0m\u001b[0;34m,\u001b[0m \u001b[0mdtype\u001b[0m\u001b[0;34m=\u001b[0m\u001b[0mDTYPE\u001b[0m\u001b[0;34m\u001b[0m\u001b[0;34m\u001b[0m\u001b[0m\n\u001b[1;32m    329\u001b[0m         )\n",
      "\u001b[0;32m/opt/anaconda3/lib/python3.9/site-packages/sklearn/base.py\u001b[0m in \u001b[0;36m_validate_data\u001b[0;34m(self, X, y, reset, validate_separately, **check_params)\u001b[0m\n\u001b[1;32m    579\u001b[0m                 \u001b[0my\u001b[0m \u001b[0;34m=\u001b[0m \u001b[0mcheck_array\u001b[0m\u001b[0;34m(\u001b[0m\u001b[0my\u001b[0m\u001b[0;34m,\u001b[0m \u001b[0;34m**\u001b[0m\u001b[0mcheck_y_params\u001b[0m\u001b[0;34m)\u001b[0m\u001b[0;34m\u001b[0m\u001b[0;34m\u001b[0m\u001b[0m\n\u001b[1;32m    580\u001b[0m             \u001b[0;32melse\u001b[0m\u001b[0;34m:\u001b[0m\u001b[0;34m\u001b[0m\u001b[0;34m\u001b[0m\u001b[0m\n\u001b[0;32m--> 581\u001b[0;31m                 \u001b[0mX\u001b[0m\u001b[0;34m,\u001b[0m \u001b[0my\u001b[0m \u001b[0;34m=\u001b[0m \u001b[0mcheck_X_y\u001b[0m\u001b[0;34m(\u001b[0m\u001b[0mX\u001b[0m\u001b[0;34m,\u001b[0m \u001b[0my\u001b[0m\u001b[0;34m,\u001b[0m \u001b[0;34m**\u001b[0m\u001b[0mcheck_params\u001b[0m\u001b[0;34m)\u001b[0m\u001b[0;34m\u001b[0m\u001b[0;34m\u001b[0m\u001b[0m\n\u001b[0m\u001b[1;32m    582\u001b[0m             \u001b[0mout\u001b[0m \u001b[0;34m=\u001b[0m \u001b[0mX\u001b[0m\u001b[0;34m,\u001b[0m \u001b[0my\u001b[0m\u001b[0;34m\u001b[0m\u001b[0;34m\u001b[0m\u001b[0m\n\u001b[1;32m    583\u001b[0m \u001b[0;34m\u001b[0m\u001b[0m\n",
      "\u001b[0;32m/opt/anaconda3/lib/python3.9/site-packages/sklearn/utils/validation.py\u001b[0m in \u001b[0;36mcheck_X_y\u001b[0;34m(X, y, accept_sparse, accept_large_sparse, dtype, order, copy, force_all_finite, ensure_2d, allow_nd, multi_output, ensure_min_samples, ensure_min_features, y_numeric, estimator)\u001b[0m\n\u001b[1;32m    962\u001b[0m         \u001b[0;32mraise\u001b[0m \u001b[0mValueError\u001b[0m\u001b[0;34m(\u001b[0m\u001b[0;34m\"y cannot be None\"\u001b[0m\u001b[0;34m)\u001b[0m\u001b[0;34m\u001b[0m\u001b[0;34m\u001b[0m\u001b[0m\n\u001b[1;32m    963\u001b[0m \u001b[0;34m\u001b[0m\u001b[0m\n\u001b[0;32m--> 964\u001b[0;31m     X = check_array(\n\u001b[0m\u001b[1;32m    965\u001b[0m         \u001b[0mX\u001b[0m\u001b[0;34m,\u001b[0m\u001b[0;34m\u001b[0m\u001b[0;34m\u001b[0m\u001b[0m\n\u001b[1;32m    966\u001b[0m         \u001b[0maccept_sparse\u001b[0m\u001b[0;34m=\u001b[0m\u001b[0maccept_sparse\u001b[0m\u001b[0;34m,\u001b[0m\u001b[0;34m\u001b[0m\u001b[0;34m\u001b[0m\u001b[0m\n",
      "\u001b[0;32m/opt/anaconda3/lib/python3.9/site-packages/sklearn/utils/validation.py\u001b[0m in \u001b[0;36mcheck_array\u001b[0;34m(array, accept_sparse, accept_large_sparse, dtype, order, copy, force_all_finite, ensure_2d, allow_nd, ensure_min_samples, ensure_min_features, estimator)\u001b[0m\n\u001b[1;32m    798\u001b[0m \u001b[0;34m\u001b[0m\u001b[0m\n\u001b[1;32m    799\u001b[0m         \u001b[0;32mif\u001b[0m \u001b[0mforce_all_finite\u001b[0m\u001b[0;34m:\u001b[0m\u001b[0;34m\u001b[0m\u001b[0;34m\u001b[0m\u001b[0m\n\u001b[0;32m--> 800\u001b[0;31m             \u001b[0m_assert_all_finite\u001b[0m\u001b[0;34m(\u001b[0m\u001b[0marray\u001b[0m\u001b[0;34m,\u001b[0m \u001b[0mallow_nan\u001b[0m\u001b[0;34m=\u001b[0m\u001b[0mforce_all_finite\u001b[0m \u001b[0;34m==\u001b[0m \u001b[0;34m\"allow-nan\"\u001b[0m\u001b[0;34m)\u001b[0m\u001b[0;34m\u001b[0m\u001b[0;34m\u001b[0m\u001b[0m\n\u001b[0m\u001b[1;32m    801\u001b[0m \u001b[0;34m\u001b[0m\u001b[0m\n\u001b[1;32m    802\u001b[0m     \u001b[0;32mif\u001b[0m \u001b[0mensure_min_samples\u001b[0m \u001b[0;34m>\u001b[0m \u001b[0;36m0\u001b[0m\u001b[0;34m:\u001b[0m\u001b[0;34m\u001b[0m\u001b[0;34m\u001b[0m\u001b[0m\n",
      "\u001b[0;32m/opt/anaconda3/lib/python3.9/site-packages/sklearn/utils/validation.py\u001b[0m in \u001b[0;36m_assert_all_finite\u001b[0;34m(X, allow_nan, msg_dtype)\u001b[0m\n\u001b[1;32m    101\u001b[0m     \u001b[0;31m# safely to reduce dtype induced overflows.\u001b[0m\u001b[0;34m\u001b[0m\u001b[0;34m\u001b[0m\u001b[0m\n\u001b[1;32m    102\u001b[0m     \u001b[0mis_float\u001b[0m \u001b[0;34m=\u001b[0m \u001b[0mX\u001b[0m\u001b[0;34m.\u001b[0m\u001b[0mdtype\u001b[0m\u001b[0;34m.\u001b[0m\u001b[0mkind\u001b[0m \u001b[0;32min\u001b[0m \u001b[0;34m\"fc\"\u001b[0m\u001b[0;34m\u001b[0m\u001b[0;34m\u001b[0m\u001b[0m\n\u001b[0;32m--> 103\u001b[0;31m     \u001b[0;32mif\u001b[0m \u001b[0mis_float\u001b[0m \u001b[0;32mand\u001b[0m \u001b[0;34m(\u001b[0m\u001b[0mnp\u001b[0m\u001b[0;34m.\u001b[0m\u001b[0misfinite\u001b[0m\u001b[0;34m(\u001b[0m\u001b[0m_safe_accumulator_op\u001b[0m\u001b[0;34m(\u001b[0m\u001b[0mnp\u001b[0m\u001b[0;34m.\u001b[0m\u001b[0msum\u001b[0m\u001b[0;34m,\u001b[0m \u001b[0mX\u001b[0m\u001b[0;34m)\u001b[0m\u001b[0;34m)\u001b[0m\u001b[0;34m)\u001b[0m\u001b[0;34m:\u001b[0m\u001b[0;34m\u001b[0m\u001b[0;34m\u001b[0m\u001b[0m\n\u001b[0m\u001b[1;32m    104\u001b[0m         \u001b[0;32mpass\u001b[0m\u001b[0;34m\u001b[0m\u001b[0;34m\u001b[0m\u001b[0m\n\u001b[1;32m    105\u001b[0m     \u001b[0;32melif\u001b[0m \u001b[0mis_float\u001b[0m\u001b[0;34m:\u001b[0m\u001b[0;34m\u001b[0m\u001b[0;34m\u001b[0m\u001b[0m\n",
      "\u001b[0;32m/opt/anaconda3/lib/python3.9/site-packages/sklearn/utils/extmath.py\u001b[0m in \u001b[0;36m_safe_accumulator_op\u001b[0;34m(op, x, *args, **kwargs)\u001b[0m\n\u001b[1;32m    891\u001b[0m     \"\"\"\n\u001b[1;32m    892\u001b[0m     \u001b[0;32mif\u001b[0m \u001b[0mnp\u001b[0m\u001b[0;34m.\u001b[0m\u001b[0missubdtype\u001b[0m\u001b[0;34m(\u001b[0m\u001b[0mx\u001b[0m\u001b[0;34m.\u001b[0m\u001b[0mdtype\u001b[0m\u001b[0;34m,\u001b[0m \u001b[0mnp\u001b[0m\u001b[0;34m.\u001b[0m\u001b[0mfloating\u001b[0m\u001b[0;34m)\u001b[0m \u001b[0;32mand\u001b[0m \u001b[0mx\u001b[0m\u001b[0;34m.\u001b[0m\u001b[0mdtype\u001b[0m\u001b[0;34m.\u001b[0m\u001b[0mitemsize\u001b[0m \u001b[0;34m<\u001b[0m \u001b[0;36m8\u001b[0m\u001b[0;34m:\u001b[0m\u001b[0;34m\u001b[0m\u001b[0;34m\u001b[0m\u001b[0m\n\u001b[0;32m--> 893\u001b[0;31m         \u001b[0mresult\u001b[0m \u001b[0;34m=\u001b[0m \u001b[0mop\u001b[0m\u001b[0;34m(\u001b[0m\u001b[0mx\u001b[0m\u001b[0;34m,\u001b[0m \u001b[0;34m*\u001b[0m\u001b[0margs\u001b[0m\u001b[0;34m,\u001b[0m \u001b[0;34m**\u001b[0m\u001b[0mkwargs\u001b[0m\u001b[0;34m,\u001b[0m \u001b[0mdtype\u001b[0m\u001b[0;34m=\u001b[0m\u001b[0mnp\u001b[0m\u001b[0;34m.\u001b[0m\u001b[0mfloat64\u001b[0m\u001b[0;34m)\u001b[0m\u001b[0;34m\u001b[0m\u001b[0;34m\u001b[0m\u001b[0m\n\u001b[0m\u001b[1;32m    894\u001b[0m     \u001b[0;32melse\u001b[0m\u001b[0;34m:\u001b[0m\u001b[0;34m\u001b[0m\u001b[0;34m\u001b[0m\u001b[0m\n\u001b[1;32m    895\u001b[0m         \u001b[0mresult\u001b[0m \u001b[0;34m=\u001b[0m \u001b[0mop\u001b[0m\u001b[0;34m(\u001b[0m\u001b[0mx\u001b[0m\u001b[0;34m,\u001b[0m \u001b[0;34m*\u001b[0m\u001b[0margs\u001b[0m\u001b[0;34m,\u001b[0m \u001b[0;34m**\u001b[0m\u001b[0mkwargs\u001b[0m\u001b[0;34m)\u001b[0m\u001b[0;34m\u001b[0m\u001b[0;34m\u001b[0m\u001b[0m\n",
      "\u001b[0;32m<__array_function__ internals>\u001b[0m in \u001b[0;36msum\u001b[0;34m(*args, **kwargs)\u001b[0m\n",
      "\u001b[0;32m/opt/anaconda3/lib/python3.9/site-packages/numpy/core/fromnumeric.py\u001b[0m in \u001b[0;36msum\u001b[0;34m(a, axis, dtype, out, keepdims, initial, where)\u001b[0m\n\u001b[1;32m   2245\u001b[0m         \u001b[0;32mreturn\u001b[0m \u001b[0mres\u001b[0m\u001b[0;34m\u001b[0m\u001b[0;34m\u001b[0m\u001b[0m\n\u001b[1;32m   2246\u001b[0m \u001b[0;34m\u001b[0m\u001b[0m\n\u001b[0;32m-> 2247\u001b[0;31m     return _wrapreduction(a, np.add, 'sum', axis, dtype, out, keepdims=keepdims,\n\u001b[0m\u001b[1;32m   2248\u001b[0m                           initial=initial, where=where)\n\u001b[1;32m   2249\u001b[0m \u001b[0;34m\u001b[0m\u001b[0m\n",
      "\u001b[0;32m/opt/anaconda3/lib/python3.9/site-packages/numpy/core/fromnumeric.py\u001b[0m in \u001b[0;36m_wrapreduction\u001b[0;34m(obj, ufunc, method, axis, dtype, out, **kwargs)\u001b[0m\n\u001b[1;32m     85\u001b[0m                 \u001b[0;32mreturn\u001b[0m \u001b[0mreduction\u001b[0m\u001b[0;34m(\u001b[0m\u001b[0maxis\u001b[0m\u001b[0;34m=\u001b[0m\u001b[0maxis\u001b[0m\u001b[0;34m,\u001b[0m \u001b[0mout\u001b[0m\u001b[0;34m=\u001b[0m\u001b[0mout\u001b[0m\u001b[0;34m,\u001b[0m \u001b[0;34m**\u001b[0m\u001b[0mpasskwargs\u001b[0m\u001b[0;34m)\u001b[0m\u001b[0;34m\u001b[0m\u001b[0;34m\u001b[0m\u001b[0m\n\u001b[1;32m     86\u001b[0m \u001b[0;34m\u001b[0m\u001b[0m\n\u001b[0;32m---> 87\u001b[0;31m     \u001b[0;32mreturn\u001b[0m \u001b[0mufunc\u001b[0m\u001b[0;34m.\u001b[0m\u001b[0mreduce\u001b[0m\u001b[0;34m(\u001b[0m\u001b[0mobj\u001b[0m\u001b[0;34m,\u001b[0m \u001b[0maxis\u001b[0m\u001b[0;34m,\u001b[0m \u001b[0mdtype\u001b[0m\u001b[0;34m,\u001b[0m \u001b[0mout\u001b[0m\u001b[0;34m,\u001b[0m \u001b[0;34m**\u001b[0m\u001b[0mpasskwargs\u001b[0m\u001b[0;34m)\u001b[0m\u001b[0;34m\u001b[0m\u001b[0;34m\u001b[0m\u001b[0m\n\u001b[0m\u001b[1;32m     88\u001b[0m \u001b[0;34m\u001b[0m\u001b[0m\n\u001b[1;32m     89\u001b[0m \u001b[0;34m\u001b[0m\u001b[0m\n",
      "\u001b[0;31mKeyboardInterrupt\u001b[0m: "
     ]
    }
   ],
   "source": [
    "from sklearn.metrics import mean_squared_error\n",
    "\n",
    "\n",
    "reg = RandomForestRegressor(n_estimators=50, max_depth=30, n_jobs=-1, warm_start=True)\n",
    "print(\"fitting\")\n",
    "reg.fit(xtrain,ytrain)\n",
    "print(\"training\")\n",
    "training_accuracy = reg.score(xtrain, ytrain)\n",
    "valid_accuracy = reg.score(xvalid, yvalid)\n",
    "testing_accuracy = reg.score(xtest, ytest)\n",
    "rmsetrain = np.sqrt(mean_squared_error(reg.predict(xtrain),ytrain))\n",
    "rmsevalid = np.sqrt(mean_squared_error(reg.predict(xvalid),yvalid))\n",
    "rmsetest = np.sqrt(mean_squared_error(reg.predict(xtest),ytest))\n",
    "print(\"R^2 (train) = %0.3f, R^2 (valid) = %0.3f, R^2 (test) = %0.3f, RMSE (train) = %0.3f, RMSE (valid) = %0.3f, RMSE (test) = %0.3f\" % \n",
    "        (training_accuracy, valid_accuracy, testing_accuracy, rmsetrain, rmsevalid, rmsetest))"
   ]
  },
  {
   "cell_type": "code",
   "execution_count": 15,
   "metadata": {},
   "outputs": [],
   "source": [
    "import pandas as pd\n",
    "a = pd.DataFrame(np.round(np.power(10,np.column_stack((reg.predict(xvalid),yvalid))) - 1,decimals=0).astype(int))"
   ]
  },
  {
   "cell_type": "code",
   "execution_count": 34,
   "metadata": {},
   "outputs": [
    {
     "data": {
      "text/plain": [
       "[('time_float', 0.03697545899976474),\n",
       " ('PULocationID_236', 0.03204937126547357),\n",
       " ('PULocationID_237', 0.03204697070688485),\n",
       " ('PULocationID_170', 0.03195155559292659),\n",
       " ('PULocationID_186', 0.03118746370183021),\n",
       " ('PULocationID_141', 0.031104004756603423),\n",
       " ('PULocationID_90', 0.031076594300570064),\n",
       " ('PULocationID_163', 0.031030844232069758),\n",
       " ('PULocationID_231', 0.031019879762767422),\n",
       " ('PULocationID_48', 0.030998195862123715),\n",
       " ('PULocationID_239', 0.030987504882957432),\n",
       " ('PULocationID_229', 0.030970360678122085),\n",
       " ('PULocationID_249', 0.03096913766526675),\n",
       " ('PULocationID_230', 0.03096546493322501),\n",
       " ('PULocationID_140', 0.030955799543883104),\n",
       " ('PULocationID_162', 0.030703997217411138),\n",
       " ('PULocationID_68', 0.03058781490437246),\n",
       " ('PULocationID_138', 0.030457719981457045),\n",
       " ('PULocationID_164', 0.03043747087585426),\n",
       " ('PULocationID_79', 0.030405712018221922),\n",
       " ('PULocationID_132', 0.0303147771010766),\n",
       " ('PULocationID_107', 0.03024318307140166),\n",
       " ('PULocationID_234', 0.030232794458316944),\n",
       " ('PULocationID_161', 0.030207836406766435),\n",
       " ('PULocationID_263', 0.030153578440898117),\n",
       " ('PULocationID_142', 0.030149781680420245),\n",
       " ('PULocationID_238', 0.03014015005203599),\n",
       " ('PULocationID_137', 0.02694306661300438),\n",
       " ('PULocationID_233', 0.02562369573933272),\n",
       " ('PULocationID_100', 0.02547202086955247),\n",
       " ('cos_time', 0.014407268911144012),\n",
       " ('PULocationID_113', 0.01388918225876064),\n",
       " ('PULocationID_262', 0.01182232629670401),\n",
       " ('sin_time', 0.009959389265046345),\n",
       " ('date_float', 0.008289202302382715),\n",
       " ('year_day_float', 0.004549079562857523),\n",
       " ('sin_date', 0.004190395656970419),\n",
       " ('cos_date', 0.003468375275661354),\n",
       " ('sin_year_day', 0.0024731526343041545),\n",
       " ('precip', 0.0023905247423946395),\n",
       " ('average_temperature', 0.002230336542638763),\n",
       " ('cos_year_day', 0.0018372997446237272),\n",
       " ('month_float', 0.0011594381758625353),\n",
       " ('sin_month_day', 0.0011236156690623883),\n",
       " ('cos_month_day', 0.0009592271294641749),\n",
       " ('holiday', 0.0008889795175315083),\n",
       " ('PULocationID_1', 0.0),\n",
       " ('PULocationID_2', 0.0),\n",
       " ('PULocationID_3', 0.0),\n",
       " ('PULocationID_4', 0.0),\n",
       " ('PULocationID_5', 0.0),\n",
       " ('PULocationID_6', 0.0),\n",
       " ('PULocationID_7', 0.0),\n",
       " ('PULocationID_8', 0.0),\n",
       " ('PULocationID_9', 0.0),\n",
       " ('PULocationID_10', 0.0),\n",
       " ('PULocationID_11', 0.0),\n",
       " ('PULocationID_12', 0.0),\n",
       " ('PULocationID_13', 0.0),\n",
       " ('PULocationID_14', 0.0),\n",
       " ('PULocationID_15', 0.0),\n",
       " ('PULocationID_16', 0.0),\n",
       " ('PULocationID_17', 0.0),\n",
       " ('PULocationID_18', 0.0),\n",
       " ('PULocationID_19', 0.0),\n",
       " ('PULocationID_20', 0.0),\n",
       " ('PULocationID_21', 0.0),\n",
       " ('PULocationID_22', 0.0),\n",
       " ('PULocationID_23', 0.0),\n",
       " ('PULocationID_24', 0.0),\n",
       " ('PULocationID_25', 0.0),\n",
       " ('PULocationID_26', 0.0),\n",
       " ('PULocationID_27', 0.0),\n",
       " ('PULocationID_28', 0.0),\n",
       " ('PULocationID_29', 0.0),\n",
       " ('PULocationID_30', 0.0),\n",
       " ('PULocationID_31', 0.0),\n",
       " ('PULocationID_32', 0.0),\n",
       " ('PULocationID_33', 0.0),\n",
       " ('PULocationID_34', 0.0),\n",
       " ('PULocationID_35', 0.0),\n",
       " ('PULocationID_36', 0.0),\n",
       " ('PULocationID_37', 0.0),\n",
       " ('PULocationID_38', 0.0),\n",
       " ('PULocationID_39', 0.0),\n",
       " ('PULocationID_40', 0.0),\n",
       " ('PULocationID_41', 0.0),\n",
       " ('PULocationID_42', 0.0),\n",
       " ('PULocationID_43', 0.0),\n",
       " ('PULocationID_44', 0.0),\n",
       " ('PULocationID_45', 0.0),\n",
       " ('PULocationID_46', 0.0),\n",
       " ('PULocationID_47', 0.0),\n",
       " ('PULocationID_49', 0.0),\n",
       " ('PULocationID_50', 0.0),\n",
       " ('PULocationID_51', 0.0),\n",
       " ('PULocationID_52', 0.0),\n",
       " ('PULocationID_53', 0.0),\n",
       " ('PULocationID_54', 0.0),\n",
       " ('PULocationID_55', 0.0),\n",
       " ('PULocationID_56', 0.0),\n",
       " ('PULocationID_57', 0.0),\n",
       " ('PULocationID_58', 0.0),\n",
       " ('PULocationID_59', 0.0),\n",
       " ('PULocationID_60', 0.0),\n",
       " ('PULocationID_61', 0.0),\n",
       " ('PULocationID_62', 0.0),\n",
       " ('PULocationID_63', 0.0),\n",
       " ('PULocationID_64', 0.0),\n",
       " ('PULocationID_65', 0.0),\n",
       " ('PULocationID_66', 0.0),\n",
       " ('PULocationID_67', 0.0),\n",
       " ('PULocationID_69', 0.0),\n",
       " ('PULocationID_70', 0.0),\n",
       " ('PULocationID_71', 0.0),\n",
       " ('PULocationID_72', 0.0),\n",
       " ('PULocationID_73', 0.0),\n",
       " ('PULocationID_74', 0.0),\n",
       " ('PULocationID_75', 0.0),\n",
       " ('PULocationID_76', 0.0),\n",
       " ('PULocationID_77', 0.0),\n",
       " ('PULocationID_78', 0.0),\n",
       " ('PULocationID_80', 0.0),\n",
       " ('PULocationID_81', 0.0),\n",
       " ('PULocationID_82', 0.0),\n",
       " ('PULocationID_83', 0.0),\n",
       " ('PULocationID_84', 0.0),\n",
       " ('PULocationID_85', 0.0),\n",
       " ('PULocationID_86', 0.0),\n",
       " ('PULocationID_87', 0.0),\n",
       " ('PULocationID_88', 0.0),\n",
       " ('PULocationID_89', 0.0),\n",
       " ('PULocationID_91', 0.0),\n",
       " ('PULocationID_92', 0.0),\n",
       " ('PULocationID_93', 0.0),\n",
       " ('PULocationID_94', 0.0),\n",
       " ('PULocationID_95', 0.0),\n",
       " ('PULocationID_96', 0.0),\n",
       " ('PULocationID_97', 0.0),\n",
       " ('PULocationID_98', 0.0),\n",
       " ('PULocationID_99', 0.0),\n",
       " ('PULocationID_101', 0.0),\n",
       " ('PULocationID_102', 0.0),\n",
       " ('PULocationID_103', 0.0),\n",
       " ('PULocationID_104', 0.0),\n",
       " ('PULocationID_105', 0.0),\n",
       " ('PULocationID_106', 0.0),\n",
       " ('PULocationID_108', 0.0),\n",
       " ('PULocationID_109', 0.0),\n",
       " ('PULocationID_110', 0.0),\n",
       " ('PULocationID_111', 0.0),\n",
       " ('PULocationID_112', 0.0),\n",
       " ('PULocationID_114', 0.0),\n",
       " ('PULocationID_115', 0.0),\n",
       " ('PULocationID_116', 0.0),\n",
       " ('PULocationID_117', 0.0),\n",
       " ('PULocationID_118', 0.0),\n",
       " ('PULocationID_119', 0.0),\n",
       " ('PULocationID_120', 0.0),\n",
       " ('PULocationID_121', 0.0),\n",
       " ('PULocationID_122', 0.0),\n",
       " ('PULocationID_123', 0.0),\n",
       " ('PULocationID_124', 0.0),\n",
       " ('PULocationID_125', 0.0),\n",
       " ('PULocationID_126', 0.0),\n",
       " ('PULocationID_127', 0.0),\n",
       " ('PULocationID_128', 0.0),\n",
       " ('PULocationID_129', 0.0),\n",
       " ('PULocationID_130', 0.0),\n",
       " ('PULocationID_131', 0.0),\n",
       " ('PULocationID_133', 0.0),\n",
       " ('PULocationID_134', 0.0),\n",
       " ('PULocationID_135', 0.0),\n",
       " ('PULocationID_136', 0.0),\n",
       " ('PULocationID_139', 0.0),\n",
       " ('PULocationID_143', 0.0),\n",
       " ('PULocationID_144', 0.0),\n",
       " ('PULocationID_145', 0.0),\n",
       " ('PULocationID_146', 0.0),\n",
       " ('PULocationID_147', 0.0),\n",
       " ('PULocationID_148', 0.0),\n",
       " ('PULocationID_149', 0.0),\n",
       " ('PULocationID_150', 0.0),\n",
       " ('PULocationID_151', 0.0),\n",
       " ('PULocationID_152', 0.0),\n",
       " ('PULocationID_153', 0.0),\n",
       " ('PULocationID_154', 0.0),\n",
       " ('PULocationID_155', 0.0),\n",
       " ('PULocationID_156', 0.0),\n",
       " ('PULocationID_157', 0.0),\n",
       " ('PULocationID_158', 0.0),\n",
       " ('PULocationID_159', 0.0),\n",
       " ('PULocationID_160', 0.0),\n",
       " ('PULocationID_165', 0.0),\n",
       " ('PULocationID_166', 0.0),\n",
       " ('PULocationID_167', 0.0),\n",
       " ('PULocationID_168', 0.0),\n",
       " ('PULocationID_169', 0.0),\n",
       " ('PULocationID_171', 0.0),\n",
       " ('PULocationID_172', 0.0),\n",
       " ('PULocationID_173', 0.0),\n",
       " ('PULocationID_174', 0.0),\n",
       " ('PULocationID_175', 0.0),\n",
       " ('PULocationID_176', 0.0),\n",
       " ('PULocationID_177', 0.0),\n",
       " ('PULocationID_178', 0.0),\n",
       " ('PULocationID_179', 0.0),\n",
       " ('PULocationID_180', 0.0),\n",
       " ('PULocationID_181', 0.0),\n",
       " ('PULocationID_182', 0.0),\n",
       " ('PULocationID_183', 0.0),\n",
       " ('PULocationID_184', 0.0),\n",
       " ('PULocationID_185', 0.0),\n",
       " ('PULocationID_187', 0.0),\n",
       " ('PULocationID_188', 0.0),\n",
       " ('PULocationID_189', 0.0),\n",
       " ('PULocationID_190', 0.0),\n",
       " ('PULocationID_191', 0.0),\n",
       " ('PULocationID_192', 0.0),\n",
       " ('PULocationID_193', 0.0),\n",
       " ('PULocationID_194', 0.0),\n",
       " ('PULocationID_195', 0.0),\n",
       " ('PULocationID_196', 0.0),\n",
       " ('PULocationID_197', 0.0),\n",
       " ('PULocationID_198', 0.0),\n",
       " ('PULocationID_199', 0.0),\n",
       " ('PULocationID_200', 0.0),\n",
       " ('PULocationID_201', 0.0),\n",
       " ('PULocationID_202', 0.0),\n",
       " ('PULocationID_203', 0.0),\n",
       " ('PULocationID_204', 0.0),\n",
       " ('PULocationID_205', 0.0),\n",
       " ('PULocationID_206', 0.0),\n",
       " ('PULocationID_207', 0.0),\n",
       " ('PULocationID_208', 0.0),\n",
       " ('PULocationID_209', 0.0),\n",
       " ('PULocationID_210', 0.0),\n",
       " ('PULocationID_211', 0.0),\n",
       " ('PULocationID_212', 0.0),\n",
       " ('PULocationID_213', 0.0),\n",
       " ('PULocationID_214', 0.0),\n",
       " ('PULocationID_215', 0.0),\n",
       " ('PULocationID_216', 0.0),\n",
       " ('PULocationID_217', 0.0),\n",
       " ('PULocationID_218', 0.0),\n",
       " ('PULocationID_219', 0.0),\n",
       " ('PULocationID_220', 0.0),\n",
       " ('PULocationID_221', 0.0),\n",
       " ('PULocationID_222', 0.0),\n",
       " ('PULocationID_223', 0.0),\n",
       " ('PULocationID_224', 0.0),\n",
       " ('PULocationID_225', 0.0),\n",
       " ('PULocationID_226', 0.0),\n",
       " ('PULocationID_227', 0.0),\n",
       " ('PULocationID_228', 0.0),\n",
       " ('PULocationID_232', 0.0),\n",
       " ('PULocationID_235', 0.0),\n",
       " ('PULocationID_240', 0.0),\n",
       " ('PULocationID_241', 0.0),\n",
       " ('PULocationID_242', 0.0),\n",
       " ('PULocationID_243', 0.0),\n",
       " ('PULocationID_244', 0.0),\n",
       " ('PULocationID_245', 0.0),\n",
       " ('PULocationID_246', 0.0),\n",
       " ('PULocationID_247', 0.0),\n",
       " ('PULocationID_248', 0.0),\n",
       " ('PULocationID_250', 0.0),\n",
       " ('PULocationID_251', 0.0),\n",
       " ('PULocationID_252', 0.0),\n",
       " ('PULocationID_253', 0.0),\n",
       " ('PULocationID_254', 0.0),\n",
       " ('PULocationID_255', 0.0),\n",
       " ('PULocationID_256', 0.0),\n",
       " ('PULocationID_257', 0.0),\n",
       " ('PULocationID_258', 0.0),\n",
       " ('PULocationID_259', 0.0),\n",
       " ('PULocationID_260', 0.0),\n",
       " ('PULocationID_261', 0.0)]"
      ]
     },
     "execution_count": 34,
     "metadata": {},
     "output_type": "execute_result"
    }
   ],
   "source": [
    "import operator\n",
    "\n",
    "\n",
    "dict_feat_imp = dict(zip(list(xtrain.columns.values),reg.feature_importances_))\n",
    "sorted_features = sorted(dict_feat_imp.items(), key=operator.itemgetter(1), reverse=True)\n",
    "sorted_features"
   ]
  },
  {
   "cell_type": "code",
   "execution_count": 95,
   "metadata": {},
   "outputs": [
    {
     "data": {
      "text/html": [
       "<div>\n",
       "<style scoped>\n",
       "    .dataframe tbody tr th:only-of-type {\n",
       "        vertical-align: middle;\n",
       "    }\n",
       "\n",
       "    .dataframe tbody tr th {\n",
       "        vertical-align: top;\n",
       "    }\n",
       "\n",
       "    .dataframe thead th {\n",
       "        text-align: right;\n",
       "    }\n",
       "</style>\n",
       "<table border=\"1\" class=\"dataframe\">\n",
       "  <thead>\n",
       "    <tr style=\"text-align: right;\">\n",
       "      <th></th>\n",
       "      <th>features</th>\n",
       "      <th>scores</th>\n",
       "    </tr>\n",
       "  </thead>\n",
       "  <tbody>\n",
       "    <tr>\n",
       "      <th>248</th>\n",
       "      <td>PULocationID_237</td>\n",
       "      <td>17791.006959</td>\n",
       "    </tr>\n",
       "    <tr>\n",
       "      <th>247</th>\n",
       "      <td>PULocationID_236</td>\n",
       "      <td>17750.548582</td>\n",
       "    </tr>\n",
       "    <tr>\n",
       "      <th>181</th>\n",
       "      <td>PULocationID_170</td>\n",
       "      <td>17251.440011</td>\n",
       "    </tr>\n",
       "    <tr>\n",
       "      <th>173</th>\n",
       "      <td>PULocationID_162</td>\n",
       "      <td>15999.901749</td>\n",
       "    </tr>\n",
       "    <tr>\n",
       "      <th>250</th>\n",
       "      <td>PULocationID_239</td>\n",
       "      <td>15712.925675</td>\n",
       "    </tr>\n",
       "    <tr>\n",
       "      <th>...</th>\n",
       "      <td>...</td>\n",
       "      <td>...</td>\n",
       "    </tr>\n",
       "    <tr>\n",
       "      <th>114</th>\n",
       "      <td>PULocationID_103</td>\n",
       "      <td>1.813995</td>\n",
       "    </tr>\n",
       "    <tr>\n",
       "      <th>121</th>\n",
       "      <td>PULocationID_110</td>\n",
       "      <td>0.813602</td>\n",
       "    </tr>\n",
       "    <tr>\n",
       "      <th>1</th>\n",
       "      <td>precip</td>\n",
       "      <td>0.470941</td>\n",
       "    </tr>\n",
       "    <tr>\n",
       "      <th>235</th>\n",
       "      <td>PULocationID_224</td>\n",
       "      <td>0.036190</td>\n",
       "    </tr>\n",
       "    <tr>\n",
       "      <th>52</th>\n",
       "      <td>PULocationID_41</td>\n",
       "      <td>0.025003</td>\n",
       "    </tr>\n",
       "  </tbody>\n",
       "</table>\n",
       "<p>275 rows × 2 columns</p>\n",
       "</div>"
      ],
      "text/plain": [
       "             features        scores\n",
       "248  PULocationID_237  17791.006959\n",
       "247  PULocationID_236  17750.548582\n",
       "181  PULocationID_170  17251.440011\n",
       "173  PULocationID_162  15999.901749\n",
       "250  PULocationID_239  15712.925675\n",
       "..                ...           ...\n",
       "114  PULocationID_103      1.813995\n",
       "121  PULocationID_110      0.813602\n",
       "1              precip      0.470941\n",
       "235  PULocationID_224      0.036190\n",
       "52    PULocationID_41      0.025003\n",
       "\n",
       "[275 rows x 2 columns]"
      ]
     },
     "execution_count": 95,
     "metadata": {},
     "output_type": "execute_result"
    }
   ],
   "source": [
    "from sklearn.feature_selection import f_regression\n",
    "\n",
    "from sklearn.feature_selection import SelectKBest\n",
    "from sklearn.feature_selection import f_regression\n",
    "#%%\n",
    "# F-test\n",
    "f = SelectKBest(f_regression, k=len(xtrain.columns))\n",
    "f.fit(xtrain, ytrain)\n",
    "#%%\n",
    "# get the ranked features names and scores\n",
    "kbest_scores1 = pd.DataFrame({'features': f.get_feature_names_out(), 'scores': f.scores_})\n",
    "kbest_scores1 = kbest_scores1.sort_values('scores', ascending=False)\n",
    "kbest_scores1\n",
    "\n"
   ]
  },
  {
   "cell_type": "code",
   "execution_count": 92,
   "metadata": {},
   "outputs": [
    {
     "name": "stdout",
     "output_type": "stream",
     "text": [
      "training\n",
      "testing\n",
      "0.8799348469849553\n"
     ]
    }
   ],
   "source": [
    "import xgboost\n",
    "xtrain[\"precip\"] = pd.to_numeric(xtrain['precip'], errors='coerce')\n",
    "xtest[\"precip\"] = pd.to_numeric(xtrain['precip'], errors='coerce')\n",
    "r = xgboost.XGBRegressor()\n",
    "print(\"training\")\n",
    "r.fit(xtrain, ytrain)\n",
    "print(\"testing\")\n",
    "training_accuracy = r.score(xtrain, ytrain)\n",
    "print(training_accuracy)"
   ]
  },
  {
   "cell_type": "code",
   "execution_count": 94,
   "metadata": {},
   "outputs": [
    {
     "name": "stdout",
     "output_type": "stream",
     "text": [
      "MSE: 0.06\n",
      "RMSE: 0.24\n",
      "0.8710911130434095\n"
     ]
    }
   ],
   "source": [
    "\n",
    "ypred = r.predict(xtest)\n",
    "mse = mean_squared_error(ytest, ypred)\n",
    "\n",
    "print(\"MSE: %.2f\" % mse)\n",
    "print(\"RMSE: %.2f\" % (mse**(1/2.0)))\n",
    "testing_accuracy = r.score(xtest, ytest)\n",
    "print(testing_accuracy)"
   ]
  },
  {
   "cell_type": "code",
   "execution_count": 59,
   "metadata": {},
   "outputs": [
    {
     "name": "stderr",
     "output_type": "stream",
     "text": [
      "/opt/anaconda3/lib/python3.9/site-packages/joblib/externals/loky/process_executor.py:702: UserWarning: A worker stopped while some jobs were given to the executor. This can be caused by a too short worker timeout or by a memory leak.\n",
      "  warnings.warn(\n"
     ]
    },
    {
     "ename": "KeyboardInterrupt",
     "evalue": "",
     "output_type": "error",
     "traceback": [
      "\u001b[0;31m---------------------------------------------------------------------------\u001b[0m",
      "\u001b[0;31mKeyboardInterrupt\u001b[0m                         Traceback (most recent call last)",
      "\u001b[0;32m/var/folders/mk/5m0_ggk577s5d_q78b0zrg540000gn/T/ipykernel_87336/840616218.py\u001b[0m in \u001b[0;36m<module>\u001b[0;34m\u001b[0m\n\u001b[1;32m     24\u001b[0m \u001b[0;34m\u001b[0m\u001b[0m\n\u001b[1;32m     25\u001b[0m \u001b[0mgsearch\u001b[0m \u001b[0;34m=\u001b[0m \u001b[0mGridSearchCV\u001b[0m\u001b[0;34m(\u001b[0m\u001b[0mxgb\u001b[0m\u001b[0;34m,\u001b[0m \u001b[0mparam_grid\u001b[0m \u001b[0;34m=\u001b[0m \u001b[0mparam\u001b[0m\u001b[0;34m,\u001b[0m \u001b[0mn_jobs\u001b[0m\u001b[0;34m=\u001b[0m\u001b[0;34m-\u001b[0m\u001b[0;36m1\u001b[0m\u001b[0;34m,\u001b[0m \u001b[0mcv\u001b[0m\u001b[0;34m=\u001b[0m\u001b[0;36m5\u001b[0m\u001b[0;34m)\u001b[0m\u001b[0;34m\u001b[0m\u001b[0;34m\u001b[0m\u001b[0m\n\u001b[0;32m---> 26\u001b[0;31m \u001b[0mgsearch\u001b[0m\u001b[0;34m.\u001b[0m\u001b[0mfit\u001b[0m\u001b[0;34m(\u001b[0m\u001b[0mxtrain\u001b[0m\u001b[0;34m,\u001b[0m \u001b[0mytrain\u001b[0m\u001b[0;34m)\u001b[0m\u001b[0;34m\u001b[0m\u001b[0;34m\u001b[0m\u001b[0m\n\u001b[0m\u001b[1;32m     27\u001b[0m \u001b[0mprint\u001b[0m\u001b[0;34m(\u001b[0m\u001b[0mgsearch\u001b[0m\u001b[0;34m.\u001b[0m\u001b[0mgrid_scores_\u001b[0m\u001b[0;34m,\u001b[0m \u001b[0mgsearch\u001b[0m\u001b[0;34m.\u001b[0m\u001b[0mbest_params_\u001b[0m\u001b[0;34m,\u001b[0m \u001b[0mgsearch\u001b[0m\u001b[0;34m.\u001b[0m\u001b[0mbest_score_\u001b[0m\u001b[0;34m)\u001b[0m\u001b[0;34m\u001b[0m\u001b[0;34m\u001b[0m\u001b[0m\n",
      "\u001b[0;32m/opt/anaconda3/lib/python3.9/site-packages/sklearn/model_selection/_search.py\u001b[0m in \u001b[0;36mfit\u001b[0;34m(self, X, y, groups, **fit_params)\u001b[0m\n\u001b[1;32m    889\u001b[0m                 \u001b[0;32mreturn\u001b[0m \u001b[0mresults\u001b[0m\u001b[0;34m\u001b[0m\u001b[0;34m\u001b[0m\u001b[0m\n\u001b[1;32m    890\u001b[0m \u001b[0;34m\u001b[0m\u001b[0m\n\u001b[0;32m--> 891\u001b[0;31m             \u001b[0mself\u001b[0m\u001b[0;34m.\u001b[0m\u001b[0m_run_search\u001b[0m\u001b[0;34m(\u001b[0m\u001b[0mevaluate_candidates\u001b[0m\u001b[0;34m)\u001b[0m\u001b[0;34m\u001b[0m\u001b[0;34m\u001b[0m\u001b[0m\n\u001b[0m\u001b[1;32m    892\u001b[0m \u001b[0;34m\u001b[0m\u001b[0m\n\u001b[1;32m    893\u001b[0m             \u001b[0;31m# multimetric is determined here because in the case of a callable\u001b[0m\u001b[0;34m\u001b[0m\u001b[0;34m\u001b[0m\u001b[0m\n",
      "\u001b[0;32m/opt/anaconda3/lib/python3.9/site-packages/sklearn/model_selection/_search.py\u001b[0m in \u001b[0;36m_run_search\u001b[0;34m(self, evaluate_candidates)\u001b[0m\n\u001b[1;32m   1390\u001b[0m     \u001b[0;32mdef\u001b[0m \u001b[0m_run_search\u001b[0m\u001b[0;34m(\u001b[0m\u001b[0mself\u001b[0m\u001b[0;34m,\u001b[0m \u001b[0mevaluate_candidates\u001b[0m\u001b[0;34m)\u001b[0m\u001b[0;34m:\u001b[0m\u001b[0;34m\u001b[0m\u001b[0;34m\u001b[0m\u001b[0m\n\u001b[1;32m   1391\u001b[0m         \u001b[0;34m\"\"\"Search all candidates in param_grid\"\"\"\u001b[0m\u001b[0;34m\u001b[0m\u001b[0;34m\u001b[0m\u001b[0m\n\u001b[0;32m-> 1392\u001b[0;31m         \u001b[0mevaluate_candidates\u001b[0m\u001b[0;34m(\u001b[0m\u001b[0mParameterGrid\u001b[0m\u001b[0;34m(\u001b[0m\u001b[0mself\u001b[0m\u001b[0;34m.\u001b[0m\u001b[0mparam_grid\u001b[0m\u001b[0;34m)\u001b[0m\u001b[0;34m)\u001b[0m\u001b[0;34m\u001b[0m\u001b[0;34m\u001b[0m\u001b[0m\n\u001b[0m\u001b[1;32m   1393\u001b[0m \u001b[0;34m\u001b[0m\u001b[0m\n\u001b[1;32m   1394\u001b[0m \u001b[0;34m\u001b[0m\u001b[0m\n",
      "\u001b[0;32m/opt/anaconda3/lib/python3.9/site-packages/sklearn/model_selection/_search.py\u001b[0m in \u001b[0;36mevaluate_candidates\u001b[0;34m(candidate_params, cv, more_results)\u001b[0m\n\u001b[1;32m    836\u001b[0m                     )\n\u001b[1;32m    837\u001b[0m \u001b[0;34m\u001b[0m\u001b[0m\n\u001b[0;32m--> 838\u001b[0;31m                 out = parallel(\n\u001b[0m\u001b[1;32m    839\u001b[0m                     delayed(_fit_and_score)(\n\u001b[1;32m    840\u001b[0m                         \u001b[0mclone\u001b[0m\u001b[0;34m(\u001b[0m\u001b[0mbase_estimator\u001b[0m\u001b[0;34m)\u001b[0m\u001b[0;34m,\u001b[0m\u001b[0;34m\u001b[0m\u001b[0;34m\u001b[0m\u001b[0m\n",
      "\u001b[0;32m/opt/anaconda3/lib/python3.9/site-packages/joblib/parallel.py\u001b[0m in \u001b[0;36m__call__\u001b[0;34m(self, iterable)\u001b[0m\n\u001b[1;32m   1054\u001b[0m \u001b[0;34m\u001b[0m\u001b[0m\n\u001b[1;32m   1055\u001b[0m             \u001b[0;32mwith\u001b[0m \u001b[0mself\u001b[0m\u001b[0;34m.\u001b[0m\u001b[0m_backend\u001b[0m\u001b[0;34m.\u001b[0m\u001b[0mretrieval_context\u001b[0m\u001b[0;34m(\u001b[0m\u001b[0;34m)\u001b[0m\u001b[0;34m:\u001b[0m\u001b[0;34m\u001b[0m\u001b[0;34m\u001b[0m\u001b[0m\n\u001b[0;32m-> 1056\u001b[0;31m                 \u001b[0mself\u001b[0m\u001b[0;34m.\u001b[0m\u001b[0mretrieve\u001b[0m\u001b[0;34m(\u001b[0m\u001b[0;34m)\u001b[0m\u001b[0;34m\u001b[0m\u001b[0;34m\u001b[0m\u001b[0m\n\u001b[0m\u001b[1;32m   1057\u001b[0m             \u001b[0;31m# Make sure that we get a last message telling us we are done\u001b[0m\u001b[0;34m\u001b[0m\u001b[0;34m\u001b[0m\u001b[0m\n\u001b[1;32m   1058\u001b[0m             \u001b[0melapsed_time\u001b[0m \u001b[0;34m=\u001b[0m \u001b[0mtime\u001b[0m\u001b[0;34m.\u001b[0m\u001b[0mtime\u001b[0m\u001b[0;34m(\u001b[0m\u001b[0;34m)\u001b[0m \u001b[0;34m-\u001b[0m \u001b[0mself\u001b[0m\u001b[0;34m.\u001b[0m\u001b[0m_start_time\u001b[0m\u001b[0;34m\u001b[0m\u001b[0;34m\u001b[0m\u001b[0m\n",
      "\u001b[0;32m/opt/anaconda3/lib/python3.9/site-packages/joblib/parallel.py\u001b[0m in \u001b[0;36mretrieve\u001b[0;34m(self)\u001b[0m\n\u001b[1;32m    933\u001b[0m             \u001b[0;32mtry\u001b[0m\u001b[0;34m:\u001b[0m\u001b[0;34m\u001b[0m\u001b[0;34m\u001b[0m\u001b[0m\n\u001b[1;32m    934\u001b[0m                 \u001b[0;32mif\u001b[0m \u001b[0mgetattr\u001b[0m\u001b[0;34m(\u001b[0m\u001b[0mself\u001b[0m\u001b[0;34m.\u001b[0m\u001b[0m_backend\u001b[0m\u001b[0;34m,\u001b[0m \u001b[0;34m'supports_timeout'\u001b[0m\u001b[0;34m,\u001b[0m \u001b[0;32mFalse\u001b[0m\u001b[0;34m)\u001b[0m\u001b[0;34m:\u001b[0m\u001b[0;34m\u001b[0m\u001b[0;34m\u001b[0m\u001b[0m\n\u001b[0;32m--> 935\u001b[0;31m                     \u001b[0mself\u001b[0m\u001b[0;34m.\u001b[0m\u001b[0m_output\u001b[0m\u001b[0;34m.\u001b[0m\u001b[0mextend\u001b[0m\u001b[0;34m(\u001b[0m\u001b[0mjob\u001b[0m\u001b[0;34m.\u001b[0m\u001b[0mget\u001b[0m\u001b[0;34m(\u001b[0m\u001b[0mtimeout\u001b[0m\u001b[0;34m=\u001b[0m\u001b[0mself\u001b[0m\u001b[0;34m.\u001b[0m\u001b[0mtimeout\u001b[0m\u001b[0;34m)\u001b[0m\u001b[0;34m)\u001b[0m\u001b[0;34m\u001b[0m\u001b[0;34m\u001b[0m\u001b[0m\n\u001b[0m\u001b[1;32m    936\u001b[0m                 \u001b[0;32melse\u001b[0m\u001b[0;34m:\u001b[0m\u001b[0;34m\u001b[0m\u001b[0;34m\u001b[0m\u001b[0m\n\u001b[1;32m    937\u001b[0m                     \u001b[0mself\u001b[0m\u001b[0;34m.\u001b[0m\u001b[0m_output\u001b[0m\u001b[0;34m.\u001b[0m\u001b[0mextend\u001b[0m\u001b[0;34m(\u001b[0m\u001b[0mjob\u001b[0m\u001b[0;34m.\u001b[0m\u001b[0mget\u001b[0m\u001b[0;34m(\u001b[0m\u001b[0;34m)\u001b[0m\u001b[0;34m)\u001b[0m\u001b[0;34m\u001b[0m\u001b[0;34m\u001b[0m\u001b[0m\n",
      "\u001b[0;32m/opt/anaconda3/lib/python3.9/site-packages/joblib/_parallel_backends.py\u001b[0m in \u001b[0;36mwrap_future_result\u001b[0;34m(future, timeout)\u001b[0m\n\u001b[1;32m    540\u001b[0m         AsyncResults.get from multiprocessing.\"\"\"\n\u001b[1;32m    541\u001b[0m         \u001b[0;32mtry\u001b[0m\u001b[0;34m:\u001b[0m\u001b[0;34m\u001b[0m\u001b[0;34m\u001b[0m\u001b[0m\n\u001b[0;32m--> 542\u001b[0;31m             \u001b[0;32mreturn\u001b[0m \u001b[0mfuture\u001b[0m\u001b[0;34m.\u001b[0m\u001b[0mresult\u001b[0m\u001b[0;34m(\u001b[0m\u001b[0mtimeout\u001b[0m\u001b[0;34m=\u001b[0m\u001b[0mtimeout\u001b[0m\u001b[0;34m)\u001b[0m\u001b[0;34m\u001b[0m\u001b[0;34m\u001b[0m\u001b[0m\n\u001b[0m\u001b[1;32m    543\u001b[0m         \u001b[0;32mexcept\u001b[0m \u001b[0mCfTimeoutError\u001b[0m \u001b[0;32mas\u001b[0m \u001b[0me\u001b[0m\u001b[0;34m:\u001b[0m\u001b[0;34m\u001b[0m\u001b[0;34m\u001b[0m\u001b[0m\n\u001b[1;32m    544\u001b[0m             \u001b[0;32mraise\u001b[0m \u001b[0mTimeoutError\u001b[0m \u001b[0;32mfrom\u001b[0m \u001b[0me\u001b[0m\u001b[0;34m\u001b[0m\u001b[0;34m\u001b[0m\u001b[0m\n",
      "\u001b[0;32m/opt/anaconda3/lib/python3.9/concurrent/futures/_base.py\u001b[0m in \u001b[0;36mresult\u001b[0;34m(self, timeout)\u001b[0m\n\u001b[1;32m    438\u001b[0m                     \u001b[0;32mreturn\u001b[0m \u001b[0mself\u001b[0m\u001b[0;34m.\u001b[0m\u001b[0m__get_result\u001b[0m\u001b[0;34m(\u001b[0m\u001b[0;34m)\u001b[0m\u001b[0;34m\u001b[0m\u001b[0;34m\u001b[0m\u001b[0m\n\u001b[1;32m    439\u001b[0m \u001b[0;34m\u001b[0m\u001b[0m\n\u001b[0;32m--> 440\u001b[0;31m                 \u001b[0mself\u001b[0m\u001b[0;34m.\u001b[0m\u001b[0m_condition\u001b[0m\u001b[0;34m.\u001b[0m\u001b[0mwait\u001b[0m\u001b[0;34m(\u001b[0m\u001b[0mtimeout\u001b[0m\u001b[0;34m)\u001b[0m\u001b[0;34m\u001b[0m\u001b[0;34m\u001b[0m\u001b[0m\n\u001b[0m\u001b[1;32m    441\u001b[0m \u001b[0;34m\u001b[0m\u001b[0m\n\u001b[1;32m    442\u001b[0m                 \u001b[0;32mif\u001b[0m \u001b[0mself\u001b[0m\u001b[0;34m.\u001b[0m\u001b[0m_state\u001b[0m \u001b[0;32min\u001b[0m \u001b[0;34m[\u001b[0m\u001b[0mCANCELLED\u001b[0m\u001b[0;34m,\u001b[0m \u001b[0mCANCELLED_AND_NOTIFIED\u001b[0m\u001b[0;34m]\u001b[0m\u001b[0;34m:\u001b[0m\u001b[0;34m\u001b[0m\u001b[0;34m\u001b[0m\u001b[0m\n",
      "\u001b[0;32m/opt/anaconda3/lib/python3.9/threading.py\u001b[0m in \u001b[0;36mwait\u001b[0;34m(self, timeout)\u001b[0m\n\u001b[1;32m    310\u001b[0m         \u001b[0;32mtry\u001b[0m\u001b[0;34m:\u001b[0m    \u001b[0;31m# restore state no matter what (e.g., KeyboardInterrupt)\u001b[0m\u001b[0;34m\u001b[0m\u001b[0;34m\u001b[0m\u001b[0m\n\u001b[1;32m    311\u001b[0m             \u001b[0;32mif\u001b[0m \u001b[0mtimeout\u001b[0m \u001b[0;32mis\u001b[0m \u001b[0;32mNone\u001b[0m\u001b[0;34m:\u001b[0m\u001b[0;34m\u001b[0m\u001b[0;34m\u001b[0m\u001b[0m\n\u001b[0;32m--> 312\u001b[0;31m                 \u001b[0mwaiter\u001b[0m\u001b[0;34m.\u001b[0m\u001b[0macquire\u001b[0m\u001b[0;34m(\u001b[0m\u001b[0;34m)\u001b[0m\u001b[0;34m\u001b[0m\u001b[0;34m\u001b[0m\u001b[0m\n\u001b[0m\u001b[1;32m    313\u001b[0m                 \u001b[0mgotit\u001b[0m \u001b[0;34m=\u001b[0m \u001b[0;32mTrue\u001b[0m\u001b[0;34m\u001b[0m\u001b[0;34m\u001b[0m\u001b[0m\n\u001b[1;32m    314\u001b[0m             \u001b[0;32melse\u001b[0m\u001b[0;34m:\u001b[0m\u001b[0;34m\u001b[0m\u001b[0;34m\u001b[0m\u001b[0m\n",
      "\u001b[0;31mKeyboardInterrupt\u001b[0m: "
     ]
    }
   ],
   "source": [
    "# from sklearn.model_selection import GridSearchCV\n",
    "\n",
    "\n",
    "# xgb = xgboost.XGBRegressor(\n",
    "#  learning_rate =0.1,\n",
    "#  max_depth=5,\n",
    "#  min_child_weight=1,\n",
    "#  gamma=0,\n",
    "#  subsample=0.8,\n",
    "#  colsample_bytree=0.8,\n",
    "#  nthread=4,\n",
    "#  scale_pos_weight=1,\n",
    "#  seed=27)\n",
    "\n",
    "# param = {\n",
    "#  'max_depth':range(3,10),\n",
    "#  'min_child_weight':range(1,10),\n",
    "#  'gamma':[i/10.0 for i in range(0,5)],\n",
    "#  'subsample':[i/10.0 for i in range(6,10)],\n",
    "#  'colsample_bytree':[i/10.0 for i in range(6,10)],\n",
    "#  'reg_alpha':[0, 0.001, 0.005, 0.01, 0.05],\n",
    "#  'n_estimators': range(10, 100, 10)\n",
    "# }\n",
    "\n",
    "# gsearch = GridSearchCV(xgb, param_grid = param, n_jobs=-1, cv=5)\n",
    "# gsearch.fit(xtrain, ytrain)\n",
    "# print(gsearch.grid_scores_, gsearch.best_params_, gsearch.best_score_)"
   ]
  },
  {
   "cell_type": "code",
   "execution_count": null,
   "metadata": {},
   "outputs": [],
   "source": []
  }
 ],
 "metadata": {
  "kernelspec": {
   "display_name": "Python 3.9.7 ('base')",
   "language": "python",
   "name": "python3"
  },
  "language_info": {
   "codemirror_mode": {
    "name": "ipython",
    "version": 3
   },
   "file_extension": ".py",
   "mimetype": "text/x-python",
   "name": "python",
   "nbconvert_exporter": "python",
   "pygments_lexer": "ipython3",
   "version": "3.9.7"
  },
  "orig_nbformat": 4,
  "vscode": {
   "interpreter": {
    "hash": "40d3a090f54c6569ab1632332b64b2c03c39dcf918b08424e98f38b5ae0af88f"
   }
  }
 },
 "nbformat": 4,
 "nbformat_minor": 2
}
