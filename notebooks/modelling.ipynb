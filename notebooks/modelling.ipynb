{
 "cells": [
  {
   "cell_type": "markdown",
   "metadata": {},
   "source": [
    "# Importing required libraries"
   ]
  },
  {
   "cell_type": "code",
   "execution_count": 15,
   "metadata": {},
   "outputs": [],
   "source": [
    "from pyspark.sql import SparkSession\n",
    "from pyspark.sql import functions as F\n",
    "from sklearn.model_selection import RandomizedSearchCV\n",
    "from sklearn.ensemble import RandomForestRegressor\n",
    "from sklearn.preprocessing import OneHotEncoder\n",
    "from matplotlib import pyplot as plt\n",
    "import xgboost\n",
    "import pandas as pd\n",
    "import numpy as np\n",
    "import math"
   ]
  },
  {
   "cell_type": "code",
   "execution_count": 3,
   "metadata": {},
   "outputs": [
    {
     "name": "stdout",
     "output_type": "stream",
     "text": [
      "22/08/25 21:58:27 WARN Utils: Your hostname, kams-MacBook-Pro.local resolves to a loopback address: 127.0.0.1; using 10.13.117.182 instead (on interface en0)\n",
      "22/08/25 21:58:27 WARN Utils: Set SPARK_LOCAL_IP if you need to bind to another address\n"
     ]
    },
    {
     "name": "stderr",
     "output_type": "stream",
     "text": [
      "Setting default log level to \"WARN\".\n",
      "To adjust logging level use sc.setLogLevel(newLevel). For SparkR, use setLogLevel(newLevel).\n"
     ]
    },
    {
     "name": "stdout",
     "output_type": "stream",
     "text": [
      "22/08/25 21:58:27 WARN NativeCodeLoader: Unable to load native-hadoop library for your platform... using builtin-java classes where applicable\n",
      "22/08/25 21:58:28 WARN Utils: Service 'SparkUI' could not bind on port 4040. Attempting port 4041.\n"
     ]
    }
   ],
   "source": [
    "spark = (\n",
    "    SparkSession.builder.appName(\"preprocessing of taxi data\")\n",
    "    .config(\"spark.sql.repl.eagerEval.enabled\", True) \n",
    "    .config(\"spark.sql.parquet.cacheMetadata\", \"true\")\n",
    "    .config(\"spark.sql.session.timeZone\", \"Etc/UTC\")\n",
    "    .config(\"spark.driver.memory\", \"15g\")\n",
    "    .getOrCreate()\n",
    ")"
   ]
  },
  {
   "cell_type": "code",
   "execution_count": 4,
   "metadata": {},
   "outputs": [
    {
     "name": "stderr",
     "output_type": "stream",
     "text": [
      "                                                                                \r"
     ]
    }
   ],
   "source": [
    "modelling_sdf = spark.read.parquet('../data/curated/aggregated')"
   ]
  },
  {
   "cell_type": "markdown",
   "metadata": {},
   "source": [
    "# Train, vaild and test split is perfomed on the aggregate data.\n",
    "* 2016-01-01 to 2016-12-31 for train \n",
    "* 2017-01-01 to 2016-02-28 for valid \n",
    "* 2017-03-01 to 2017-05-31 for test"
   ]
  },
  {
   "cell_type": "code",
   "execution_count": 5,
   "metadata": {},
   "outputs": [
    {
     "name": "stderr",
     "output_type": "stream",
     "text": [
      "                                                                                \r"
     ]
    },
    {
     "name": "stdout",
     "output_type": "stream",
     "text": [
      "927997\n",
      "141709\n",
      "221574\n"
     ]
    }
   ],
   "source": [
    "train_sdf = modelling_sdf.filter(F.col(\"date\") <= \"2016-12-31\")\n",
    "valid_sdf = modelling_sdf.filter((F.col(\"date\") > \"2016-12-31\") & (F.col(\"date\") <= \"2017-02-28\"))\n",
    "test_sdf = modelling_sdf.filter((F.col(\"date\") > \"2017-02-28\") & (F.col(\"date\") <= \"2017-05-31\"))\n",
    "print(train_sdf.count())\n",
    "print(valid_sdf.count())\n",
    "print(test_sdf.count())"
   ]
  },
  {
   "cell_type": "markdown",
   "metadata": {},
   "source": [
    "# Obtaining features that are useful for training and logging the aggregate amount with base 10, to minimise the error by magnitude."
   ]
  },
  {
   "cell_type": "code",
   "execution_count": 10,
   "metadata": {},
   "outputs": [
    {
     "name": "stderr",
     "output_type": "stream",
     "text": [
      "                                                                                \r"
     ]
    }
   ],
   "source": [
    "train = train_sdf.toPandas()\n",
    "valid = valid_sdf.toPandas()\n",
    "test = test_sdf.toPandas()\n",
    "xname =  ['PULocationID',\n",
    "          'average_temperature',\n",
    "          'precip',\n",
    "          'date',\n",
    "          'time_float',\n",
    "          'cos_time',\n",
    "          'sin_time',\n",
    "          'date_float',\n",
    "          'cos_date',\n",
    "          'sin_date',\n",
    "          'month_float',\n",
    "          'cos_month',\n",
    "          'sin_month',\n",
    "          'holiday']\n",
    "xtrain = train[xname]\n",
    "xvalid = valid[xname]\n",
    "xtest = test[xname]\n",
    "\n",
    "# plus 1 to deal with values of 0\n",
    "ytrain = np.log10(train['high_value_trips'] + 1)\n",
    "yvalid = np.log10(valid['high_value_trips'] + 1)\n",
    "ytest = np.log10(test['high_value_trips'] + 1)"
   ]
  },
  {
   "cell_type": "code",
   "execution_count": 11,
   "metadata": {},
   "outputs": [
    {
     "name": "stderr",
     "output_type": "stream",
     "text": [
      "/var/folders/mk/5m0_ggk577s5d_q78b0zrg540000gn/T/ipykernel_81291/2318200597.py:19: PerformanceWarning: DataFrame is highly fragmented.  This is usually the result of calling `frame.insert` many times, which has poor performance.  Consider joining all columns at once using pd.concat(axis=1) instead.  To get a de-fragmented frame, use `newframe = frame.copy()`\n",
      "  data[str(col)] = new_col\n",
      "/var/folders/mk/5m0_ggk577s5d_q78b0zrg540000gn/T/ipykernel_81291/2318200597.py:19: PerformanceWarning: DataFrame is highly fragmented.  This is usually the result of calling `frame.insert` many times, which has poor performance.  Consider joining all columns at once using pd.concat(axis=1) instead.  To get a de-fragmented frame, use `newframe = frame.copy()`\n",
      "  data[str(col)] = new_col\n",
      "/var/folders/mk/5m0_ggk577s5d_q78b0zrg540000gn/T/ipykernel_81291/2318200597.py:19: PerformanceWarning: DataFrame is highly fragmented.  This is usually the result of calling `frame.insert` many times, which has poor performance.  Consider joining all columns at once using pd.concat(axis=1) instead.  To get a de-fragmented frame, use `newframe = frame.copy()`\n",
      "  data[str(col)] = new_col\n"
     ]
    }
   ],
   "source": [
    "ohe = OneHotEncoder(handle_unknown='ignore')\n",
    "\n",
    "def one_hot_encode(encoder, data, variable, fit):\n",
    "    \"\"\" Function to perform one hot encoding on categorical variable\n",
    "\n",
    "    Args:\n",
    "        encoder (object): object of one hot encoding\n",
    "        data (dataframe): data containing the variable to \n",
    "                          be one hot encoding\n",
    "        variable (string): string of variable name \n",
    "        fit (boolean): Flag for fitting or not\n",
    "\n",
    "    Returns:\n",
    "        dataframe : a dataframe consisiting of the one hot encoded\n",
    "                    variable\n",
    "    \"\"\"\n",
    "    ohe_data = data[[variable]]\n",
    "    if fit:\n",
    "        values = encoder.fit_transform(ohe_data).toarray()\n",
    "    else:\n",
    "        values = encoder.transform(ohe_data).toarray()\n",
    "\n",
    "    values = pd.DataFrame(values, columns=list(encoder.get_feature_names_out([variable])))\n",
    "\n",
    "    data = data.drop([variable], axis=1)\n",
    "\n",
    "    for col in values.columns:\n",
    "        new_col = values[col]\n",
    "        new_col.index = range(len(new_col))\n",
    "\n",
    "        data[str(col)] = new_col\n",
    "\n",
    "    return data\n",
    "# fit the one hot encoder using the training dataset and transform the \n",
    "# rest of the data set\n",
    "xtrain = one_hot_encode(ohe, xtrain, 'PULocationID', True)\n",
    "xvalid = one_hot_encode(ohe, xvalid, 'PULocationID', False)\n",
    "xtest = one_hot_encode(ohe, xtest, 'PULocationID', False)"
   ]
  },
  {
   "cell_type": "code",
   "execution_count": 12,
   "metadata": {},
   "outputs": [],
   "source": [
    "# copied the testing data set for visualisation of prediction with granularity \n",
    "# up to hourly per day\n",
    "visualise_test = xtest.copy(deep=True)"
   ]
  },
  {
   "cell_type": "code",
   "execution_count": 13,
   "metadata": {},
   "outputs": [],
   "source": [
    "xtrain = xtrain.drop(['date'], axis=1)\n",
    "xvalid = xvalid.drop(['date'], axis=1)\n",
    "xtest = xtest.drop(['date'], axis=1)"
   ]
  },
  {
   "cell_type": "markdown",
   "metadata": {},
   "source": [
    "# Random Forest training"
   ]
  },
  {
   "cell_type": "code",
   "execution_count": 10,
   "metadata": {},
   "outputs": [
    {
     "name": "stdout",
     "output_type": "stream",
     "text": [
      "fitting\n",
      "training\n",
      "R^2 (train) = 0.990, R^2 (valid) = 0.904, R^2 (test) = 0.887, RMSE (train) = 0.067, RMSE (valid) = 0.209, RMSE (test) = 0.223\n"
     ]
    }
   ],
   "source": [
    "from sklearn.metrics import mean_squared_error\n",
    "\n",
    "# checking accuracy with default value of hyperparameters\n",
    "reg = RandomForestRegressor()\n",
    "print(\"fitting\")\n",
    "reg.fit(xtrain,ytrain)\n",
    "print(\"training\")\n",
    "training_accuracy = reg.score(xtrain, ytrain)\n",
    "valid_accuracy = reg.score(xvalid, yvalid)\n",
    "testing_accuracy = reg.score(xtest, ytest)\n",
    "rmsetrain = np.sqrt(mean_squared_error(reg.predict(xtrain),ytrain))\n",
    "rmsevalid = np.sqrt(mean_squared_error(reg.predict(xvalid),yvalid))\n",
    "rmsetest = np.sqrt(mean_squared_error(reg.predict(xtest),ytest))\n",
    "print(\"R^2 (train) = %0.3f, R^2 (valid) = %0.3f, R^2 (test) = %0.3f, RMSE (train) = %0.3f, RMSE (valid) = %0.3f, RMSE (test) = %0.3f\" % \n",
    "        (training_accuracy, valid_accuracy, testing_accuracy, rmsetrain, rmsevalid, rmsetest))"
   ]
  },
  {
   "cell_type": "markdown",
   "metadata": {},
   "source": [
    "Due to the time taken to train the model being too long, i have decide to reduce the number of estimators and apply limits to dataset size, feature size, tree depth and number of trees."
   ]
  },
  {
   "cell_type": "code",
   "execution_count": 24,
   "metadata": {},
   "outputs": [
    {
     "name": "stderr",
     "output_type": "stream",
     "text": [
      "/opt/anaconda3/lib/python3.9/site-packages/joblib/externals/loky/process_executor.py:702: UserWarning: A worker stopped while some jobs were given to the executor. This can be caused by a too short worker timeout or by a memory leak.\n",
      "  warnings.warn(\n"
     ]
    },
    {
     "data": {
      "text/plain": [
       "{'n_estimators': 70,\n",
       " 'max_features': 'auto',\n",
       " 'max_depth': 100,\n",
       " 'bootstrap': True}"
      ]
     },
     "execution_count": 24,
     "metadata": {},
     "output_type": "execute_result"
    }
   ],
   "source": [
    "# Number of trees in random forest\n",
    "n_estimators = list(range(10, 100, 10))\n",
    "# Number of features to consider at every split\n",
    "max_features = ['auto', 'sqrt']\n",
    "# Maximum depth of exploration\n",
    "max_depth = list(range(10, 110, 10))\n",
    "max_depth.append(None)\n",
    "bootstrap = [True, False]\n",
    "\n",
    "random_grid = {'n_estimators': n_estimators,\n",
    "               'max_features': max_features,\n",
    "               'max_depth': max_depth,\n",
    "               'bootstrap': bootstrap}\n",
    "# utilise random search to reduce time of hyperparameter training\n",
    "rf_random = RandomizedSearchCV(estimator = reg, param_distributions = random_grid, n_iter = 50, cv = 2, n_jobs = -1)\n",
    "rf_random.fit(xtrain, ytrain)\n",
    "rf_random.best_params_"
   ]
  },
  {
   "cell_type": "markdown",
   "metadata": {},
   "source": [
    "Producing final results after tunning the model"
   ]
  },
  {
   "cell_type": "code",
   "execution_count": null,
   "metadata": {},
   "outputs": [],
   "source": [
    "rf_reg = RandomForestRegressor(n_estimators=70, max_features='auto', max_depth=100, bootstrap='True')\n",
    "rf_reg.fit(xtrain, ytrain)\n",
    "train_accuracy = rf_reg.score(xtrain, ytrain)\n",
    "rmsetrain = np.sqrt(mean_squared_error(rf_reg.predict(xtrain),ytrain))"
   ]
  },
  {
   "cell_type": "code",
   "execution_count": 41,
   "metadata": {},
   "outputs": [
    {
     "name": "stdout",
     "output_type": "stream",
     "text": [
      "0.9796782464859776 0.09646724749681594\n"
     ]
    }
   ],
   "source": [
    "print(train_accuracy, rmsetrain)"
   ]
  },
  {
   "cell_type": "code",
   "execution_count": 33,
   "metadata": {},
   "outputs": [
    {
     "name": "stdout",
     "output_type": "stream",
     "text": [
      "0.9834266722167857 0.08655891884218696\n"
     ]
    }
   ],
   "source": [
    "rf_reg.fit(xvalid, yvalid)\n",
    "valid_accuracy = rf_reg.score(xvalid, yvalid)\n",
    "rmsevalid = np.sqrt(mean_squared_error(rf_reg.predict(xvalid),yvalid))\n",
    "print(valid_accuracy, rmsevalid)"
   ]
  },
  {
   "cell_type": "code",
   "execution_count": 34,
   "metadata": {},
   "outputs": [
    {
     "name": "stdout",
     "output_type": "stream",
     "text": [
      "0.9822148187219975 0.08857673766800314\n"
     ]
    }
   ],
   "source": [
    "rf_reg.fit(xtest, ytest)\n",
    "test_accuracy = rf_reg.score(xtest, ytest)\n",
    "rmsetest = np.sqrt(mean_squared_error(rf_reg.predict(xtest),ytest))\n",
    "print(test_accuracy, rmsetest)"
   ]
  },
  {
   "cell_type": "markdown",
   "metadata": {},
   "source": [
    "# XGboost training"
   ]
  },
  {
   "cell_type": "code",
   "execution_count": 14,
   "metadata": {},
   "outputs": [
    {
     "name": "stdout",
     "output_type": "stream",
     "text": [
      "training\n",
      "testing\n",
      "0.8799348469849552\n"
     ]
    }
   ],
   "source": [
    "# check accuracy with default values of hyperparameters\n",
    "xtrain[\"precip\"] = pd.to_numeric(xtrain['precip'], errors='coerce')\n",
    "r = xgboost.XGBRegressor()\n",
    "print(\"training\")\n",
    "r.fit(xtrain, ytrain)\n",
    "print(\"testing\")\n",
    "training_accuracy = r.score(xtrain, ytrain)\n",
    "print(training_accuracy)"
   ]
  },
  {
   "cell_type": "code",
   "execution_count": 23,
   "metadata": {},
   "outputs": [
    {
     "name": "stdout",
     "output_type": "stream",
     "text": [
      "[09:40:06] WARNING: /Users/runner/work/xgboost/xgboost/python-package/build/temp.macosx-10.9-x86_64-3.7/xgboost/src/learner.cc:627: \n",
      "Parameters: { \"colsample_bylevel\", \"colsample_bynode\", \"colsample_bytree\", \"gamma\", \"grow_policy\", \"interaction_constraints\", \"max_bin\", \"max_cat_to_onehot\", \"max_delta_step\", \"max_depth\", \"max_leaves\", \"min_child_weight\", \"monotone_constraints\", \"num_parallel_tree\", \"predictor\", \"sampling_method\", \"subsample\", \"tree_method\" } might not be used.\n",
      "\n",
      "  This could be a false alarm, with some parameters getting used by language bindings but\n",
      "  then being mistakenly passed down to XGBoost core, or some parameter actually being used\n",
      "  but getting flagged wrongly here. Please open an issue if you find any such cases.\n",
      "\n",
      "\n",
      "[09:40:06] WARNING: /Users/runner/work/xgboost/xgboost/python-package/build/temp.macosx-10.9-x86_64-3.7/xgboost/src/learner.cc:627: \n",
      "Parameters: { \"colsample_bylevel\", \"colsample_bynode\", \"colsample_bytree\", \"gamma\", \"grow_policy\", \"interaction_constraints\", \"max_bin\", \"max_cat_to_onehot\", \"max_delta_step\", \"max_depth\", \"max_leaves\", \"min_child_weight\", \"monotone_constraints\", \"num_parallel_tree\", \"predictor\", \"sampling_method\", \"subsample\", \"tree_method\" } might not be used.\n",
      "\n",
      "  This could be a false alarm, with some parameters getting used by language bindings but\n",
      "  then being mistakenly passed down to XGBoost core, or some parameter actually being used\n",
      "  but getting flagged wrongly here. Please open an issue if you find any such cases.\n",
      "\n",
      "\n",
      "[09:40:06] WARNING: /Users/runner/work/xgboost/xgboost/python-package/build/temp.macosx-10.9-x86_64-3.7/xgboost/src/learner.cc:627: \n",
      "Parameters: { \"colsample_bylevel\", \"colsample_bynode\", \"colsample_bytree\", \"gamma\", \"grow_policy\", \"interaction_constraints\", \"max_bin\", \"max_cat_to_onehot\", \"max_delta_step\", \"max_depth\", \"max_leaves\", \"min_child_weight\", \"monotone_constraints\", \"num_parallel_tree\", \"predictor\", \"sampling_method\", \"subsample\", \"tree_method\" } might not be used.\n",
      "\n",
      "  This could be a false alarm, with some parameters getting used by language bindings but\n",
      "  then being mistakenly passed down to XGBoost core, or some parameter actually being used\n",
      "  but getting flagged wrongly here. Please open an issue if you find any such cases.\n",
      "\n",
      "\n",
      "[09:40:06] WARNING: /Users/runner/work/xgboost/xgboost/python-package/build/temp.macosx-10.9-x86_64-3.7/xgboost/src/learner.cc:627: \n",
      "Parameters: { \"colsample_bylevel\", \"colsample_bynode\", \"colsample_bytree\", \"gamma\", \"grow_policy\", \"interaction_constraints\", \"max_bin\", \"max_cat_to_onehot\", \"max_delta_step\", \"max_depth\", \"max_leaves\", \"min_child_weight\", \"monotone_constraints\", \"num_parallel_tree\", \"predictor\", \"sampling_method\", \"subsample\", \"tree_method\" } might not be used.\n",
      "\n",
      "  This could be a false alarm, with some parameters getting used by language bindings but\n",
      "  then being mistakenly passed down to XGBoost core, or some parameter actually being used\n",
      "  but getting flagged wrongly here. Please open an issue if you find any such cases.\n",
      "\n",
      "\n"
     ]
    },
    {
     "data": {
      "text/plain": [
       "{'n_estimators': 80,\n",
       " 'max_depth': 80,\n",
       " 'learning_rate': 0.05,\n",
       " 'booster': 'gbtree'}"
      ]
     },
     "execution_count": 23,
     "metadata": {},
     "output_type": "execute_result"
    }
   ],
   "source": [
    "# Number of trees in random forest\n",
    "n_estimators = list(range(10, 100, 10))\n",
    "# Maximum depth of exploration\n",
    "max_depth = list(range(10, 110, 10))\n",
    "# Rate of descending\n",
    "learning_rate = [0.05, 0.1, 0.20]\n",
    "booster = ['gbtree', 'gblinear', 'dart']\n",
    "\n",
    "random_grid = {'n_estimators': n_estimators,\n",
    "               'learning_rate': learning_rate,\n",
    "               'max_depth': max_depth,\n",
    "               'booster': booster}\n",
    "xgb_random = RandomizedSearchCV(estimator = r, param_distributions = random_grid, n_iter = 50, cv = 2, n_jobs = -1)\n",
    "xgb_random.fit(xtrain, ytrain)\n",
    "xgb_random.best_params_"
   ]
  },
  {
   "cell_type": "markdown",
   "metadata": {},
   "source": [
    "Producing final results after tunning the model"
   ]
  },
  {
   "cell_type": "code",
   "execution_count": 42,
   "metadata": {},
   "outputs": [
    {
     "name": "stdout",
     "output_type": "stream",
     "text": [
      "0.9771898594984134 0.10220291373955726\n"
     ]
    }
   ],
   "source": [
    "xgb_reg = xgboost.XGBRegressor(n_estimators=80, max_depth = 80, learning_rate=0.05, booster='gbtree')\n",
    "xtrain[\"precip\"] = pd.to_numeric(xtrain['precip'], errors='coerce')\n",
    "xgb_reg.fit(xtrain,ytrain)\n",
    "train_accuracy = xgb_reg.score(xtrain, ytrain)\n",
    "rmsetrain = np.sqrt(mean_squared_error(xgb_reg.predict(xtrain),ytrain))\n",
    "print(train_accuracy, rmsetrain)"
   ]
  },
  {
   "cell_type": "code",
   "execution_count": 32,
   "metadata": {},
   "outputs": [
    {
     "name": "stdout",
     "output_type": "stream",
     "text": [
      "0.9826724869777884 0.08850648236342418\n"
     ]
    }
   ],
   "source": [
    "xvalid[\"precip\"] = pd.to_numeric(xvalid['precip'], errors='coerce')\n",
    "xgb_reg.fit(xvalid,yvalid)\n",
    "valid_accuracy = xgb_reg.score(xvalid, yvalid)\n",
    "rmsevalid = np.sqrt(mean_squared_error(xgb_reg.predict(xvalid),yvalid))\n",
    "print(valid_accuracy, rmsevalid)"
   ]
  },
  {
   "cell_type": "code",
   "execution_count": 35,
   "metadata": {},
   "outputs": [
    {
     "name": "stdout",
     "output_type": "stream",
     "text": [
      "0.9823627281924397 0.08820764693023686\n"
     ]
    }
   ],
   "source": [
    "xgb_reg.fit(xtest, ytest)\n",
    "xtest[\"precip\"] = pd.to_numeric(xtest['precip'], errors='coerce')\n",
    "test_accuracy = xgb_reg.score(xtest, ytest)\n",
    "rmsetest = np.sqrt(mean_squared_error(xgb_reg.predict(xtest),ytest))\n",
    "print(test_accuracy, rmsetest)"
   ]
  },
  {
   "cell_type": "markdown",
   "metadata": {},
   "source": [
    "# Visualisation of predictions of high value trips made by both model"
   ]
  },
  {
   "cell_type": "code",
   "execution_count": 227,
   "metadata": {},
   "outputs": [],
   "source": [
    "visualise_test[\"date\"] = pd.to_datetime(visualise_test[\"date\"])"
   ]
  },
  {
   "cell_type": "markdown",
   "metadata": {},
   "source": [
    "A date and location is chosen at random, and predictions are made by both models"
   ]
  },
  {
   "cell_type": "code",
   "execution_count": 228,
   "metadata": {},
   "outputs": [],
   "source": [
    "# Selections of the data related to the location and date\n",
    "visualise_test = visualise_test.loc[(visualise_test[\"PULocationID_145\"] == 1) & (visualise_test[\"date\"] == \"2017-04-20\")]\n",
    "visualise_test = visualise_test.drop(['date'], axis=1)\n",
    "visualise_test[\"precip\"] = pd.to_numeric(visualise_test['precip'], errors='coerce')\n",
    "# model predictions\n",
    "rf_pred_vis = rf_reg.predict(visualise_test)\n",
    "xgb_pred_vis = xgb_reg.predict(visualise_test)"
   ]
  },
  {
   "cell_type": "code",
   "execution_count": 328,
   "metadata": {},
   "outputs": [],
   "source": [
    "# actual amount\n",
    "y_vis = ytest.iloc[visualise_test.index]"
   ]
  },
  {
   "cell_type": "code",
   "execution_count": 329,
   "metadata": {},
   "outputs": [],
   "source": [
    "# allow xticks to be presented in hours\n",
    "HOURS = [f'{str(hr).zfill(2)}:00' for hr in range(24)]\n",
    "# exponential transformation is performed and a floor function is performed to better visualise the prediction.\n",
    "result = pd.DataFrame(np.floor(np.power(10,np.column_stack((rf_pred_vis, xgb_pred_vis))) - 1).astype(int), index=HOURS)"
   ]
  },
  {
   "cell_type": "code",
   "execution_count": 330,
   "metadata": {},
   "outputs": [
    {
     "data": {
      "text/html": [
       "<div>\n",
       "<style scoped>\n",
       "    .dataframe tbody tr th:only-of-type {\n",
       "        vertical-align: middle;\n",
       "    }\n",
       "\n",
       "    .dataframe tbody tr th {\n",
       "        vertical-align: top;\n",
       "    }\n",
       "\n",
       "    .dataframe thead th {\n",
       "        text-align: right;\n",
       "    }\n",
       "</style>\n",
       "<table border=\"1\" class=\"dataframe\">\n",
       "  <thead>\n",
       "    <tr style=\"text-align: right;\">\n",
       "      <th></th>\n",
       "      <th>0</th>\n",
       "    </tr>\n",
       "  </thead>\n",
       "  <tbody>\n",
       "    <tr>\n",
       "      <th>0</th>\n",
       "      <td>0.602060</td>\n",
       "    </tr>\n",
       "    <tr>\n",
       "      <th>1</th>\n",
       "      <td>0.778151</td>\n",
       "    </tr>\n",
       "    <tr>\n",
       "      <th>2</th>\n",
       "      <td>0.301030</td>\n",
       "    </tr>\n",
       "    <tr>\n",
       "      <th>3</th>\n",
       "      <td>0.477121</td>\n",
       "    </tr>\n",
       "    <tr>\n",
       "      <th>4</th>\n",
       "      <td>0.602060</td>\n",
       "    </tr>\n",
       "    <tr>\n",
       "      <th>5</th>\n",
       "      <td>1.000000</td>\n",
       "    </tr>\n",
       "    <tr>\n",
       "      <th>6</th>\n",
       "      <td>0.778151</td>\n",
       "    </tr>\n",
       "    <tr>\n",
       "      <th>7</th>\n",
       "      <td>0.602060</td>\n",
       "    </tr>\n",
       "    <tr>\n",
       "      <th>8</th>\n",
       "      <td>0.477121</td>\n",
       "    </tr>\n",
       "    <tr>\n",
       "      <th>9</th>\n",
       "      <td>0.698970</td>\n",
       "    </tr>\n",
       "    <tr>\n",
       "      <th>10</th>\n",
       "      <td>0.477121</td>\n",
       "    </tr>\n",
       "    <tr>\n",
       "      <th>11</th>\n",
       "      <td>0.301030</td>\n",
       "    </tr>\n",
       "    <tr>\n",
       "      <th>12</th>\n",
       "      <td>0.602060</td>\n",
       "    </tr>\n",
       "    <tr>\n",
       "      <th>13</th>\n",
       "      <td>0.698970</td>\n",
       "    </tr>\n",
       "    <tr>\n",
       "      <th>14</th>\n",
       "      <td>0.301030</td>\n",
       "    </tr>\n",
       "    <tr>\n",
       "      <th>15</th>\n",
       "      <td>0.477121</td>\n",
       "    </tr>\n",
       "    <tr>\n",
       "      <th>16</th>\n",
       "      <td>0.602060</td>\n",
       "    </tr>\n",
       "    <tr>\n",
       "      <th>17</th>\n",
       "      <td>0.477121</td>\n",
       "    </tr>\n",
       "    <tr>\n",
       "      <th>18</th>\n",
       "      <td>0.602060</td>\n",
       "    </tr>\n",
       "    <tr>\n",
       "      <th>19</th>\n",
       "      <td>0.602060</td>\n",
       "    </tr>\n",
       "    <tr>\n",
       "      <th>20</th>\n",
       "      <td>0.301030</td>\n",
       "    </tr>\n",
       "    <tr>\n",
       "      <th>21</th>\n",
       "      <td>0.301030</td>\n",
       "    </tr>\n",
       "    <tr>\n",
       "      <th>22</th>\n",
       "      <td>0.778151</td>\n",
       "    </tr>\n",
       "    <tr>\n",
       "      <th>23</th>\n",
       "      <td>0.903090</td>\n",
       "    </tr>\n",
       "  </tbody>\n",
       "</table>\n",
       "</div>"
      ],
      "text/plain": [
       "           0\n",
       "0   0.602060\n",
       "1   0.778151\n",
       "2   0.301030\n",
       "3   0.477121\n",
       "4   0.602060\n",
       "5   1.000000\n",
       "6   0.778151\n",
       "7   0.602060\n",
       "8   0.477121\n",
       "9   0.698970\n",
       "10  0.477121\n",
       "11  0.301030\n",
       "12  0.602060\n",
       "13  0.698970\n",
       "14  0.301030\n",
       "15  0.477121\n",
       "16  0.602060\n",
       "17  0.477121\n",
       "18  0.602060\n",
       "19  0.602060\n",
       "20  0.301030\n",
       "21  0.301030\n",
       "22  0.778151\n",
       "23  0.903090"
      ]
     },
     "execution_count": 330,
     "metadata": {},
     "output_type": "execute_result"
    }
   ],
   "source": [
    "y_vis = pd.DataFrame(list(y_vis))\n",
    "y_vis"
   ]
  },
  {
   "cell_type": "code",
   "execution_count": 331,
   "metadata": {},
   "outputs": [
    {
     "data": {
      "text/html": [
       "<div>\n",
       "<style scoped>\n",
       "    .dataframe tbody tr th:only-of-type {\n",
       "        vertical-align: middle;\n",
       "    }\n",
       "\n",
       "    .dataframe tbody tr th {\n",
       "        vertical-align: top;\n",
       "    }\n",
       "\n",
       "    .dataframe thead th {\n",
       "        text-align: right;\n",
       "    }\n",
       "</style>\n",
       "<table border=\"1\" class=\"dataframe\">\n",
       "  <thead>\n",
       "    <tr style=\"text-align: right;\">\n",
       "      <th></th>\n",
       "      <th>0</th>\n",
       "      <th>1</th>\n",
       "      <th>2</th>\n",
       "    </tr>\n",
       "  </thead>\n",
       "  <tbody>\n",
       "    <tr>\n",
       "      <th>00:00</th>\n",
       "      <td>7</td>\n",
       "      <td>6</td>\n",
       "      <td>0.602060</td>\n",
       "    </tr>\n",
       "    <tr>\n",
       "      <th>01:00</th>\n",
       "      <td>8</td>\n",
       "      <td>7</td>\n",
       "      <td>0.778151</td>\n",
       "    </tr>\n",
       "    <tr>\n",
       "      <th>02:00</th>\n",
       "      <td>1</td>\n",
       "      <td>2</td>\n",
       "      <td>0.301030</td>\n",
       "    </tr>\n",
       "    <tr>\n",
       "      <th>03:00</th>\n",
       "      <td>1</td>\n",
       "      <td>1</td>\n",
       "      <td>0.477121</td>\n",
       "    </tr>\n",
       "    <tr>\n",
       "      <th>04:00</th>\n",
       "      <td>4</td>\n",
       "      <td>4</td>\n",
       "      <td>0.602060</td>\n",
       "    </tr>\n",
       "    <tr>\n",
       "      <th>05:00</th>\n",
       "      <td>8</td>\n",
       "      <td>6</td>\n",
       "      <td>1.000000</td>\n",
       "    </tr>\n",
       "    <tr>\n",
       "      <th>06:00</th>\n",
       "      <td>4</td>\n",
       "      <td>3</td>\n",
       "      <td>0.778151</td>\n",
       "    </tr>\n",
       "    <tr>\n",
       "      <th>07:00</th>\n",
       "      <td>3</td>\n",
       "      <td>2</td>\n",
       "      <td>0.602060</td>\n",
       "    </tr>\n",
       "    <tr>\n",
       "      <th>08:00</th>\n",
       "      <td>2</td>\n",
       "      <td>4</td>\n",
       "      <td>0.477121</td>\n",
       "    </tr>\n",
       "    <tr>\n",
       "      <th>09:00</th>\n",
       "      <td>3</td>\n",
       "      <td>4</td>\n",
       "      <td>0.698970</td>\n",
       "    </tr>\n",
       "    <tr>\n",
       "      <th>10:00</th>\n",
       "      <td>3</td>\n",
       "      <td>2</td>\n",
       "      <td>0.477121</td>\n",
       "    </tr>\n",
       "    <tr>\n",
       "      <th>11:00</th>\n",
       "      <td>1</td>\n",
       "      <td>1</td>\n",
       "      <td>0.301030</td>\n",
       "    </tr>\n",
       "    <tr>\n",
       "      <th>12:00</th>\n",
       "      <td>5</td>\n",
       "      <td>5</td>\n",
       "      <td>0.602060</td>\n",
       "    </tr>\n",
       "    <tr>\n",
       "      <th>13:00</th>\n",
       "      <td>1</td>\n",
       "      <td>2</td>\n",
       "      <td>0.698970</td>\n",
       "    </tr>\n",
       "    <tr>\n",
       "      <th>14:00</th>\n",
       "      <td>2</td>\n",
       "      <td>2</td>\n",
       "      <td>0.301030</td>\n",
       "    </tr>\n",
       "    <tr>\n",
       "      <th>15:00</th>\n",
       "      <td>1</td>\n",
       "      <td>1</td>\n",
       "      <td>0.477121</td>\n",
       "    </tr>\n",
       "    <tr>\n",
       "      <th>16:00</th>\n",
       "      <td>3</td>\n",
       "      <td>2</td>\n",
       "      <td>0.602060</td>\n",
       "    </tr>\n",
       "    <tr>\n",
       "      <th>17:00</th>\n",
       "      <td>1</td>\n",
       "      <td>1</td>\n",
       "      <td>0.477121</td>\n",
       "    </tr>\n",
       "    <tr>\n",
       "      <th>18:00</th>\n",
       "      <td>0</td>\n",
       "      <td>0</td>\n",
       "      <td>0.602060</td>\n",
       "    </tr>\n",
       "    <tr>\n",
       "      <th>19:00</th>\n",
       "      <td>1</td>\n",
       "      <td>2</td>\n",
       "      <td>0.602060</td>\n",
       "    </tr>\n",
       "    <tr>\n",
       "      <th>20:00</th>\n",
       "      <td>7</td>\n",
       "      <td>4</td>\n",
       "      <td>0.301030</td>\n",
       "    </tr>\n",
       "    <tr>\n",
       "      <th>21:00</th>\n",
       "      <td>1</td>\n",
       "      <td>0</td>\n",
       "      <td>0.301030</td>\n",
       "    </tr>\n",
       "    <tr>\n",
       "      <th>22:00</th>\n",
       "      <td>3</td>\n",
       "      <td>3</td>\n",
       "      <td>0.778151</td>\n",
       "    </tr>\n",
       "    <tr>\n",
       "      <th>23:00</th>\n",
       "      <td>9</td>\n",
       "      <td>7</td>\n",
       "      <td>0.903090</td>\n",
       "    </tr>\n",
       "  </tbody>\n",
       "</table>\n",
       "</div>"
      ],
      "text/plain": [
       "       0  1         2\n",
       "00:00  7  6  0.602060\n",
       "01:00  8  7  0.778151\n",
       "02:00  1  2  0.301030\n",
       "03:00  1  1  0.477121\n",
       "04:00  4  4  0.602060\n",
       "05:00  8  6  1.000000\n",
       "06:00  4  3  0.778151\n",
       "07:00  3  2  0.602060\n",
       "08:00  2  4  0.477121\n",
       "09:00  3  4  0.698970\n",
       "10:00  3  2  0.477121\n",
       "11:00  1  1  0.301030\n",
       "12:00  5  5  0.602060\n",
       "13:00  1  2  0.698970\n",
       "14:00  2  2  0.301030\n",
       "15:00  1  1  0.477121\n",
       "16:00  3  2  0.602060\n",
       "17:00  1  1  0.477121\n",
       "18:00  0  0  0.602060\n",
       "19:00  1  2  0.602060\n",
       "20:00  7  4  0.301030\n",
       "21:00  1  0  0.301030\n",
       "22:00  3  3  0.778151\n",
       "23:00  9  7  0.903090"
      ]
     },
     "execution_count": 331,
     "metadata": {},
     "output_type": "execute_result"
    }
   ],
   "source": [
    "# combining predictions and actual amount\n",
    "result.insert(2, '2', y_vis, True)\n",
    "result"
   ]
  },
  {
   "cell_type": "code",
   "execution_count": 332,
   "metadata": {},
   "outputs": [],
   "source": [
    "# convert all value to the same scale\n",
    "result['2'] = np.floor(np.power(10, result['2']) - 1).astype(int)\n",
    "result.columns = ['Random Forest Prediction', 'XGboost prediction', 'Actual amount of high value trips']"
   ]
  },
  {
   "cell_type": "code",
   "execution_count": 342,
   "metadata": {},
   "outputs": [
    {
     "data": {
      "image/png": "[encoded data removed]",
      "text/plain": [
       "<Figure size 1440x720 with 1 Axes>"
      ]
     },
     "metadata": {
      "needs_background": "light"
     },
     "output_type": "display_data"
    }
   ],
   "source": [
    "# Plot of the predictions\n",
    "text = \"Predictions of high value trips against actual amount in Hunters Point on April 20th\"\n",
    "ax = result.plot.bar(rot=0, \n",
    "                    figsize=(20,10)).get_figure()\n",
    "plt.xticks(fontsize=14)\n",
    "plt.yticks(fontsize=14)\n",
    "plt.xlabel(\"Hours\", fontsize=16)\n",
    "plt.ylabel(\"Amount of high value trips\", fontsize=16)\n",
    "plt.title(text, fontsize=17)\n",
    "plt.legend(fontsize=14)\n",
    "ax.savefig(\"../plots/predictions.png\")"
   ]
  },
  {
   "cell_type": "code",
   "execution_count": null,
   "metadata": {},
   "outputs": [],
   "source": []
  }
 ],
 "metadata": {
  "kernelspec": {
   "display_name": "Python 3.9.7 ('base')",
   "language": "python",
   "name": "python3"
  },
  "language_info": {
   "codemirror_mode": {
    "name": "ipython",
    "version": 3
   },
   "file_extension": ".py",
   "mimetype": "text/x-python",
   "name": "python",
   "nbconvert_exporter": "python",
   "pygments_lexer": "ipython3",
   "version": "3.9.7"
  },
  "orig_nbformat": 4,
  "vscode": {
   "interpreter": {
    "hash": "40d3a090f54c6569ab1632332b64b2c03c39dcf918b08424e98f38b5ae0af88f"
   }
  }
 },
 "nbformat": 4,
 "nbformat_minor": 2
}
